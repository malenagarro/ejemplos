{
  "nbformat": 4,
  "nbformat_minor": 0,
  "metadata": {
    "colab": {
      "provenance": []
    },
    "kernelspec": {
      "name": "python3",
      "display_name": "Python 3"
    },
    "language_info": {
      "name": "python"
    }
  },
  "cells": [
    {
      "cell_type": "markdown",
      "metadata": {
        "id": "UJxPpf9lEuKc"
      },
      "source": [
        "# ¿Cómo podemos controlar el creciente número de accidentes en Nueva York?"
      ]
    },
    {
      "cell_type": "code",
      "execution_count": 1,
      "metadata": {
        "id": "gxNgIL_hEuKn"
      },
      "outputs": [],
      "source": [
        "import json\n",
        "import requests\n",
        "from bs4 import BeautifulSoup\n",
        "import pandas as pd\n",
        "import matplotlib.pyplot as plt\n",
        "import seaborn as sns\n",
        "import numpy"
      ]
    },
    {
      "cell_type": "markdown",
      "metadata": {
        "id": "0GM6PGODEuKz"
      },
      "source": [
        "## Obteniendo los datos relevantes"
      ]
    },
    {
      "cell_type": "markdown",
      "metadata": {
        "id": "BrujMMW3EuK0"
      },
      "source": [
        "El cliente ha solicitado un análisis de la relación accidentes-área de los distritos. Los datos del municipio se almacenan en un archivo JSON en la carpeta ```datos```."
      ]
    },
    {
      "cell_type": "markdown",
      "metadata": {
        "id": "ReHKSVQ2EuK1"
      },
      "source": [
        "### Pregunta (5 min):\n",
        "\n",
        "Utilice la función ```json.load()``` para cargar el archivo ```borough_data.json``` como diccionario."
      ]
    },
    {
      "cell_type": "markdown",
      "metadata": {
        "id": "k0buMqFXEuK2"
      },
      "source": [
        "**Respuesta.** "
      ]
    },
    {
      "cell_type": "code",
      "execution_count": 26,
      "metadata": {
        "id": "XdgxCUfMEuK4",
        "outputId": "3fd51a6a-9d6d-4ff2-f8f3-d4bbab2c011a",
        "colab": {
          "base_uri": "https://localhost:8080/"
        }
      },
      "outputs": [
        {
          "output_type": "execute_result",
          "data": {
            "text/plain": [
              "{'the bronx': {'name': 'the bronx', 'population': 1471160.0, 'area': 42.1},\n",
              " 'brooklyn': {'name': 'brooklyn', 'population': 2648771.0, 'area': 70.82},\n",
              " 'manhattan': {'name': 'manhattan', 'population': 1664727.0, 'area': 22.83},\n",
              " 'queens': {'name': 'queens', 'population': 2358582.0, 'area': 108.53},\n",
              " 'staten island': {'name': 'staten island',\n",
              "  'population': 479458.0,\n",
              "  'area': 58.37}}"
            ]
          },
          "metadata": {},
          "execution_count": 26
        }
      ],
      "source": [
        "with open('borough_data.json') as f:\n",
        "    borough_data=json.load(f)\n",
        "    \n",
        "borough_data"
      ]
    },
    {
      "cell_type": "code",
      "source": [
        "# Tambien puede leerse como tabla con pandas:\n",
        "pd.read_json(\"borough_data.json\")"
      ],
      "metadata": {
        "colab": {
          "base_uri": "https://localhost:8080/",
          "height": 143
        },
        "id": "EbIf5DosWX8G",
        "outputId": "947de3db-20cd-4bd1-8308-1e359002a84c"
      },
      "execution_count": 5,
      "outputs": [
        {
          "output_type": "execute_result",
          "data": {
            "text/plain": [
              "            the bronx   brooklyn  manhattan     queens  staten island\n",
              "name        the bronx   brooklyn  manhattan     queens  staten island\n",
              "population  1471160.0  2648771.0  1664727.0  2358582.0       479458.0\n",
              "area             42.1      70.82      22.83     108.53          58.37"
            ],
            "text/html": [
              "\n",
              "  <div id=\"df-7c405541-da0f-4d1e-9167-638834a2384c\">\n",
              "    <div class=\"colab-df-container\">\n",
              "      <div>\n",
              "<style scoped>\n",
              "    .dataframe tbody tr th:only-of-type {\n",
              "        vertical-align: middle;\n",
              "    }\n",
              "\n",
              "    .dataframe tbody tr th {\n",
              "        vertical-align: top;\n",
              "    }\n",
              "\n",
              "    .dataframe thead th {\n",
              "        text-align: right;\n",
              "    }\n",
              "</style>\n",
              "<table border=\"1\" class=\"dataframe\">\n",
              "  <thead>\n",
              "    <tr style=\"text-align: right;\">\n",
              "      <th></th>\n",
              "      <th>the bronx</th>\n",
              "      <th>brooklyn</th>\n",
              "      <th>manhattan</th>\n",
              "      <th>queens</th>\n",
              "      <th>staten island</th>\n",
              "    </tr>\n",
              "  </thead>\n",
              "  <tbody>\n",
              "    <tr>\n",
              "      <th>name</th>\n",
              "      <td>the bronx</td>\n",
              "      <td>brooklyn</td>\n",
              "      <td>manhattan</td>\n",
              "      <td>queens</td>\n",
              "      <td>staten island</td>\n",
              "    </tr>\n",
              "    <tr>\n",
              "      <th>population</th>\n",
              "      <td>1471160.0</td>\n",
              "      <td>2648771.0</td>\n",
              "      <td>1664727.0</td>\n",
              "      <td>2358582.0</td>\n",
              "      <td>479458.0</td>\n",
              "    </tr>\n",
              "    <tr>\n",
              "      <th>area</th>\n",
              "      <td>42.1</td>\n",
              "      <td>70.82</td>\n",
              "      <td>22.83</td>\n",
              "      <td>108.53</td>\n",
              "      <td>58.37</td>\n",
              "    </tr>\n",
              "  </tbody>\n",
              "</table>\n",
              "</div>\n",
              "      <button class=\"colab-df-convert\" onclick=\"convertToInteractive('df-7c405541-da0f-4d1e-9167-638834a2384c')\"\n",
              "              title=\"Convert this dataframe to an interactive table.\"\n",
              "              style=\"display:none;\">\n",
              "        \n",
              "  <svg xmlns=\"http://www.w3.org/2000/svg\" height=\"24px\"viewBox=\"0 0 24 24\"\n",
              "       width=\"24px\">\n",
              "    <path d=\"M0 0h24v24H0V0z\" fill=\"none\"/>\n",
              "    <path d=\"M18.56 5.44l.94 2.06.94-2.06 2.06-.94-2.06-.94-.94-2.06-.94 2.06-2.06.94zm-11 1L8.5 8.5l.94-2.06 2.06-.94-2.06-.94L8.5 2.5l-.94 2.06-2.06.94zm10 10l.94 2.06.94-2.06 2.06-.94-2.06-.94-.94-2.06-.94 2.06-2.06.94z\"/><path d=\"M17.41 7.96l-1.37-1.37c-.4-.4-.92-.59-1.43-.59-.52 0-1.04.2-1.43.59L10.3 9.45l-7.72 7.72c-.78.78-.78 2.05 0 2.83L4 21.41c.39.39.9.59 1.41.59.51 0 1.02-.2 1.41-.59l7.78-7.78 2.81-2.81c.8-.78.8-2.07 0-2.86zM5.41 20L4 18.59l7.72-7.72 1.47 1.35L5.41 20z\"/>\n",
              "  </svg>\n",
              "      </button>\n",
              "      \n",
              "  <style>\n",
              "    .colab-df-container {\n",
              "      display:flex;\n",
              "      flex-wrap:wrap;\n",
              "      gap: 12px;\n",
              "    }\n",
              "\n",
              "    .colab-df-convert {\n",
              "      background-color: #E8F0FE;\n",
              "      border: none;\n",
              "      border-radius: 50%;\n",
              "      cursor: pointer;\n",
              "      display: none;\n",
              "      fill: #1967D2;\n",
              "      height: 32px;\n",
              "      padding: 0 0 0 0;\n",
              "      width: 32px;\n",
              "    }\n",
              "\n",
              "    .colab-df-convert:hover {\n",
              "      background-color: #E2EBFA;\n",
              "      box-shadow: 0px 1px 2px rgba(60, 64, 67, 0.3), 0px 1px 3px 1px rgba(60, 64, 67, 0.15);\n",
              "      fill: #174EA6;\n",
              "    }\n",
              "\n",
              "    [theme=dark] .colab-df-convert {\n",
              "      background-color: #3B4455;\n",
              "      fill: #D2E3FC;\n",
              "    }\n",
              "\n",
              "    [theme=dark] .colab-df-convert:hover {\n",
              "      background-color: #434B5C;\n",
              "      box-shadow: 0px 1px 3px 1px rgba(0, 0, 0, 0.15);\n",
              "      filter: drop-shadow(0px 1px 2px rgba(0, 0, 0, 0.3));\n",
              "      fill: #FFFFFF;\n",
              "    }\n",
              "  </style>\n",
              "\n",
              "      <script>\n",
              "        const buttonEl =\n",
              "          document.querySelector('#df-7c405541-da0f-4d1e-9167-638834a2384c button.colab-df-convert');\n",
              "        buttonEl.style.display =\n",
              "          google.colab.kernel.accessAllowed ? 'block' : 'none';\n",
              "\n",
              "        async function convertToInteractive(key) {\n",
              "          const element = document.querySelector('#df-7c405541-da0f-4d1e-9167-638834a2384c');\n",
              "          const dataTable =\n",
              "            await google.colab.kernel.invokeFunction('convertToInteractive',\n",
              "                                                     [key], {});\n",
              "          if (!dataTable) return;\n",
              "\n",
              "          const docLinkHtml = 'Like what you see? Visit the ' +\n",
              "            '<a target=\"_blank\" href=https://colab.research.google.com/notebooks/data_table.ipynb>data table notebook</a>'\n",
              "            + ' to learn more about interactive tables.';\n",
              "          element.innerHTML = '';\n",
              "          dataTable['output_type'] = 'display_data';\n",
              "          await google.colab.output.renderOutput(dataTable, element);\n",
              "          const docLink = document.createElement('div');\n",
              "          docLink.innerHTML = docLinkHtml;\n",
              "          element.appendChild(docLink);\n",
              "        }\n",
              "      </script>\n",
              "    </div>\n",
              "  </div>\n",
              "  "
            ]
          },
          "metadata": {},
          "execution_count": 5
        }
      ]
    },
    {
      "cell_type": "markdown",
      "metadata": {
        "id": "ukC48lBSEuK6"
      },
      "source": [
        "### Pregunta (5 min):\n",
        "De manera similar, use la función pandas ```read_csv()``` para cargar el archivo ```accidentes.csv``` como un DataFrame. Nombra este DataFrame ```df```.\n"
      ]
    },
    {
      "cell_type": "markdown",
      "metadata": {
        "id": "HYagz903EuK6"
      },
      "source": [
        "**Answer.** "
      ]
    },
    {
      "cell_type": "code",
      "execution_count": 70,
      "metadata": {
        "id": "lkd7SQ5fEuK8",
        "outputId": "b8f27cc5-5549-467c-f196-b70100836fdb",
        "colab": {
          "base_uri": "https://localhost:8080/"
        }
      },
      "outputs": [
        {
          "output_type": "execute_result",
          "data": {
            "text/plain": [
              "pandas.core.frame.DataFrame"
            ]
          },
          "metadata": {},
          "execution_count": 70
        }
      ],
      "source": [
        "df=pd.read_csv('accidents.csv',delimiter=\";\")\n",
        "type(df)"
      ]
    },
    {
      "cell_type": "markdown",
      "metadata": {
        "id": "tCKYlzqaEuK9"
      },
      "source": [
        "## Overview de la data"
      ]
    },
    {
      "cell_type": "markdown",
      "metadata": {
        "id": "IlktF0UOEuK9"
      },
      "source": [
        "Analizemos las columnas presentes en el data frame"
      ]
    },
    {
      "cell_type": "code",
      "execution_count": 7,
      "metadata": {
        "id": "HoYwkHpIEuK-",
        "outputId": "34f820a5-32c5-4687-d36f-90c11001241d",
        "colab": {
          "base_uri": "https://localhost:8080/",
          "height": 421
        }
      },
      "outputs": [
        {
          "output_type": "execute_result",
          "data": {
            "text/plain": [
              "         DATE   TIME   BOROUGH  ZIP CODE   LATITUDE  LONGITUDE  \\\n",
              "0  09/26/2018  12:12     BRONX   10454.0  40.808987 -73.911316   \n",
              "1  09/25/2018  16:30  BROOKLYN   11236.0  40.636005 -73.912510   \n",
              "2  08/22/2019  19:30    QUEENS   11101.0  40.755490 -73.939530   \n",
              "3  09/23/2018  13:10    QUEENS   11367.0        NaN        NaN   \n",
              "4  08/20/2019  22:40     BRONX   10468.0  40.868336 -73.901270   \n",
              "\n",
              "                     ON STREET NAME  NUMBER OF PEDESTRIANS INJURED  \\\n",
              "0                               NaN                              0   \n",
              "1  FLATLANDS AVENUE                                              1   \n",
              "2                               NaN                              0   \n",
              "3  MAIN STREET                                                   0   \n",
              "4                               NaN                              0   \n",
              "\n",
              "   NUMBER OF PEDESTRIANS KILLED  NUMBER OF CYCLIST INJURED  ...  \\\n",
              "0                             0                          0  ...   \n",
              "1                             0                          0  ...   \n",
              "2                             0                          0  ...   \n",
              "3                             0                          1  ...   \n",
              "4                             0                          0  ...   \n",
              "\n",
              "   CONTRIBUTING FACTOR VEHICLE 2  CONTRIBUTING FACTOR VEHICLE 3  \\\n",
              "0                            NaN                            NaN   \n",
              "1                            NaN                            NaN   \n",
              "2                            NaN                            NaN   \n",
              "3                    Unspecified                            NaN   \n",
              "4                    Unspecified                            NaN   \n",
              "\n",
              "   CONTRIBUTING FACTOR VEHICLE 4 CONTRIBUTING FACTOR VEHICLE 5 COLLISION_ID  \\\n",
              "0                            NaN                           NaN      3988123   \n",
              "1                            NaN                           NaN      3987962   \n",
              "2                            NaN                           NaN      4193132   \n",
              "3                            NaN                           NaN      3985962   \n",
              "4                            NaN                           NaN      4192111   \n",
              "\n",
              "  VEHICLE TYPE CODE 1                  VEHICLE TYPE CODE 2  \\\n",
              "0               Sedan                                  NaN   \n",
              "1               Sedan                                  NaN   \n",
              "2               Sedan                                  NaN   \n",
              "3                Bike  Station Wagon/Sport Utility Vehicle   \n",
              "4               Sedan                                Sedan   \n",
              "\n",
              "  VEHICLE TYPE CODE 3  VEHICLE TYPE CODE 4 VEHICLE TYPE CODE 5  \n",
              "0                 NaN                  NaN                 NaN  \n",
              "1                 NaN                  NaN                 NaN  \n",
              "2                 NaN                  NaN                 NaN  \n",
              "3                 NaN                  NaN                 NaN  \n",
              "4                 NaN                  NaN                 NaN  \n",
              "\n",
              "[5 rows x 24 columns]"
            ],
            "text/html": [
              "\n",
              "  <div id=\"df-78e36101-e125-4d65-b836-cc1ad3e1fddd\">\n",
              "    <div class=\"colab-df-container\">\n",
              "      <div>\n",
              "<style scoped>\n",
              "    .dataframe tbody tr th:only-of-type {\n",
              "        vertical-align: middle;\n",
              "    }\n",
              "\n",
              "    .dataframe tbody tr th {\n",
              "        vertical-align: top;\n",
              "    }\n",
              "\n",
              "    .dataframe thead th {\n",
              "        text-align: right;\n",
              "    }\n",
              "</style>\n",
              "<table border=\"1\" class=\"dataframe\">\n",
              "  <thead>\n",
              "    <tr style=\"text-align: right;\">\n",
              "      <th></th>\n",
              "      <th>DATE</th>\n",
              "      <th>TIME</th>\n",
              "      <th>BOROUGH</th>\n",
              "      <th>ZIP CODE</th>\n",
              "      <th>LATITUDE</th>\n",
              "      <th>LONGITUDE</th>\n",
              "      <th>ON STREET NAME</th>\n",
              "      <th>NUMBER OF PEDESTRIANS INJURED</th>\n",
              "      <th>NUMBER OF PEDESTRIANS KILLED</th>\n",
              "      <th>NUMBER OF CYCLIST INJURED</th>\n",
              "      <th>...</th>\n",
              "      <th>CONTRIBUTING FACTOR VEHICLE 2</th>\n",
              "      <th>CONTRIBUTING FACTOR VEHICLE 3</th>\n",
              "      <th>CONTRIBUTING FACTOR VEHICLE 4</th>\n",
              "      <th>CONTRIBUTING FACTOR VEHICLE 5</th>\n",
              "      <th>COLLISION_ID</th>\n",
              "      <th>VEHICLE TYPE CODE 1</th>\n",
              "      <th>VEHICLE TYPE CODE 2</th>\n",
              "      <th>VEHICLE TYPE CODE 3</th>\n",
              "      <th>VEHICLE TYPE CODE 4</th>\n",
              "      <th>VEHICLE TYPE CODE 5</th>\n",
              "    </tr>\n",
              "  </thead>\n",
              "  <tbody>\n",
              "    <tr>\n",
              "      <th>0</th>\n",
              "      <td>09/26/2018</td>\n",
              "      <td>12:12</td>\n",
              "      <td>BRONX</td>\n",
              "      <td>10454.0</td>\n",
              "      <td>40.808987</td>\n",
              "      <td>-73.911316</td>\n",
              "      <td>NaN</td>\n",
              "      <td>0</td>\n",
              "      <td>0</td>\n",
              "      <td>0</td>\n",
              "      <td>...</td>\n",
              "      <td>NaN</td>\n",
              "      <td>NaN</td>\n",
              "      <td>NaN</td>\n",
              "      <td>NaN</td>\n",
              "      <td>3988123</td>\n",
              "      <td>Sedan</td>\n",
              "      <td>NaN</td>\n",
              "      <td>NaN</td>\n",
              "      <td>NaN</td>\n",
              "      <td>NaN</td>\n",
              "    </tr>\n",
              "    <tr>\n",
              "      <th>1</th>\n",
              "      <td>09/25/2018</td>\n",
              "      <td>16:30</td>\n",
              "      <td>BROOKLYN</td>\n",
              "      <td>11236.0</td>\n",
              "      <td>40.636005</td>\n",
              "      <td>-73.912510</td>\n",
              "      <td>FLATLANDS AVENUE</td>\n",
              "      <td>1</td>\n",
              "      <td>0</td>\n",
              "      <td>0</td>\n",
              "      <td>...</td>\n",
              "      <td>NaN</td>\n",
              "      <td>NaN</td>\n",
              "      <td>NaN</td>\n",
              "      <td>NaN</td>\n",
              "      <td>3987962</td>\n",
              "      <td>Sedan</td>\n",
              "      <td>NaN</td>\n",
              "      <td>NaN</td>\n",
              "      <td>NaN</td>\n",
              "      <td>NaN</td>\n",
              "    </tr>\n",
              "    <tr>\n",
              "      <th>2</th>\n",
              "      <td>08/22/2019</td>\n",
              "      <td>19:30</td>\n",
              "      <td>QUEENS</td>\n",
              "      <td>11101.0</td>\n",
              "      <td>40.755490</td>\n",
              "      <td>-73.939530</td>\n",
              "      <td>NaN</td>\n",
              "      <td>0</td>\n",
              "      <td>0</td>\n",
              "      <td>0</td>\n",
              "      <td>...</td>\n",
              "      <td>NaN</td>\n",
              "      <td>NaN</td>\n",
              "      <td>NaN</td>\n",
              "      <td>NaN</td>\n",
              "      <td>4193132</td>\n",
              "      <td>Sedan</td>\n",
              "      <td>NaN</td>\n",
              "      <td>NaN</td>\n",
              "      <td>NaN</td>\n",
              "      <td>NaN</td>\n",
              "    </tr>\n",
              "    <tr>\n",
              "      <th>3</th>\n",
              "      <td>09/23/2018</td>\n",
              "      <td>13:10</td>\n",
              "      <td>QUEENS</td>\n",
              "      <td>11367.0</td>\n",
              "      <td>NaN</td>\n",
              "      <td>NaN</td>\n",
              "      <td>MAIN STREET</td>\n",
              "      <td>0</td>\n",
              "      <td>0</td>\n",
              "      <td>1</td>\n",
              "      <td>...</td>\n",
              "      <td>Unspecified</td>\n",
              "      <td>NaN</td>\n",
              "      <td>NaN</td>\n",
              "      <td>NaN</td>\n",
              "      <td>3985962</td>\n",
              "      <td>Bike</td>\n",
              "      <td>Station Wagon/Sport Utility Vehicle</td>\n",
              "      <td>NaN</td>\n",
              "      <td>NaN</td>\n",
              "      <td>NaN</td>\n",
              "    </tr>\n",
              "    <tr>\n",
              "      <th>4</th>\n",
              "      <td>08/20/2019</td>\n",
              "      <td>22:40</td>\n",
              "      <td>BRONX</td>\n",
              "      <td>10468.0</td>\n",
              "      <td>40.868336</td>\n",
              "      <td>-73.901270</td>\n",
              "      <td>NaN</td>\n",
              "      <td>0</td>\n",
              "      <td>0</td>\n",
              "      <td>0</td>\n",
              "      <td>...</td>\n",
              "      <td>Unspecified</td>\n",
              "      <td>NaN</td>\n",
              "      <td>NaN</td>\n",
              "      <td>NaN</td>\n",
              "      <td>4192111</td>\n",
              "      <td>Sedan</td>\n",
              "      <td>Sedan</td>\n",
              "      <td>NaN</td>\n",
              "      <td>NaN</td>\n",
              "      <td>NaN</td>\n",
              "    </tr>\n",
              "  </tbody>\n",
              "</table>\n",
              "<p>5 rows × 24 columns</p>\n",
              "</div>\n",
              "      <button class=\"colab-df-convert\" onclick=\"convertToInteractive('df-78e36101-e125-4d65-b836-cc1ad3e1fddd')\"\n",
              "              title=\"Convert this dataframe to an interactive table.\"\n",
              "              style=\"display:none;\">\n",
              "        \n",
              "  <svg xmlns=\"http://www.w3.org/2000/svg\" height=\"24px\"viewBox=\"0 0 24 24\"\n",
              "       width=\"24px\">\n",
              "    <path d=\"M0 0h24v24H0V0z\" fill=\"none\"/>\n",
              "    <path d=\"M18.56 5.44l.94 2.06.94-2.06 2.06-.94-2.06-.94-.94-2.06-.94 2.06-2.06.94zm-11 1L8.5 8.5l.94-2.06 2.06-.94-2.06-.94L8.5 2.5l-.94 2.06-2.06.94zm10 10l.94 2.06.94-2.06 2.06-.94-2.06-.94-.94-2.06-.94 2.06-2.06.94z\"/><path d=\"M17.41 7.96l-1.37-1.37c-.4-.4-.92-.59-1.43-.59-.52 0-1.04.2-1.43.59L10.3 9.45l-7.72 7.72c-.78.78-.78 2.05 0 2.83L4 21.41c.39.39.9.59 1.41.59.51 0 1.02-.2 1.41-.59l7.78-7.78 2.81-2.81c.8-.78.8-2.07 0-2.86zM5.41 20L4 18.59l7.72-7.72 1.47 1.35L5.41 20z\"/>\n",
              "  </svg>\n",
              "      </button>\n",
              "      \n",
              "  <style>\n",
              "    .colab-df-container {\n",
              "      display:flex;\n",
              "      flex-wrap:wrap;\n",
              "      gap: 12px;\n",
              "    }\n",
              "\n",
              "    .colab-df-convert {\n",
              "      background-color: #E8F0FE;\n",
              "      border: none;\n",
              "      border-radius: 50%;\n",
              "      cursor: pointer;\n",
              "      display: none;\n",
              "      fill: #1967D2;\n",
              "      height: 32px;\n",
              "      padding: 0 0 0 0;\n",
              "      width: 32px;\n",
              "    }\n",
              "\n",
              "    .colab-df-convert:hover {\n",
              "      background-color: #E2EBFA;\n",
              "      box-shadow: 0px 1px 2px rgba(60, 64, 67, 0.3), 0px 1px 3px 1px rgba(60, 64, 67, 0.15);\n",
              "      fill: #174EA6;\n",
              "    }\n",
              "\n",
              "    [theme=dark] .colab-df-convert {\n",
              "      background-color: #3B4455;\n",
              "      fill: #D2E3FC;\n",
              "    }\n",
              "\n",
              "    [theme=dark] .colab-df-convert:hover {\n",
              "      background-color: #434B5C;\n",
              "      box-shadow: 0px 1px 3px 1px rgba(0, 0, 0, 0.15);\n",
              "      filter: drop-shadow(0px 1px 2px rgba(0, 0, 0, 0.3));\n",
              "      fill: #FFFFFF;\n",
              "    }\n",
              "  </style>\n",
              "\n",
              "      <script>\n",
              "        const buttonEl =\n",
              "          document.querySelector('#df-78e36101-e125-4d65-b836-cc1ad3e1fddd button.colab-df-convert');\n",
              "        buttonEl.style.display =\n",
              "          google.colab.kernel.accessAllowed ? 'block' : 'none';\n",
              "\n",
              "        async function convertToInteractive(key) {\n",
              "          const element = document.querySelector('#df-78e36101-e125-4d65-b836-cc1ad3e1fddd');\n",
              "          const dataTable =\n",
              "            await google.colab.kernel.invokeFunction('convertToInteractive',\n",
              "                                                     [key], {});\n",
              "          if (!dataTable) return;\n",
              "\n",
              "          const docLinkHtml = 'Like what you see? Visit the ' +\n",
              "            '<a target=\"_blank\" href=https://colab.research.google.com/notebooks/data_table.ipynb>data table notebook</a>'\n",
              "            + ' to learn more about interactive tables.';\n",
              "          element.innerHTML = '';\n",
              "          dataTable['output_type'] = 'display_data';\n",
              "          await google.colab.output.renderOutput(dataTable, element);\n",
              "          const docLink = document.createElement('div');\n",
              "          docLink.innerHTML = docLinkHtml;\n",
              "          element.appendChild(docLink);\n",
              "        }\n",
              "      </script>\n",
              "    </div>\n",
              "  </div>\n",
              "  "
            ]
          },
          "metadata": {},
          "execution_count": 7
        }
      ],
      "source": [
        "df.head(5)"
      ]
    },
    {
      "cell_type": "code",
      "execution_count": 8,
      "metadata": {
        "scrolled": true,
        "id": "JUTn7cOyEuK-",
        "outputId": "33c6cfcd-0808-418b-e125-3d91766fa685",
        "colab": {
          "base_uri": "https://localhost:8080/"
        }
      },
      "outputs": [
        {
          "output_type": "execute_result",
          "data": {
            "text/plain": [
              "Index(['DATE', 'TIME', 'BOROUGH', 'ZIP CODE', 'LATITUDE', 'LONGITUDE',\n",
              "       'ON STREET NAME', 'NUMBER OF PEDESTRIANS INJURED',\n",
              "       'NUMBER OF PEDESTRIANS KILLED', 'NUMBER OF CYCLIST INJURED',\n",
              "       'NUMBER OF CYCLIST KILLED', 'NUMBER OF MOTORIST INJURED',\n",
              "       'NUMBER OF MOTORIST KILLED', 'CONTRIBUTING FACTOR VEHICLE 1',\n",
              "       'CONTRIBUTING FACTOR VEHICLE 2', 'CONTRIBUTING FACTOR VEHICLE 3',\n",
              "       'CONTRIBUTING FACTOR VEHICLE 4', 'CONTRIBUTING FACTOR VEHICLE 5',\n",
              "       'COLLISION_ID', 'VEHICLE TYPE CODE 1', 'VEHICLE TYPE CODE 2',\n",
              "       'VEHICLE TYPE CODE 3', 'VEHICLE TYPE CODE 4', 'VEHICLE TYPE CODE 5'],\n",
              "      dtype='object')"
            ]
          },
          "metadata": {},
          "execution_count": 8
        }
      ],
      "source": [
        "df.columns"
      ]
    },
    {
      "cell_type": "markdown",
      "metadata": {
        "id": "ue9Qh5p7EuLC"
      },
      "source": [
        "## Respondiendo las preguntas del cliente "
      ]
    },
    {
      "cell_type": "markdown",
      "metadata": {
        "id": "hOA20VcZEuLC"
      },
      "source": [
        "### Ejercicio 1 :\n",
        "\n",
        "Agrupe los datos disponibles mensualmente y genere un line plot de accidentes a lo largo del tiempo. ¿Ha aumentado el número de accidentes durante el último año y medio?\n",
        "\n",
        "**Sugerencia**: Puede encontrar útiles las funciones de pandas ```to_datetime ()``` y ```dt.to_period ()```."
      ]
    },
    {
      "cell_type": "markdown",
      "metadata": {
        "id": "36BhV74mEuLC"
      },
      "source": [
        "**Answer.** "
      ]
    },
    {
      "cell_type": "code",
      "execution_count": 9,
      "metadata": {
        "id": "JEPYptwREuLD",
        "outputId": "7fbdf671-8cae-4ec0-c914-6fa66ca2c64d",
        "colab": {
          "base_uri": "https://localhost:8080/",
          "height": 308
        }
      },
      "outputs": [
        {
          "output_type": "execute_result",
          "data": {
            "text/plain": [
              "<matplotlib.axes._subplots.AxesSubplot at 0x7f59ba6bf400>"
            ]
          },
          "metadata": {},
          "execution_count": 9
        },
        {
          "output_type": "display_data",
          "data": {
            "text/plain": [
              "<Figure size 432x288 with 1 Axes>"
            ],
            "image/png": "[encoded data removed]"
          },
          "metadata": {
            "needs_background": "light"
          }
        }
      ],
      "source": [
        "# Mensual\n",
        "df['DATE']=pd.to_datetime(df['DATE']) # Formato datetime python \n",
        "monthly_accidents =df.groupby(df['DATE'].dt.to_period('M')).size()\n",
        "monthly_accidents.plot.line()"
      ]
    },
    {
      "cell_type": "code",
      "execution_count": 10,
      "metadata": {
        "id": "s_Q7muOiEuLD",
        "outputId": "2a866b3e-b76e-45e9-bfd1-cec8052bb2e2",
        "colab": {
          "base_uri": "https://localhost:8080/",
          "height": 308
        }
      },
      "outputs": [
        {
          "output_type": "execute_result",
          "data": {
            "text/plain": [
              "<matplotlib.axes._subplots.AxesSubplot at 0x7f59ba6bf670>"
            ]
          },
          "metadata": {},
          "execution_count": 10
        },
        {
          "output_type": "display_data",
          "data": {
            "text/plain": [
              "<Figure size 432x288 with 1 Axes>"
            ],
            "image/png": "[encoded data removed]"
          },
          "metadata": {
            "needs_background": "light"
          }
        }
      ],
      "source": [
        "# Diario\n",
        "monthly_accidents1 = df.groupby(df['DATE'].dt.to_period('D')).size()\n",
        "monthly_accidents1.plot.line()\n"
      ]
    },
    {
      "cell_type": "code",
      "execution_count": 11,
      "metadata": {
        "id": "ZnGo-2dYEuLE",
        "outputId": "83818b0a-d6d7-4e61-9df2-5be528752d14",
        "colab": {
          "base_uri": "https://localhost:8080/"
        }
      },
      "outputs": [
        {
          "output_type": "execute_result",
          "data": {
            "text/plain": [
              "pandas.core.series.Series"
            ]
          },
          "metadata": {},
          "execution_count": 11
        }
      ],
      "source": [
        "type(monthly_accidents)"
      ]
    },
    {
      "cell_type": "code",
      "execution_count": 12,
      "metadata": {
        "id": "ELrdGeaEEuLF",
        "outputId": "b632affc-e6f3-4d46-e21c-4e20a6e3f79f",
        "colab": {
          "base_uri": "https://localhost:8080/"
        }
      },
      "outputs": [
        {
          "output_type": "execute_result",
          "data": {
            "text/plain": [
              "Timestamp('2019-08-24 00:00:00')"
            ]
          },
          "metadata": {},
          "execution_count": 12
        }
      ],
      "source": [
        "max(df['DATE']) "
      ]
    },
    {
      "cell_type": "markdown",
      "metadata": {
        "id": "ByEnRIDpEuLF"
      },
      "source": [
        "El gráfico de líneas que trazamos muestra claramente que no hay una tendencia alcista obvia en los accidentes a lo largo del tiempo."
      ]
    },
    {
      "cell_type": "markdown",
      "metadata": {
        "id": "BTbNS1DREuLF"
      },
      "source": [
        "### Ejercicio 2\n",
        "\n",
        "De la gráfica anterior, ¿qué meses parecen tener el menor número de accidentes? ¿Cuáles crees que son las razones detrás de esto?"
      ]
    },
    {
      "cell_type": "markdown",
      "metadata": {
        "id": "U4QQQpYuEuLG"
      },
      "source": [
        "**Respuesta.** \n",
        "\n",
        "Notamos que agosto de 2019 es el mes con el menor número de accidentes, pero esto probablemente se deba al hecho de que no hay un registro completo para este mes: ```max(df['DATE']) = Timestamp('2019-08-24 00:00:00') ```. Es decir, falta toda la última semana de datos.\n",
        "\n",
        "Sin tener en cuenta este mes, la menor cantidad de accidentes parece ocurrir en febrero. Este es el mes del año con las temperaturas más bajas y las condiciones de la carretera pueden complicarse un poco. Por lo tanto, las personas pueden preferir usar el transporte público y evitar salir tanto como sea posible debido al clima frío. Esto contrasta con el verano, donde las personas tienden a salir y pueden ocurrir más accidentes."
      ]
    },
    {
      "cell_type": "markdown",
      "metadata": {
        "id": "aGnRMCK7EuLG"
      },
      "source": [
        "### Ejercicio 3 (30 min):\n",
        "¿Cómo varía el número de accidentes a lo largo de un solo día? Cree una nueva columna `HOUR` basada en los datos de la columna `TIME`, luego trace un gráfico de barras de la distribución por hora a lo largo del día.\n",
        "\n",
        "**Sugerencia:** Puede encontrar útil la función ```dt.hour```."
      ]
    },
    {
      "cell_type": "code",
      "execution_count": 16,
      "metadata": {
        "id": "eYdikPkTEuLH",
        "outputId": "e3c57919-6189-4c41-e090-c56f59782613",
        "colab": {
          "base_uri": "https://localhost:8080/",
          "height": 312
        }
      },
      "outputs": [
        {
          "output_type": "execute_result",
          "data": {
            "text/plain": [
              "Text(0, 0.5, 'Total de accidentes')"
            ]
          },
          "metadata": {},
          "execution_count": 16
        },
        {
          "output_type": "display_data",
          "data": {
            "text/plain": [
              "<Figure size 432x288 with 1 Axes>"
            ],
            "image/png": "[encoded data removed]"
          },
          "metadata": {
            "needs_background": "light"
          }
        }
      ],
      "source": [
        "## Pasarlo a formato de hora el campo\n",
        "df['TIME']=pd.to_datetime(df['TIME'])\n",
        "df['HOUR'] = df['TIME'].dt.hour\n",
        "# Graficar\n",
        "hourly_accidents =df.groupby('HOUR').size()\n",
        "plt.bar(hourly_accidents.index,hourly_accidents.values)\n",
        "plt.title('Distribucion de accidentes por hora')\n",
        "plt.xlabel('Hora')\n",
        "plt.ylabel('Total de accidentes')"
      ]
    },
    {
      "cell_type": "code",
      "execution_count": null,
      "metadata": {
        "id": "LEkmWBOiEuLI",
        "outputId": "7df4fc66-13d9-4ead-c4e6-74c36bd3f6ed",
        "colab": {
          "base_uri": "https://localhost:8080/",
          "height": 312
        }
      },
      "outputs": [
        {
          "output_type": "execute_result",
          "data": {
            "text/plain": [
              "Text(0, 0.5, 'Total de accidentes')"
            ]
          },
          "metadata": {},
          "execution_count": 13
        },
        {
          "output_type": "display_data",
          "data": {
            "image/png": "[encoded data removed]",
            "text/plain": [
              "<Figure size 432x288 with 1 Axes>"
            ]
          },
          "metadata": {
            "needs_background": "light"
          }
        }
      ],
      "source": [
        "# Utilizar seaborn para ver todas las horas\n",
        "sns.barplot(x=hourly_accidents.index, y=hourly_accidents.values)\n",
        "plt.title('Distribucion de accidentes por hora')\n",
        "plt.xlabel('Hora')\n",
        "plt.ylabel('Total de accidentes')"
      ]
    },
    {
      "cell_type": "markdown",
      "metadata": {
        "id": "lQqyMm56EuLJ"
      },
      "source": [
        "A partir de esto, vemos que ocurren más accidentes en la tarde (2 - 6 PM) que en otros momentos del día."
      ]
    },
    {
      "cell_type": "markdown",
      "metadata": {
        "id": "RdWUwG4hEuLK"
      },
      "source": [
        "### Ejercicio 4 :\n",
        "\n",
        "¿Cómo varía el número de accidentes en una sola semana? Trace un gráfico de barras basado en el recuento de accidentes por día de la semana.\n",
        "\n",
        "**Sugerencia:** Puede encontrar útil la función ```dt.weekday```."
      ]
    },
    {
      "cell_type": "code",
      "execution_count": 17,
      "metadata": {
        "id": "eka2TLwZEuLK",
        "outputId": "f80c9f09-6399-4eef-89c1-35921ebc252a",
        "colab": {
          "base_uri": "https://localhost:8080/",
          "height": 293
        }
      },
      "outputs": [
        {
          "output_type": "execute_result",
          "data": {
            "text/plain": [
              "<matplotlib.axes._subplots.AxesSubplot at 0x7f59b9e91e20>"
            ]
          },
          "metadata": {},
          "execution_count": 17
        },
        {
          "output_type": "display_data",
          "data": {
            "text/plain": [
              "<Figure size 432x288 with 1 Axes>"
            ],
            "image/png": "[encoded data removed]"
          },
          "metadata": {
            "needs_background": "light"
          }
        }
      ],
      "source": [
        "df['WEEKDAY'] = df['DATE'].dt.weekday\n",
        "weekday_accidents=df.groupby('WEEKDAY').size()\n",
        "weekday_accidents.plot.bar()"
      ]
    },
    {
      "cell_type": "markdown",
      "metadata": {
        "id": "4hiv68zmEuLL"
      },
      "source": [
        "Hay relativamente menos accidentes los fines de semana que entre semana."
      ]
    },
    {
      "cell_type": "markdown",
      "metadata": {
        "id": "vlEusvipEuLM"
      },
      "source": [
        "### Ejercicio 5:\n",
        "\n",
        "Trace una gráfica de barras del número total de accidentes en cada municipio, así como uno de los accidentes por milla cuadrada por municipio. ¿Qué puedes concluir?\n",
        "\n",
        "**Sugerencia:** Es posible que desee actualizar algunas de las claves en el diccionario del municipio para que coincidan con los nombres en el marco de datos."
      ]
    },
    {
      "cell_type": "code",
      "execution_count": 18,
      "metadata": {
        "id": "NY4VCh5-EuLN",
        "outputId": "13a6bf08-e6cb-48da-81cd-fe7277eb9fa9",
        "colab": {
          "base_uri": "https://localhost:8080/"
        }
      },
      "outputs": [
        {
          "output_type": "execute_result",
          "data": {
            "text/plain": [
              "BOROUGH\n",
              "BRONX            37709\n",
              "BROOKLYN         76253\n",
              "MANHATTAN        48749\n",
              "QUEENS           67120\n",
              "STATEN ISLAND     8691\n",
              "dtype: int64"
            ]
          },
          "metadata": {},
          "execution_count": 18
        }
      ],
      "source": [
        "df.groupby('BOROUGH').size()"
      ]
    },
    {
      "cell_type": "code",
      "execution_count": 19,
      "metadata": {
        "scrolled": true,
        "id": "k30qidJgEuLN",
        "outputId": "ad547aca-73b9-4e12-fd18-49a8d1e38538",
        "colab": {
          "base_uri": "https://localhost:8080/",
          "height": 368
        }
      },
      "outputs": [
        {
          "output_type": "execute_result",
          "data": {
            "text/plain": [
              "<matplotlib.axes._subplots.AxesSubplot at 0x7f59b9e265e0>"
            ]
          },
          "metadata": {},
          "execution_count": 19
        },
        {
          "output_type": "display_data",
          "data": {
            "text/plain": [
              "<Figure size 432x288 with 1 Axes>"
            ],
            "image/png": "[encoded data removed]"
          },
          "metadata": {
            "needs_background": "light"
          }
        }
      ],
      "source": [
        "boroughs = df.groupby('BOROUGH').size()\n",
        "boroughs.plot.bar()"
      ]
    },
    {
      "cell_type": "code",
      "execution_count": 27,
      "metadata": {
        "id": "d-P9zycHEuLO",
        "outputId": "45895674-5abc-49ac-865e-0ac9a9ebc9d1",
        "colab": {
          "base_uri": "https://localhost:8080/"
        }
      },
      "outputs": [
        {
          "output_type": "execute_result",
          "data": {
            "text/plain": [
              "{'the bronx': {'name': 'the bronx', 'population': 1471160.0, 'area': 42.1},\n",
              " 'brooklyn': {'name': 'brooklyn', 'population': 2648771.0, 'area': 70.82},\n",
              " 'manhattan': {'name': 'manhattan', 'population': 1664727.0, 'area': 22.83},\n",
              " 'queens': {'name': 'queens', 'population': 2358582.0, 'area': 108.53},\n",
              " 'staten island': {'name': 'staten island',\n",
              "  'population': 479458.0,\n",
              "  'area': 58.37}}"
            ]
          },
          "metadata": {},
          "execution_count": 27
        }
      ],
      "source": [
        "borough_data"
      ]
    },
    {
      "cell_type": "markdown",
      "metadata": {
        "id": "L6ATFSdKEuLO"
      },
      "source": [
        "Podemos ver que Brooklyn y Queens tienen un número muy alto de accidentes en relación con los otros tres condados. Pero, ¿qué tal por milla cuadrada?"
      ]
    },
    {
      "cell_type": "code",
      "execution_count": 28,
      "metadata": {
        "id": "t89hct4qEuLP",
        "outputId": "f6cfef9e-5d5c-47dd-a9b7-c2a116f08a26",
        "colab": {
          "base_uri": "https://localhost:8080/"
        }
      },
      "outputs": [
        {
          "output_type": "stream",
          "name": "stdout",
          "text": [
            "dict_keys(['the bronx', 'brooklyn', 'manhattan', 'queens', 'staten island'])\n",
            "['BRONX' 'BROOKLYN' 'QUEENS' 'MANHATTAN' 'STATEN ISLAND']\n"
          ]
        }
      ],
      "source": [
        "# Update keys in borough data\n",
        "print(borough_data.keys())\n",
        "print(df['BOROUGH'].unique())\n",
        "\n",
        "# Since there are differences in the text used in the data and Wikipedia data, let's update it\n",
        "borough_data['bronx'] = borough_data.pop('the bronx')\n"
      ]
    },
    {
      "cell_type": "code",
      "execution_count": 37,
      "metadata": {
        "id": "F26oVhmiEuLP",
        "outputId": "9a9f2df0-287d-45d0-9059-e98528b8fe0f",
        "colab": {
          "base_uri": "https://localhost:8080/",
          "height": 238
        }
      },
      "outputs": [
        {
          "output_type": "execute_result",
          "data": {
            "text/plain": [
              "               count        borough    area  accidents_per_sq_mi\n",
              "BOROUGH                                                         \n",
              "BRONX          37709          BRONX   42.10           895.700713\n",
              "BROOKLYN       76253       BROOKLYN   70.82          1076.715617\n",
              "MANHATTAN      48749      MANHATTAN   22.83          2135.304424\n",
              "QUEENS         67120         QUEENS  108.53           618.446512\n",
              "STATEN ISLAND   8691  STATEN ISLAND   58.37           148.894980"
            ],
            "text/html": [
              "\n",
              "  <div id=\"df-35d71db2-4b29-4980-8646-5b6edc5244a8\">\n",
              "    <div class=\"colab-df-container\">\n",
              "      <div>\n",
              "<style scoped>\n",
              "    .dataframe tbody tr th:only-of-type {\n",
              "        vertical-align: middle;\n",
              "    }\n",
              "\n",
              "    .dataframe tbody tr th {\n",
              "        vertical-align: top;\n",
              "    }\n",
              "\n",
              "    .dataframe thead th {\n",
              "        text-align: right;\n",
              "    }\n",
              "</style>\n",
              "<table border=\"1\" class=\"dataframe\">\n",
              "  <thead>\n",
              "    <tr style=\"text-align: right;\">\n",
              "      <th></th>\n",
              "      <th>count</th>\n",
              "      <th>borough</th>\n",
              "      <th>area</th>\n",
              "      <th>accidents_per_sq_mi</th>\n",
              "    </tr>\n",
              "    <tr>\n",
              "      <th>BOROUGH</th>\n",
              "      <th></th>\n",
              "      <th></th>\n",
              "      <th></th>\n",
              "      <th></th>\n",
              "    </tr>\n",
              "  </thead>\n",
              "  <tbody>\n",
              "    <tr>\n",
              "      <th>BRONX</th>\n",
              "      <td>37709</td>\n",
              "      <td>BRONX</td>\n",
              "      <td>42.10</td>\n",
              "      <td>895.700713</td>\n",
              "    </tr>\n",
              "    <tr>\n",
              "      <th>BROOKLYN</th>\n",
              "      <td>76253</td>\n",
              "      <td>BROOKLYN</td>\n",
              "      <td>70.82</td>\n",
              "      <td>1076.715617</td>\n",
              "    </tr>\n",
              "    <tr>\n",
              "      <th>MANHATTAN</th>\n",
              "      <td>48749</td>\n",
              "      <td>MANHATTAN</td>\n",
              "      <td>22.83</td>\n",
              "      <td>2135.304424</td>\n",
              "    </tr>\n",
              "    <tr>\n",
              "      <th>QUEENS</th>\n",
              "      <td>67120</td>\n",
              "      <td>QUEENS</td>\n",
              "      <td>108.53</td>\n",
              "      <td>618.446512</td>\n",
              "    </tr>\n",
              "    <tr>\n",
              "      <th>STATEN ISLAND</th>\n",
              "      <td>8691</td>\n",
              "      <td>STATEN ISLAND</td>\n",
              "      <td>58.37</td>\n",
              "      <td>148.894980</td>\n",
              "    </tr>\n",
              "  </tbody>\n",
              "</table>\n",
              "</div>\n",
              "      <button class=\"colab-df-convert\" onclick=\"convertToInteractive('df-35d71db2-4b29-4980-8646-5b6edc5244a8')\"\n",
              "              title=\"Convert this dataframe to an interactive table.\"\n",
              "              style=\"display:none;\">\n",
              "        \n",
              "  <svg xmlns=\"http://www.w3.org/2000/svg\" height=\"24px\"viewBox=\"0 0 24 24\"\n",
              "       width=\"24px\">\n",
              "    <path d=\"M0 0h24v24H0V0z\" fill=\"none\"/>\n",
              "    <path d=\"M18.56 5.44l.94 2.06.94-2.06 2.06-.94-2.06-.94-.94-2.06-.94 2.06-2.06.94zm-11 1L8.5 8.5l.94-2.06 2.06-.94-2.06-.94L8.5 2.5l-.94 2.06-2.06.94zm10 10l.94 2.06.94-2.06 2.06-.94-2.06-.94-.94-2.06-.94 2.06-2.06.94z\"/><path d=\"M17.41 7.96l-1.37-1.37c-.4-.4-.92-.59-1.43-.59-.52 0-1.04.2-1.43.59L10.3 9.45l-7.72 7.72c-.78.78-.78 2.05 0 2.83L4 21.41c.39.39.9.59 1.41.59.51 0 1.02-.2 1.41-.59l7.78-7.78 2.81-2.81c.8-.78.8-2.07 0-2.86zM5.41 20L4 18.59l7.72-7.72 1.47 1.35L5.41 20z\"/>\n",
              "  </svg>\n",
              "      </button>\n",
              "      \n",
              "  <style>\n",
              "    .colab-df-container {\n",
              "      display:flex;\n",
              "      flex-wrap:wrap;\n",
              "      gap: 12px;\n",
              "    }\n",
              "\n",
              "    .colab-df-convert {\n",
              "      background-color: #E8F0FE;\n",
              "      border: none;\n",
              "      border-radius: 50%;\n",
              "      cursor: pointer;\n",
              "      display: none;\n",
              "      fill: #1967D2;\n",
              "      height: 32px;\n",
              "      padding: 0 0 0 0;\n",
              "      width: 32px;\n",
              "    }\n",
              "\n",
              "    .colab-df-convert:hover {\n",
              "      background-color: #E2EBFA;\n",
              "      box-shadow: 0px 1px 2px rgba(60, 64, 67, 0.3), 0px 1px 3px 1px rgba(60, 64, 67, 0.15);\n",
              "      fill: #174EA6;\n",
              "    }\n",
              "\n",
              "    [theme=dark] .colab-df-convert {\n",
              "      background-color: #3B4455;\n",
              "      fill: #D2E3FC;\n",
              "    }\n",
              "\n",
              "    [theme=dark] .colab-df-convert:hover {\n",
              "      background-color: #434B5C;\n",
              "      box-shadow: 0px 1px 3px 1px rgba(0, 0, 0, 0.15);\n",
              "      filter: drop-shadow(0px 1px 2px rgba(0, 0, 0, 0.3));\n",
              "      fill: #FFFFFF;\n",
              "    }\n",
              "  </style>\n",
              "\n",
              "      <script>\n",
              "        const buttonEl =\n",
              "          document.querySelector('#df-35d71db2-4b29-4980-8646-5b6edc5244a8 button.colab-df-convert');\n",
              "        buttonEl.style.display =\n",
              "          google.colab.kernel.accessAllowed ? 'block' : 'none';\n",
              "\n",
              "        async function convertToInteractive(key) {\n",
              "          const element = document.querySelector('#df-35d71db2-4b29-4980-8646-5b6edc5244a8');\n",
              "          const dataTable =\n",
              "            await google.colab.kernel.invokeFunction('convertToInteractive',\n",
              "                                                     [key], {});\n",
              "          if (!dataTable) return;\n",
              "\n",
              "          const docLinkHtml = 'Like what you see? Visit the ' +\n",
              "            '<a target=\"_blank\" href=https://colab.research.google.com/notebooks/data_table.ipynb>data table notebook</a>'\n",
              "            + ' to learn more about interactive tables.';\n",
              "          element.innerHTML = '';\n",
              "          dataTable['output_type'] = 'display_data';\n",
              "          await google.colab.output.renderOutput(dataTable, element);\n",
              "          const docLink = document.createElement('div');\n",
              "          docLink.innerHTML = docLinkHtml;\n",
              "          element.appendChild(docLink);\n",
              "        }\n",
              "      </script>\n",
              "    </div>\n",
              "  </div>\n",
              "  "
            ]
          },
          "metadata": {},
          "execution_count": 37
        }
      ],
      "source": [
        "borough_frame = pd.DataFrame(boroughs)\n",
        "borough_frame.columns = ['count']\n",
        "borough_frame['borough'] = borough_frame.index\n",
        "borough_frame['area'] = borough_frame.apply(lambda x: borough_data[x['borough'].lower()]['area'], axis=1)\n",
        "borough_frame['accidents_per_sq_mi'] = borough_frame.apply(lambda x: x['count']/borough_data[x['borough'].lower()]['area'], axis=1)\n",
        "borough_frame"
      ]
    },
    {
      "cell_type": "code",
      "source": [
        "ax = borough_frame.plot(x=\"borough\", y=[\"area\", \"accidents_per_sq_mi\"], kind=\"bar\", rot=0)"
      ],
      "metadata": {
        "colab": {
          "base_uri": "https://localhost:8080/",
          "height": 279
        },
        "id": "OUuyulutdn4L",
        "outputId": "c2236ed8-cc73-4cf6-f69f-1f3a7757b66c"
      },
      "execution_count": 41,
      "outputs": [
        {
          "output_type": "display_data",
          "data": {
            "text/plain": [
              "<Figure size 432x288 with 1 Axes>"
            ],
            "image/png": "[encoded data removed]"
          },
          "metadata": {
            "needs_background": "light"
          }
        }
      ]
    },
    {
      "cell_type": "markdown",
      "metadata": {
        "id": "xhq6xJtzEuLR"
      },
      "source": [
        "Al mirar el parámetro `accident_per_sq_mi`, Manhattan encabeza la lista por un amplio margen. Esto muestra claramente que aunque Brooklyn y Queens tienen más accidentes totales, Manhattan tiene una concentración mucho mayor de accidentes."
      ]
    },
    {
      "cell_type": "markdown",
      "metadata": {
        "id": "pGCgqljEEuLS"
      },
      "source": [
        "### Ejercicio 6 :\n",
        "\n",
        "¿Qué horas tienen más accidentes en cada municipio? Trace un gráfico de barras para cada municipio que muestre el número de accidentes por cada hora del día.\n",
        "\n",
        "**Sugerencia:** Puede usar ```sns.FacetGrid``` para crear una cuadrícula de parcelas con los datos por hora de cada municipio."
      ]
    },
    {
      "cell_type": "code",
      "execution_count": 42,
      "metadata": {
        "id": "vJhjJ6JoEuLT",
        "outputId": "7dd3d060-dfb3-48e5-d778-2ae60a33bc64",
        "colab": {
          "base_uri": "https://localhost:8080/"
        }
      },
      "outputs": [
        {
          "output_type": "execute_result",
          "data": {
            "text/plain": [
              "BOROUGH        HOUR\n",
              "BRONX          0       1329\n",
              "               1        529\n",
              "               2        402\n",
              "               3        361\n",
              "               4        418\n",
              "                       ... \n",
              "STATEN ISLAND  19       415\n",
              "               20       367\n",
              "               21       268\n",
              "               22       224\n",
              "               23       174\n",
              "Length: 120, dtype: int64"
            ]
          },
          "metadata": {},
          "execution_count": 42
        }
      ],
      "source": [
        "df.groupby(['BOROUGH', 'HOUR']).size()"
      ]
    },
    {
      "cell_type": "code",
      "execution_count": 48,
      "metadata": {
        "id": "Tca5OSZsEuLT",
        "outputId": "771c301e-37c8-482c-ba94-eb01d7e4d430",
        "colab": {
          "base_uri": "https://localhost:8080/",
          "height": 520
        }
      },
      "outputs": [
        {
          "output_type": "execute_result",
          "data": {
            "text/plain": [
              "          BOROUGH  HOUR  count\n",
              "0           BRONX     0   1329\n",
              "1           BRONX     1    529\n",
              "2           BRONX     2    402\n",
              "24       BROOKLYN     0   2635\n",
              "25       BROOKLYN     1   1021\n",
              "26       BROOKLYN     2    738\n",
              "48      MANHATTAN     0   1981\n",
              "49      MANHATTAN     1    961\n",
              "50      MANHATTAN     2    668\n",
              "72         QUEENS     0   2015\n",
              "73         QUEENS     1    854\n",
              "74         QUEENS     2    684\n",
              "96  STATEN ISLAND     0    200\n",
              "97  STATEN ISLAND     1     95\n",
              "98  STATEN ISLAND     2     78"
            ],
            "text/html": [
              "\n",
              "  <div id=\"df-c7549467-8f28-4e87-88c0-5e1616b612a8\">\n",
              "    <div class=\"colab-df-container\">\n",
              "      <div>\n",
              "<style scoped>\n",
              "    .dataframe tbody tr th:only-of-type {\n",
              "        vertical-align: middle;\n",
              "    }\n",
              "\n",
              "    .dataframe tbody tr th {\n",
              "        vertical-align: top;\n",
              "    }\n",
              "\n",
              "    .dataframe thead th {\n",
              "        text-align: right;\n",
              "    }\n",
              "</style>\n",
              "<table border=\"1\" class=\"dataframe\">\n",
              "  <thead>\n",
              "    <tr style=\"text-align: right;\">\n",
              "      <th></th>\n",
              "      <th>BOROUGH</th>\n",
              "      <th>HOUR</th>\n",
              "      <th>count</th>\n",
              "    </tr>\n",
              "  </thead>\n",
              "  <tbody>\n",
              "    <tr>\n",
              "      <th>0</th>\n",
              "      <td>BRONX</td>\n",
              "      <td>0</td>\n",
              "      <td>1329</td>\n",
              "    </tr>\n",
              "    <tr>\n",
              "      <th>1</th>\n",
              "      <td>BRONX</td>\n",
              "      <td>1</td>\n",
              "      <td>529</td>\n",
              "    </tr>\n",
              "    <tr>\n",
              "      <th>2</th>\n",
              "      <td>BRONX</td>\n",
              "      <td>2</td>\n",
              "      <td>402</td>\n",
              "    </tr>\n",
              "    <tr>\n",
              "      <th>24</th>\n",
              "      <td>BROOKLYN</td>\n",
              "      <td>0</td>\n",
              "      <td>2635</td>\n",
              "    </tr>\n",
              "    <tr>\n",
              "      <th>25</th>\n",
              "      <td>BROOKLYN</td>\n",
              "      <td>1</td>\n",
              "      <td>1021</td>\n",
              "    </tr>\n",
              "    <tr>\n",
              "      <th>26</th>\n",
              "      <td>BROOKLYN</td>\n",
              "      <td>2</td>\n",
              "      <td>738</td>\n",
              "    </tr>\n",
              "    <tr>\n",
              "      <th>48</th>\n",
              "      <td>MANHATTAN</td>\n",
              "      <td>0</td>\n",
              "      <td>1981</td>\n",
              "    </tr>\n",
              "    <tr>\n",
              "      <th>49</th>\n",
              "      <td>MANHATTAN</td>\n",
              "      <td>1</td>\n",
              "      <td>961</td>\n",
              "    </tr>\n",
              "    <tr>\n",
              "      <th>50</th>\n",
              "      <td>MANHATTAN</td>\n",
              "      <td>2</td>\n",
              "      <td>668</td>\n",
              "    </tr>\n",
              "    <tr>\n",
              "      <th>72</th>\n",
              "      <td>QUEENS</td>\n",
              "      <td>0</td>\n",
              "      <td>2015</td>\n",
              "    </tr>\n",
              "    <tr>\n",
              "      <th>73</th>\n",
              "      <td>QUEENS</td>\n",
              "      <td>1</td>\n",
              "      <td>854</td>\n",
              "    </tr>\n",
              "    <tr>\n",
              "      <th>74</th>\n",
              "      <td>QUEENS</td>\n",
              "      <td>2</td>\n",
              "      <td>684</td>\n",
              "    </tr>\n",
              "    <tr>\n",
              "      <th>96</th>\n",
              "      <td>STATEN ISLAND</td>\n",
              "      <td>0</td>\n",
              "      <td>200</td>\n",
              "    </tr>\n",
              "    <tr>\n",
              "      <th>97</th>\n",
              "      <td>STATEN ISLAND</td>\n",
              "      <td>1</td>\n",
              "      <td>95</td>\n",
              "    </tr>\n",
              "    <tr>\n",
              "      <th>98</th>\n",
              "      <td>STATEN ISLAND</td>\n",
              "      <td>2</td>\n",
              "      <td>78</td>\n",
              "    </tr>\n",
              "  </tbody>\n",
              "</table>\n",
              "</div>\n",
              "      <button class=\"colab-df-convert\" onclick=\"convertToInteractive('df-c7549467-8f28-4e87-88c0-5e1616b612a8')\"\n",
              "              title=\"Convert this dataframe to an interactive table.\"\n",
              "              style=\"display:none;\">\n",
              "        \n",
              "  <svg xmlns=\"http://www.w3.org/2000/svg\" height=\"24px\"viewBox=\"0 0 24 24\"\n",
              "       width=\"24px\">\n",
              "    <path d=\"M0 0h24v24H0V0z\" fill=\"none\"/>\n",
              "    <path d=\"M18.56 5.44l.94 2.06.94-2.06 2.06-.94-2.06-.94-.94-2.06-.94 2.06-2.06.94zm-11 1L8.5 8.5l.94-2.06 2.06-.94-2.06-.94L8.5 2.5l-.94 2.06-2.06.94zm10 10l.94 2.06.94-2.06 2.06-.94-2.06-.94-.94-2.06-.94 2.06-2.06.94z\"/><path d=\"M17.41 7.96l-1.37-1.37c-.4-.4-.92-.59-1.43-.59-.52 0-1.04.2-1.43.59L10.3 9.45l-7.72 7.72c-.78.78-.78 2.05 0 2.83L4 21.41c.39.39.9.59 1.41.59.51 0 1.02-.2 1.41-.59l7.78-7.78 2.81-2.81c.8-.78.8-2.07 0-2.86zM5.41 20L4 18.59l7.72-7.72 1.47 1.35L5.41 20z\"/>\n",
              "  </svg>\n",
              "      </button>\n",
              "      \n",
              "  <style>\n",
              "    .colab-df-container {\n",
              "      display:flex;\n",
              "      flex-wrap:wrap;\n",
              "      gap: 12px;\n",
              "    }\n",
              "\n",
              "    .colab-df-convert {\n",
              "      background-color: #E8F0FE;\n",
              "      border: none;\n",
              "      border-radius: 50%;\n",
              "      cursor: pointer;\n",
              "      display: none;\n",
              "      fill: #1967D2;\n",
              "      height: 32px;\n",
              "      padding: 0 0 0 0;\n",
              "      width: 32px;\n",
              "    }\n",
              "\n",
              "    .colab-df-convert:hover {\n",
              "      background-color: #E2EBFA;\n",
              "      box-shadow: 0px 1px 2px rgba(60, 64, 67, 0.3), 0px 1px 3px 1px rgba(60, 64, 67, 0.15);\n",
              "      fill: #174EA6;\n",
              "    }\n",
              "\n",
              "    [theme=dark] .colab-df-convert {\n",
              "      background-color: #3B4455;\n",
              "      fill: #D2E3FC;\n",
              "    }\n",
              "\n",
              "    [theme=dark] .colab-df-convert:hover {\n",
              "      background-color: #434B5C;\n",
              "      box-shadow: 0px 1px 3px 1px rgba(0, 0, 0, 0.15);\n",
              "      filter: drop-shadow(0px 1px 2px rgba(0, 0, 0, 0.3));\n",
              "      fill: #FFFFFF;\n",
              "    }\n",
              "  </style>\n",
              "\n",
              "      <script>\n",
              "        const buttonEl =\n",
              "          document.querySelector('#df-c7549467-8f28-4e87-88c0-5e1616b612a8 button.colab-df-convert');\n",
              "        buttonEl.style.display =\n",
              "          google.colab.kernel.accessAllowed ? 'block' : 'none';\n",
              "\n",
              "        async function convertToInteractive(key) {\n",
              "          const element = document.querySelector('#df-c7549467-8f28-4e87-88c0-5e1616b612a8');\n",
              "          const dataTable =\n",
              "            await google.colab.kernel.invokeFunction('convertToInteractive',\n",
              "                                                     [key], {});\n",
              "          if (!dataTable) return;\n",
              "\n",
              "          const docLinkHtml = 'Like what you see? Visit the ' +\n",
              "            '<a target=\"_blank\" href=https://colab.research.google.com/notebooks/data_table.ipynb>data table notebook</a>'\n",
              "            + ' to learn more about interactive tables.';\n",
              "          element.innerHTML = '';\n",
              "          dataTable['output_type'] = 'display_data';\n",
              "          await google.colab.output.renderOutput(dataTable, element);\n",
              "          const docLink = document.createElement('div');\n",
              "          docLink.innerHTML = docLinkHtml;\n",
              "          element.appendChild(docLink);\n",
              "        }\n",
              "      </script>\n",
              "    </div>\n",
              "  </div>\n",
              "  "
            ]
          },
          "metadata": {},
          "execution_count": 48
        }
      ],
      "source": [
        "df1 = pd.DataFrame({'count': df.groupby(['BOROUGH', 'HOUR']).size()})\n",
        "df1\n",
        "df1 = df1.reset_index()\n",
        "df1[df1.HOUR<3].head(30)"
      ]
    },
    {
      "cell_type": "code",
      "execution_count": 51,
      "metadata": {
        "id": "TEXLD58HEuLU",
        "outputId": "660d095a-c79e-4230-854e-6d28e8fe5366",
        "colab": {
          "base_uri": "https://localhost:8080/",
          "height": 398
        }
      },
      "outputs": [
        {
          "output_type": "stream",
          "name": "stderr",
          "text": [
            "/usr/local/lib/python3.8/dist-packages/seaborn/axisgrid.py:670: UserWarning: Using the barplot function without specifying `order` is likely to produce an incorrect plot.\n",
            "  warnings.warn(warning)\n"
          ]
        },
        {
          "output_type": "execute_result",
          "data": {
            "text/plain": [
              "<seaborn.axisgrid.FacetGrid at 0x7f59b1197b20>"
            ]
          },
          "metadata": {},
          "execution_count": 51
        },
        {
          "output_type": "display_data",
          "data": {
            "text/plain": [
              "<Figure size 1296x432 with 5 Axes>"
            ],
            "image/png": "[encoded data removed]"
          },
          "metadata": {
            "needs_background": "light"
          }
        }
      ],
      "source": [
        "df1 = pd.DataFrame({'count': df.groupby(['BOROUGH', 'HOUR']).size()})\n",
        "df1 = df1.reset_index()\n",
        "chart = sns.FacetGrid(df1, col='BOROUGH', margin_titles=True, col_wrap=3, aspect=2, row_order=df['BOROUGH'].unique)\n",
        "chart.map(sns.barplot, 'HOUR', 'count',)"
      ]
    },
    {
      "cell_type": "markdown",
      "metadata": {
        "id": "2fTgjL3BEuLV"
      },
      "source": [
        "**¿Es mayor el número de accidentes en diferentes momentos en diferentes distritos? ¿Deberíamos concentrarnos en diferentes momentos para cada municipio?**"
      ]
    },
    {
      "cell_type": "markdown",
      "metadata": {
        "id": "CEdjQvXcEuLV"
      },
      "source": [
        "Podemos ver que en todos los distritos el recuento de accidentes es más alto aproximadamente entre las 2 y las 6 p.m. Pero en Manhattan y el Bronx, puede ver que no hay tanto aumento relativo durante estas horas como en Brooklyn o Queens. Además, Staten Island tiene el menor número total de accidentes."
      ]
    },
    {
      "cell_type": "markdown",
      "source": [
        "### Ejercicio 9 :\n",
        "\n",
        "¿Cuáles son las cinco principales causas de accidentes en la ciudad? ¿Qué tipo de vehículos están involucrados?"
      ],
      "metadata": {
        "id": "ddPqi8qxidm3"
      }
    },
    {
      "cell_type": "code",
      "source": [
        "df1=df\n",
        "df1['CONTRIBUTING FACTOR VEHICLE 1']=df1['CONTRIBUTING FACTOR VEHICLE 1'].str.lower()\n",
        "boroughs = df1.groupby('CONTRIBUTING FACTOR VEHICLE 1').size().sort_values().tail(10)\n",
        "boroughs.plot.barh()"
      ],
      "metadata": {
        "colab": {
          "base_uri": "https://localhost:8080/",
          "height": 282
        },
        "id": "e_z0XRrDhN7R",
        "outputId": "6f7d412d-7056-4e57-a192-579513dd27a2"
      },
      "execution_count": 77,
      "outputs": [
        {
          "output_type": "execute_result",
          "data": {
            "text/plain": [
              "<matplotlib.axes._subplots.AxesSubplot at 0x7f59ab1758b0>"
            ]
          },
          "metadata": {},
          "execution_count": 77
        },
        {
          "output_type": "display_data",
          "data": {
            "text/plain": [
              "<Figure size 432x288 with 1 Axes>"
            ],
            "image/png": "[encoded data removed]"
          },
          "metadata": {
            "needs_background": "light"
          }
        }
      ]
    },
    {
      "cell_type": "code",
      "source": [
        "df1=df\n",
        "df1['VEHICLE TYPE CODE 1']=df1['VEHICLE TYPE CODE 1'].str.lower()\n",
        "boroughs = df1.groupby('VEHICLE TYPE CODE 1').size().sort_values().tail(10)\n",
        "boroughs.plot.barh()"
      ],
      "metadata": {
        "colab": {
          "base_uri": "https://localhost:8080/",
          "height": 282
        },
        "id": "ZZTrvJs5gr9L",
        "outputId": "cc5bc5ae-28ab-4ba5-fcc3-33b75c6bdb83"
      },
      "execution_count": 76,
      "outputs": [
        {
          "output_type": "execute_result",
          "data": {
            "text/plain": [
              "<matplotlib.axes._subplots.AxesSubplot at 0x7f59a8d39460>"
            ]
          },
          "metadata": {},
          "execution_count": 76
        },
        {
          "output_type": "display_data",
          "data": {
            "text/plain": [
              "<Figure size 432x288 with 1 Axes>"
            ],
            "image/png": "[encoded data removed]"
          },
          "metadata": {
            "needs_background": "light"
          }
        }
      ]
    }
  ]
}