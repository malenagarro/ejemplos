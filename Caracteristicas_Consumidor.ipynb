{
  "cells": [
    {
      "cell_type": "markdown",
      "metadata": {
        "id": "-m1dp6ufN04O"
      },
      "source": [
        "# **Dataset de características del consumidor**"
      ]
    },
    {
      "cell_type": "markdown",
      "metadata": {
        "id": "WBwwcoZpvhrQ"
      },
      "source": [
        "## 🎈 **Introduction**"
      ]
    },
    {
      "cell_type": "markdown",
      "metadata": {
        "id": "knNjCuAmUpeI"
      },
      "source": [
        "### ➖ Abstract\n"
      ]
    },
    {
      "cell_type": "markdown",
      "metadata": {
        "id": "huszIV9TUp_n"
      },
      "source": [
        "**Introducción** <br>\n",
        "El presente trabajo comprende el estudio y el análisis del campo del consumo y las relaciones con los patrones usuales de las características del hombre. <br>\n",
        "¿Existe relación entre el consumo de una persona y sus características? <br>\n",
        "Ilustraremos el desarrollo de este trabajo desde diferentes perspectivas que comprometen los temas vistos anteriormente. <br><br>\n",
        "\n",
        "**Audiencia**<br>\n",
        "Este estudio está dirigido al nivel operativo y de ventas de las compañías, ya que es de mucha utilidad poder discriminar que políticas o campañas son más efectivas a la hora de promocionar los productos. Sobre todo para poder diferenciar los diferentes tipos de clientes. <br> <br>\n",
        "\n",
        "**Temática** <br>\n",
        "La temática que se investiga es la relación del consumo con las características del cliente, relacionando los diferentes aspectos como edad, estado civil, título académico, etc. Además, es de interés encontrar patrones o grupos con comportamientos similares. ***A través de este análisis buscamos segmentar el mercado para llegar a cada mercado meta con una propuesta de valor diferencia dándole valor al cliente***<br> <br>\n",
        "\n",
        "**Participantes** <br>\n",
        "Los participantes son clientes de una edad de entre 20 a 80 años más o menos y el sexo, el cual no se distingue. <br> <br>\n",
        "\n",
        "**Metodología** <br>\n",
        "El análisis de las características del cliente es un análisis detallado de los clientes ideales de una empresa. Ayuda a una empresa a comprender mejor a sus clientes y le facilita la modificación de los productos en función de las necesidades, los comportamientos y las preocupaciones específicas de los distintos tipos de clientes.\n",
        "<br>\n",
        "Por ejemplo, en lugar de gastar dinero en comercializar un nuevo producto a todos los clientes de la base de datos de la empresa, esta puede analizar qué segmento de clientes tiene más probabilidades de comprar el producto y, a continuación, comercializarlo solo en ese segmento concreto. <br> <br>\n",
        "\n",
        "\n",
        "\n",
        " \n",
        "\n"
      ]
    },
    {
      "cell_type": "markdown",
      "metadata": {
        "id": "FCz86-ms2xBI"
      },
      "source": [
        "### ➖ Definición de objetivo"
      ]
    },
    {
      "cell_type": "markdown",
      "metadata": {
        "id": "D1ZAaF2i3LZt"
      },
      "source": [
        "El objetivo primordial es optimizar los recursos para las campañas de marketing y ser más eficientes a la hora de publicitar los productos. Entre ello se encuentra ***poder discriminar los diferentes segmentos y grupos de clientes.***"
      ]
    },
    {
      "cell_type": "markdown",
      "metadata": {
        "id": "vSIocHY-6K5P"
      },
      "source": [
        "### ➖ Contexto comercial"
      ]
    },
    {
      "cell_type": "markdown",
      "metadata": {
        "id": "KzTNf17Y6WAY"
      },
      "source": [
        "Compañías de supermercados de Estados Unidos se han juntado para averiguar y entender la real efectividad de sus campañas de publicidad. Se ha recolectado información sobre los consumidores que han entrado en estas compañías entre los años 2012 y 2014\n",
        " "
      ]
    },
    {
      "cell_type": "markdown",
      "metadata": {
        "id": "qqNQPxmt8erO"
      },
      "source": [
        "### ➖ Problema comercial\n"
      ]
    },
    {
      "cell_type": "markdown",
      "metadata": {
        "id": "4AUXfTxM8iY_"
      },
      "source": [
        "Cabe analizar los siguientes problemas:\n",
        "1. ¿Existe una correlación entre el título académica, el salario y el consumo?\n",
        "2. ¿Existe una correlación entre las compras a través de la web y el rango etario de las personas?\n",
        "3. ¿Existe una relación entre la tolerancia a las campañas de marketing y características de la persona como edad o título académico?\n",
        "<br><br>"
      ]
    },
    {
      "cell_type": "markdown",
      "metadata": {
        "id": "F-8L2s5TBVr_"
      },
      "source": [
        "### ➖ Contexto analítico"
      ]
    },
    {
      "cell_type": "markdown",
      "metadata": {
        "id": "uszF-MDnBjyy"
      },
      "source": [
        "El archivo se encuentra en formato .CSV  que contiene detalles sobre cada consumidor, por ejemplo, ingreso, estado marital, estudios, cantidad de hijos, números de compras por la web y etc. El delimitador en el archivo .CSV dado es “\\t” en lugar del predeterminado “,”.\n"
      ]
    },
    {
      "cell_type": "markdown",
      "metadata": {
        "id": "OuGaWgpzUPdm"
      },
      "source": [
        "## 👓 **Metadata**"
      ]
    },
    {
      "cell_type": "markdown",
      "metadata": {
        "id": "IVAW1xX2UF71"
      },
      "source": [
        "**People**\n",
        "\n",
        "* ID: Identificador único del cliente\n",
        "* Year_Birth: Año del nacimiento del cliente\n",
        "* Education: Nivel de estudios del cliente\n",
        "* Marital_Status: Estado civil del cliente\n",
        "* Income: Ingresos anuales del cliente en el hogar\n",
        "* Kidhome: Número de hijos en el hogar del cliente\n",
        "* Teenhome: Número de adolescentes en el hogar del cliente\n",
        "* Dt_Customer: Fecha de inscripción del cliente en la empresa\n",
        "* Recency: Número de días desde la última compra del cliente\n",
        "* Complain: 1 si el cliente se ha quejado en los últimos 2 años, 0 en caso contrario\n",
        "\n",
        "**Products**\n",
        "\n",
        "* MntWines:  Cantidad gastada en vino en los últimos 2 años\n",
        "* MntFruits: Cantidad gastada en frutas en los últimos 2 años\n",
        "* MntMeatProducts: Cantidad gastada en carne en los últimos 2 años\n",
        "* MntFishProducts: Cantidad gastada en pescado en los últimos 2 años\n",
        "* MntSweetProducts: Cantidad gastada en dulces en los últimos 2 años\n",
        "* MntGoldProds: Cantidad gastada en oro en los últimos 2 años\n",
        "\n",
        "**Promotion**\n",
        "\n",
        "* NumDealsPurchases: Número de compras realizadas con descuento\n",
        "* AcceptedCmp1: 1 si el cliente aceptó la oferta en la 1ª campaña, 0 en caso contrario\n",
        "* AcceptedCmp2: 1 si el cliente aceptó la oferta en la 2ª campaña, 0 en caso contrario\n",
        "* AcceptedCmp3: 1 si el cliente aceptó la oferta en la 3ª campaña, 0 en caso contrario\n",
        "* AcceptedCmp4: 1 si el cliente aceptó la oferta en la 4ª campaña, 0 en caso contrario\n",
        "* AcceptedCmp5: 1 si el cliente aceptó la oferta en la 5ª campaña, 0 en caso contrario\n",
        "* Response: 1 si el cliente aceptó la oferta en la última campaña, 0 en caso contrario\n",
        "\n",
        "**Place**\n",
        "\n",
        "* NumWebPurchases: Número de compras realizadas a través de la página web de la empresa\n",
        "* NumCatalogPurchases: Número de compras realizadas a través de un catálogo\n",
        "* NumStorePurchases: Número de compras realizadas directamente en las tiendas\n",
        "* NumWebVisitsMonth: Número de visitas a la página web de la empresa en el último mes"
      ]
    },
    {
      "cell_type": "markdown",
      "metadata": {
        "id": "BKS7UXT9m1QY"
      },
      "source": [
        "## 📙 **Variable destacada**\n"
      ]
    },
    {
      "cell_type": "markdown",
      "metadata": {
        "id": "s9iAQSgHnHaF"
      },
      "source": [
        "En el caso del análisis de las características cabe destacar \n",
        "1. **Las variables de aceptación de la compra** del cliente luego de cada campaña (AcceptedCmp). Es interesante analizarla, ya que  nos permite saber cuál es la reacción del cliente a la oferta de la empresa y cuan reacio o no está a adquirir los productos.\n",
        "2. **La variable de cantidad de compras realizadas a través de la web**  (NumWeb). "
      ]
    },
    {
      "cell_type": "markdown",
      "metadata": {
        "id": "HacUE6MOCXaj"
      },
      "source": [
        "## 🧹 **Preparación de los datos**"
      ]
    },
    {
      "cell_type": "markdown",
      "metadata": {
        "id": "n2Vtg0gS1Tnl"
      },
      "source": [
        "***Instalación de paquetes***"
      ]
    },
    {
      "cell_type": "code",
      "execution_count": null,
      "metadata": {
        "colab": {
          "base_uri": "https://localhost:8080/"
        },
        "id": "Fh5mYUZr1Sh3",
        "outputId": "d06808d8-1254-4c70-ef17-3b1aae9317be"
      },
      "outputs": [
        {
          "output_type": "stream",
          "name": "stdout",
          "text": [
            "Looking in indexes: https://pypi.org/simple, https://us-python.pkg.dev/colab-wheels/public/simple/\n",
            "Requirement already satisfied: mlxtend in /usr/local/lib/python3.8/dist-packages (0.14.0)\n",
            "Requirement already satisfied: numpy>=1.10.4 in /usr/local/lib/python3.8/dist-packages (from mlxtend) (1.21.6)\n",
            "Requirement already satisfied: matplotlib>=1.5.1 in /usr/local/lib/python3.8/dist-packages (from mlxtend) (3.2.2)\n",
            "Requirement already satisfied: setuptools in /usr/local/lib/python3.8/dist-packages (from mlxtend) (57.4.0)\n",
            "Requirement already satisfied: pandas>=0.17.1 in /usr/local/lib/python3.8/dist-packages (from mlxtend) (1.3.5)\n",
            "Requirement already satisfied: scikit-learn>=0.18 in /usr/local/lib/python3.8/dist-packages (from mlxtend) (1.0.2)\n",
            "Requirement already satisfied: scipy>=0.17 in /usr/local/lib/python3.8/dist-packages (from mlxtend) (1.7.3)\n",
            "Requirement already satisfied: cycler>=0.10 in /usr/local/lib/python3.8/dist-packages (from matplotlib>=1.5.1->mlxtend) (0.11.0)\n",
            "Requirement already satisfied: python-dateutil>=2.1 in /usr/local/lib/python3.8/dist-packages (from matplotlib>=1.5.1->mlxtend) (2.8.2)\n",
            "Requirement already satisfied: kiwisolver>=1.0.1 in /usr/local/lib/python3.8/dist-packages (from matplotlib>=1.5.1->mlxtend) (1.4.4)\n",
            "Requirement already satisfied: pyparsing!=2.0.4,!=2.1.2,!=2.1.6,>=2.0.1 in /usr/local/lib/python3.8/dist-packages (from matplotlib>=1.5.1->mlxtend) (3.0.9)\n",
            "Requirement already satisfied: pytz>=2017.3 in /usr/local/lib/python3.8/dist-packages (from pandas>=0.17.1->mlxtend) (2022.7.1)\n",
            "Requirement already satisfied: threadpoolctl>=2.0.0 in /usr/local/lib/python3.8/dist-packages (from scikit-learn>=0.18->mlxtend) (3.1.0)\n",
            "Requirement already satisfied: joblib>=0.11 in /usr/local/lib/python3.8/dist-packages (from scikit-learn>=0.18->mlxtend) (1.2.0)\n",
            "Requirement already satisfied: six>=1.5 in /usr/local/lib/python3.8/dist-packages (from python-dateutil>=2.1->matplotlib>=1.5.1->mlxtend) (1.15.0)\n"
          ]
        }
      ],
      "source": [
        "!pip install mlxtend"
      ]
    },
    {
      "cell_type": "markdown",
      "metadata": {
        "id": "YFv4bsp2DQI4"
      },
      "source": [
        "***Importaciones de librerias***"
      ]
    },
    {
      "cell_type": "code",
      "execution_count": null,
      "metadata": {
        "id": "WvgX4wkMDxYW"
      },
      "outputs": [],
      "source": [
        "import pandas as pd\n",
        "import numpy as np\n",
        "import matplotlib.pyplot as plt\n",
        "import seaborn as sns\n",
        "import math\n",
        "import datetime as dt\n",
        "import sys\n",
        "import joblib\n",
        "import missingno as mn\n",
        "import warnings\n",
        "warnings.filterwarnings(\"ignore\")\n",
        "sys.modules['sklearn.externals.joblib'] = joblib"
      ]
    },
    {
      "cell_type": "markdown",
      "metadata": {
        "id": "SmnA7mVKDZTO"
      },
      "source": [
        "***Cargando los datos al notebook***"
      ]
    },
    {
      "cell_type": "code",
      "execution_count": null,
      "metadata": {
        "colab": {
          "base_uri": "https://localhost:8080/",
          "height": 488
        },
        "id": "kfFAWhSStCxx",
        "outputId": "f665c372-774c-4331-af09-eb2ad2765a56"
      },
      "outputs": [
        {
          "output_type": "execute_result",
          "data": {
            "text/plain": [
              "         ID  Year_Birth   Education Marital_Status   Income  Kidhome  \\\n",
              "0      5524        1957  Graduation         Single  58138.0        0   \n",
              "1      2174        1954  Graduation         Single  46344.0        1   \n",
              "2      4141        1965  Graduation       Together  71613.0        0   \n",
              "3      6182        1984  Graduation       Together  26646.0        1   \n",
              "4      5324        1981         PhD        Married  58293.0        1   \n",
              "...     ...         ...         ...            ...      ...      ...   \n",
              "2235  10870        1967  Graduation        Married  61223.0        0   \n",
              "2236   4001        1946         PhD       Together  64014.0        2   \n",
              "2237   7270        1981  Graduation       Divorced  56981.0        0   \n",
              "2238   8235        1956      Master       Together  69245.0        0   \n",
              "2239   9405        1954         PhD        Married  52869.0        1   \n",
              "\n",
              "      Teenhome Dt_Customer  Recency  MntWines  ...  NumWebVisitsMonth  \\\n",
              "0            0  04-09-2012       58       635  ...                  7   \n",
              "1            1  08-03-2014       38        11  ...                  5   \n",
              "2            0  21-08-2013       26       426  ...                  4   \n",
              "3            0  10-02-2014       26        11  ...                  6   \n",
              "4            0  19-01-2014       94       173  ...                  5   \n",
              "...        ...         ...      ...       ...  ...                ...   \n",
              "2235         1  13-06-2013       46       709  ...                  5   \n",
              "2236         1  10-06-2014       56       406  ...                  7   \n",
              "2237         0  25-01-2014       91       908  ...                  6   \n",
              "2238         1  24-01-2014        8       428  ...                  3   \n",
              "2239         1  15-10-2012       40        84  ...                  7   \n",
              "\n",
              "      AcceptedCmp3  AcceptedCmp4  AcceptedCmp5  AcceptedCmp1  AcceptedCmp2  \\\n",
              "0                0             0             0             0             0   \n",
              "1                0             0             0             0             0   \n",
              "2                0             0             0             0             0   \n",
              "3                0             0             0             0             0   \n",
              "4                0             0             0             0             0   \n",
              "...            ...           ...           ...           ...           ...   \n",
              "2235             0             0             0             0             0   \n",
              "2236             0             0             0             1             0   \n",
              "2237             0             1             0             0             0   \n",
              "2238             0             0             0             0             0   \n",
              "2239             0             0             0             0             0   \n",
              "\n",
              "      Complain  Z_CostContact  Z_Revenue  Response  \n",
              "0            0              3         11         1  \n",
              "1            0              3         11         0  \n",
              "2            0              3         11         0  \n",
              "3            0              3         11         0  \n",
              "4            0              3         11         0  \n",
              "...        ...            ...        ...       ...  \n",
              "2235         0              3         11         0  \n",
              "2236         0              3         11         0  \n",
              "2237         0              3         11         0  \n",
              "2238         0              3         11         0  \n",
              "2239         0              3         11         1  \n",
              "\n",
              "[2240 rows x 29 columns]"
            ],
            "text/html": [
              "\n",
              "  <div id=\"df-8a224b26-aaac-49a4-a577-09ed25a5ca4c\">\n",
              "    <div class=\"colab-df-container\">\n",
              "      <div>\n",
              "<style scoped>\n",
              "    .dataframe tbody tr th:only-of-type {\n",
              "        vertical-align: middle;\n",
              "    }\n",
              "\n",
              "    .dataframe tbody tr th {\n",
              "        vertical-align: top;\n",
              "    }\n",
              "\n",
              "    .dataframe thead th {\n",
              "        text-align: right;\n",
              "    }\n",
              "</style>\n",
              "<table border=\"1\" class=\"dataframe\">\n",
              "  <thead>\n",
              "    <tr style=\"text-align: right;\">\n",
              "      <th></th>\n",
              "      <th>ID</th>\n",
              "      <th>Year_Birth</th>\n",
              "      <th>Education</th>\n",
              "      <th>Marital_Status</th>\n",
              "      <th>Income</th>\n",
              "      <th>Kidhome</th>\n",
              "      <th>Teenhome</th>\n",
              "      <th>Dt_Customer</th>\n",
              "      <th>Recency</th>\n",
              "      <th>MntWines</th>\n",
              "      <th>...</th>\n",
              "      <th>NumWebVisitsMonth</th>\n",
              "      <th>AcceptedCmp3</th>\n",
              "      <th>AcceptedCmp4</th>\n",
              "      <th>AcceptedCmp5</th>\n",
              "      <th>AcceptedCmp1</th>\n",
              "      <th>AcceptedCmp2</th>\n",
              "      <th>Complain</th>\n",
              "      <th>Z_CostContact</th>\n",
              "      <th>Z_Revenue</th>\n",
              "      <th>Response</th>\n",
              "    </tr>\n",
              "  </thead>\n",
              "  <tbody>\n",
              "    <tr>\n",
              "      <th>0</th>\n",
              "      <td>5524</td>\n",
              "      <td>1957</td>\n",
              "      <td>Graduation</td>\n",
              "      <td>Single</td>\n",
              "      <td>58138.0</td>\n",
              "      <td>0</td>\n",
              "      <td>0</td>\n",
              "      <td>04-09-2012</td>\n",
              "      <td>58</td>\n",
              "      <td>635</td>\n",
              "      <td>...</td>\n",
              "      <td>7</td>\n",
              "      <td>0</td>\n",
              "      <td>0</td>\n",
              "      <td>0</td>\n",
              "      <td>0</td>\n",
              "      <td>0</td>\n",
              "      <td>0</td>\n",
              "      <td>3</td>\n",
              "      <td>11</td>\n",
              "      <td>1</td>\n",
              "    </tr>\n",
              "    <tr>\n",
              "      <th>1</th>\n",
              "      <td>2174</td>\n",
              "      <td>1954</td>\n",
              "      <td>Graduation</td>\n",
              "      <td>Single</td>\n",
              "      <td>46344.0</td>\n",
              "      <td>1</td>\n",
              "      <td>1</td>\n",
              "      <td>08-03-2014</td>\n",
              "      <td>38</td>\n",
              "      <td>11</td>\n",
              "      <td>...</td>\n",
              "      <td>5</td>\n",
              "      <td>0</td>\n",
              "      <td>0</td>\n",
              "      <td>0</td>\n",
              "      <td>0</td>\n",
              "      <td>0</td>\n",
              "      <td>0</td>\n",
              "      <td>3</td>\n",
              "      <td>11</td>\n",
              "      <td>0</td>\n",
              "    </tr>\n",
              "    <tr>\n",
              "      <th>2</th>\n",
              "      <td>4141</td>\n",
              "      <td>1965</td>\n",
              "      <td>Graduation</td>\n",
              "      <td>Together</td>\n",
              "      <td>71613.0</td>\n",
              "      <td>0</td>\n",
              "      <td>0</td>\n",
              "      <td>21-08-2013</td>\n",
              "      <td>26</td>\n",
              "      <td>426</td>\n",
              "      <td>...</td>\n",
              "      <td>4</td>\n",
              "      <td>0</td>\n",
              "      <td>0</td>\n",
              "      <td>0</td>\n",
              "      <td>0</td>\n",
              "      <td>0</td>\n",
              "      <td>0</td>\n",
              "      <td>3</td>\n",
              "      <td>11</td>\n",
              "      <td>0</td>\n",
              "    </tr>\n",
              "    <tr>\n",
              "      <th>3</th>\n",
              "      <td>6182</td>\n",
              "      <td>1984</td>\n",
              "      <td>Graduation</td>\n",
              "      <td>Together</td>\n",
              "      <td>26646.0</td>\n",
              "      <td>1</td>\n",
              "      <td>0</td>\n",
              "      <td>10-02-2014</td>\n",
              "      <td>26</td>\n",
              "      <td>11</td>\n",
              "      <td>...</td>\n",
              "      <td>6</td>\n",
              "      <td>0</td>\n",
              "      <td>0</td>\n",
              "      <td>0</td>\n",
              "      <td>0</td>\n",
              "      <td>0</td>\n",
              "      <td>0</td>\n",
              "      <td>3</td>\n",
              "      <td>11</td>\n",
              "      <td>0</td>\n",
              "    </tr>\n",
              "    <tr>\n",
              "      <th>4</th>\n",
              "      <td>5324</td>\n",
              "      <td>1981</td>\n",
              "      <td>PhD</td>\n",
              "      <td>Married</td>\n",
              "      <td>58293.0</td>\n",
              "      <td>1</td>\n",
              "      <td>0</td>\n",
              "      <td>19-01-2014</td>\n",
              "      <td>94</td>\n",
              "      <td>173</td>\n",
              "      <td>...</td>\n",
              "      <td>5</td>\n",
              "      <td>0</td>\n",
              "      <td>0</td>\n",
              "      <td>0</td>\n",
              "      <td>0</td>\n",
              "      <td>0</td>\n",
              "      <td>0</td>\n",
              "      <td>3</td>\n",
              "      <td>11</td>\n",
              "      <td>0</td>\n",
              "    </tr>\n",
              "    <tr>\n",
              "      <th>...</th>\n",
              "      <td>...</td>\n",
              "      <td>...</td>\n",
              "      <td>...</td>\n",
              "      <td>...</td>\n",
              "      <td>...</td>\n",
              "      <td>...</td>\n",
              "      <td>...</td>\n",
              "      <td>...</td>\n",
              "      <td>...</td>\n",
              "      <td>...</td>\n",
              "      <td>...</td>\n",
              "      <td>...</td>\n",
              "      <td>...</td>\n",
              "      <td>...</td>\n",
              "      <td>...</td>\n",
              "      <td>...</td>\n",
              "      <td>...</td>\n",
              "      <td>...</td>\n",
              "      <td>...</td>\n",
              "      <td>...</td>\n",
              "      <td>...</td>\n",
              "    </tr>\n",
              "    <tr>\n",
              "      <th>2235</th>\n",
              "      <td>10870</td>\n",
              "      <td>1967</td>\n",
              "      <td>Graduation</td>\n",
              "      <td>Married</td>\n",
              "      <td>61223.0</td>\n",
              "      <td>0</td>\n",
              "      <td>1</td>\n",
              "      <td>13-06-2013</td>\n",
              "      <td>46</td>\n",
              "      <td>709</td>\n",
              "      <td>...</td>\n",
              "      <td>5</td>\n",
              "      <td>0</td>\n",
              "      <td>0</td>\n",
              "      <td>0</td>\n",
              "      <td>0</td>\n",
              "      <td>0</td>\n",
              "      <td>0</td>\n",
              "      <td>3</td>\n",
              "      <td>11</td>\n",
              "      <td>0</td>\n",
              "    </tr>\n",
              "    <tr>\n",
              "      <th>2236</th>\n",
              "      <td>4001</td>\n",
              "      <td>1946</td>\n",
              "      <td>PhD</td>\n",
              "      <td>Together</td>\n",
              "      <td>64014.0</td>\n",
              "      <td>2</td>\n",
              "      <td>1</td>\n",
              "      <td>10-06-2014</td>\n",
              "      <td>56</td>\n",
              "      <td>406</td>\n",
              "      <td>...</td>\n",
              "      <td>7</td>\n",
              "      <td>0</td>\n",
              "      <td>0</td>\n",
              "      <td>0</td>\n",
              "      <td>1</td>\n",
              "      <td>0</td>\n",
              "      <td>0</td>\n",
              "      <td>3</td>\n",
              "      <td>11</td>\n",
              "      <td>0</td>\n",
              "    </tr>\n",
              "    <tr>\n",
              "      <th>2237</th>\n",
              "      <td>7270</td>\n",
              "      <td>1981</td>\n",
              "      <td>Graduation</td>\n",
              "      <td>Divorced</td>\n",
              "      <td>56981.0</td>\n",
              "      <td>0</td>\n",
              "      <td>0</td>\n",
              "      <td>25-01-2014</td>\n",
              "      <td>91</td>\n",
              "      <td>908</td>\n",
              "      <td>...</td>\n",
              "      <td>6</td>\n",
              "      <td>0</td>\n",
              "      <td>1</td>\n",
              "      <td>0</td>\n",
              "      <td>0</td>\n",
              "      <td>0</td>\n",
              "      <td>0</td>\n",
              "      <td>3</td>\n",
              "      <td>11</td>\n",
              "      <td>0</td>\n",
              "    </tr>\n",
              "    <tr>\n",
              "      <th>2238</th>\n",
              "      <td>8235</td>\n",
              "      <td>1956</td>\n",
              "      <td>Master</td>\n",
              "      <td>Together</td>\n",
              "      <td>69245.0</td>\n",
              "      <td>0</td>\n",
              "      <td>1</td>\n",
              "      <td>24-01-2014</td>\n",
              "      <td>8</td>\n",
              "      <td>428</td>\n",
              "      <td>...</td>\n",
              "      <td>3</td>\n",
              "      <td>0</td>\n",
              "      <td>0</td>\n",
              "      <td>0</td>\n",
              "      <td>0</td>\n",
              "      <td>0</td>\n",
              "      <td>0</td>\n",
              "      <td>3</td>\n",
              "      <td>11</td>\n",
              "      <td>0</td>\n",
              "    </tr>\n",
              "    <tr>\n",
              "      <th>2239</th>\n",
              "      <td>9405</td>\n",
              "      <td>1954</td>\n",
              "      <td>PhD</td>\n",
              "      <td>Married</td>\n",
              "      <td>52869.0</td>\n",
              "      <td>1</td>\n",
              "      <td>1</td>\n",
              "      <td>15-10-2012</td>\n",
              "      <td>40</td>\n",
              "      <td>84</td>\n",
              "      <td>...</td>\n",
              "      <td>7</td>\n",
              "      <td>0</td>\n",
              "      <td>0</td>\n",
              "      <td>0</td>\n",
              "      <td>0</td>\n",
              "      <td>0</td>\n",
              "      <td>0</td>\n",
              "      <td>3</td>\n",
              "      <td>11</td>\n",
              "      <td>1</td>\n",
              "    </tr>\n",
              "  </tbody>\n",
              "</table>\n",
              "<p>2240 rows × 29 columns</p>\n",
              "</div>\n",
              "      <button class=\"colab-df-convert\" onclick=\"convertToInteractive('df-8a224b26-aaac-49a4-a577-09ed25a5ca4c')\"\n",
              "              title=\"Convert this dataframe to an interactive table.\"\n",
              "              style=\"display:none;\">\n",
              "        \n",
              "  <svg xmlns=\"http://www.w3.org/2000/svg\" height=\"24px\"viewBox=\"0 0 24 24\"\n",
              "       width=\"24px\">\n",
              "    <path d=\"M0 0h24v24H0V0z\" fill=\"none\"/>\n",
              "    <path d=\"M18.56 5.44l.94 2.06.94-2.06 2.06-.94-2.06-.94-.94-2.06-.94 2.06-2.06.94zm-11 1L8.5 8.5l.94-2.06 2.06-.94-2.06-.94L8.5 2.5l-.94 2.06-2.06.94zm10 10l.94 2.06.94-2.06 2.06-.94-2.06-.94-.94-2.06-.94 2.06-2.06.94z\"/><path d=\"M17.41 7.96l-1.37-1.37c-.4-.4-.92-.59-1.43-.59-.52 0-1.04.2-1.43.59L10.3 9.45l-7.72 7.72c-.78.78-.78 2.05 0 2.83L4 21.41c.39.39.9.59 1.41.59.51 0 1.02-.2 1.41-.59l7.78-7.78 2.81-2.81c.8-.78.8-2.07 0-2.86zM5.41 20L4 18.59l7.72-7.72 1.47 1.35L5.41 20z\"/>\n",
              "  </svg>\n",
              "      </button>\n",
              "      \n",
              "  <style>\n",
              "    .colab-df-container {\n",
              "      display:flex;\n",
              "      flex-wrap:wrap;\n",
              "      gap: 12px;\n",
              "    }\n",
              "\n",
              "    .colab-df-convert {\n",
              "      background-color: #E8F0FE;\n",
              "      border: none;\n",
              "      border-radius: 50%;\n",
              "      cursor: pointer;\n",
              "      display: none;\n",
              "      fill: #1967D2;\n",
              "      height: 32px;\n",
              "      padding: 0 0 0 0;\n",
              "      width: 32px;\n",
              "    }\n",
              "\n",
              "    .colab-df-convert:hover {\n",
              "      background-color: #E2EBFA;\n",
              "      box-shadow: 0px 1px 2px rgba(60, 64, 67, 0.3), 0px 1px 3px 1px rgba(60, 64, 67, 0.15);\n",
              "      fill: #174EA6;\n",
              "    }\n",
              "\n",
              "    [theme=dark] .colab-df-convert {\n",
              "      background-color: #3B4455;\n",
              "      fill: #D2E3FC;\n",
              "    }\n",
              "\n",
              "    [theme=dark] .colab-df-convert:hover {\n",
              "      background-color: #434B5C;\n",
              "      box-shadow: 0px 1px 3px 1px rgba(0, 0, 0, 0.15);\n",
              "      filter: drop-shadow(0px 1px 2px rgba(0, 0, 0, 0.3));\n",
              "      fill: #FFFFFF;\n",
              "    }\n",
              "  </style>\n",
              "\n",
              "      <script>\n",
              "        const buttonEl =\n",
              "          document.querySelector('#df-8a224b26-aaac-49a4-a577-09ed25a5ca4c button.colab-df-convert');\n",
              "        buttonEl.style.display =\n",
              "          google.colab.kernel.accessAllowed ? 'block' : 'none';\n",
              "\n",
              "        async function convertToInteractive(key) {\n",
              "          const element = document.querySelector('#df-8a224b26-aaac-49a4-a577-09ed25a5ca4c');\n",
              "          const dataTable =\n",
              "            await google.colab.kernel.invokeFunction('convertToInteractive',\n",
              "                                                     [key], {});\n",
              "          if (!dataTable) return;\n",
              "\n",
              "          const docLinkHtml = 'Like what you see? Visit the ' +\n",
              "            '<a target=\"_blank\" href=https://colab.research.google.com/notebooks/data_table.ipynb>data table notebook</a>'\n",
              "            + ' to learn more about interactive tables.';\n",
              "          element.innerHTML = '';\n",
              "          dataTable['output_type'] = 'display_data';\n",
              "          await google.colab.output.renderOutput(dataTable, element);\n",
              "          const docLink = document.createElement('div');\n",
              "          docLink.innerHTML = docLinkHtml;\n",
              "          element.appendChild(docLink);\n",
              "        }\n",
              "      </script>\n",
              "    </div>\n",
              "  </div>\n",
              "  "
            ]
          },
          "metadata": {},
          "execution_count": 245
        }
      ],
      "source": [
        "import pandas as pd\n",
        "# De ahora en más nos refderiremos al dataset de caracterísitcas del consumidor como \"df\"\n",
        "df= pd.read_csv(\"https://raw.githubusercontent.com/franciscosesto/Datasciencefiles/main/marketing_campaign.csv\",sep=\"\\t\")\n",
        "df"
      ]
    },
    {
      "cell_type": "markdown",
      "metadata": {
        "id": "mymJ-TYtDiZ6"
      },
      "source": [
        "***Forma de los datos***"
      ]
    },
    {
      "cell_type": "code",
      "execution_count": null,
      "metadata": {
        "colab": {
          "base_uri": "https://localhost:8080/",
          "height": 334
        },
        "id": "EMhUAkXCDoNR",
        "outputId": "51d4c376-94c5-4e12-d2a2-0d1ebe02404e"
      },
      "outputs": [
        {
          "output_type": "stream",
          "name": "stdout",
          "text": [
            "shape of the data : (2240, 29)\n",
            "****************************************************************************************************\n"
          ]
        },
        {
          "output_type": "execute_result",
          "data": {
            "text/plain": [
              "     ID  Year_Birth   Education Marital_Status   Income  Kidhome  Teenhome  \\\n",
              "0  5524        1957  Graduation         Single  58138.0        0         0   \n",
              "1  2174        1954  Graduation         Single  46344.0        1         1   \n",
              "2  4141        1965  Graduation       Together  71613.0        0         0   \n",
              "3  6182        1984  Graduation       Together  26646.0        1         0   \n",
              "4  5324        1981         PhD        Married  58293.0        1         0   \n",
              "\n",
              "  Dt_Customer  Recency  MntWines  ...  NumWebVisitsMonth  AcceptedCmp3  \\\n",
              "0  04-09-2012       58       635  ...                  7             0   \n",
              "1  08-03-2014       38        11  ...                  5             0   \n",
              "2  21-08-2013       26       426  ...                  4             0   \n",
              "3  10-02-2014       26        11  ...                  6             0   \n",
              "4  19-01-2014       94       173  ...                  5             0   \n",
              "\n",
              "   AcceptedCmp4  AcceptedCmp5  AcceptedCmp1  AcceptedCmp2  Complain  \\\n",
              "0             0             0             0             0         0   \n",
              "1             0             0             0             0         0   \n",
              "2             0             0             0             0         0   \n",
              "3             0             0             0             0         0   \n",
              "4             0             0             0             0         0   \n",
              "\n",
              "   Z_CostContact  Z_Revenue  Response  \n",
              "0              3         11         1  \n",
              "1              3         11         0  \n",
              "2              3         11         0  \n",
              "3              3         11         0  \n",
              "4              3         11         0  \n",
              "\n",
              "[5 rows x 29 columns]"
            ],
            "text/html": [
              "\n",
              "  <div id=\"df-327284ec-e3bb-468f-9554-50aee9ac77ec\">\n",
              "    <div class=\"colab-df-container\">\n",
              "      <div>\n",
              "<style scoped>\n",
              "    .dataframe tbody tr th:only-of-type {\n",
              "        vertical-align: middle;\n",
              "    }\n",
              "\n",
              "    .dataframe tbody tr th {\n",
              "        vertical-align: top;\n",
              "    }\n",
              "\n",
              "    .dataframe thead th {\n",
              "        text-align: right;\n",
              "    }\n",
              "</style>\n",
              "<table border=\"1\" class=\"dataframe\">\n",
              "  <thead>\n",
              "    <tr style=\"text-align: right;\">\n",
              "      <th></th>\n",
              "      <th>ID</th>\n",
              "      <th>Year_Birth</th>\n",
              "      <th>Education</th>\n",
              "      <th>Marital_Status</th>\n",
              "      <th>Income</th>\n",
              "      <th>Kidhome</th>\n",
              "      <th>Teenhome</th>\n",
              "      <th>Dt_Customer</th>\n",
              "      <th>Recency</th>\n",
              "      <th>MntWines</th>\n",
              "      <th>...</th>\n",
              "      <th>NumWebVisitsMonth</th>\n",
              "      <th>AcceptedCmp3</th>\n",
              "      <th>AcceptedCmp4</th>\n",
              "      <th>AcceptedCmp5</th>\n",
              "      <th>AcceptedCmp1</th>\n",
              "      <th>AcceptedCmp2</th>\n",
              "      <th>Complain</th>\n",
              "      <th>Z_CostContact</th>\n",
              "      <th>Z_Revenue</th>\n",
              "      <th>Response</th>\n",
              "    </tr>\n",
              "  </thead>\n",
              "  <tbody>\n",
              "    <tr>\n",
              "      <th>0</th>\n",
              "      <td>5524</td>\n",
              "      <td>1957</td>\n",
              "      <td>Graduation</td>\n",
              "      <td>Single</td>\n",
              "      <td>58138.0</td>\n",
              "      <td>0</td>\n",
              "      <td>0</td>\n",
              "      <td>04-09-2012</td>\n",
              "      <td>58</td>\n",
              "      <td>635</td>\n",
              "      <td>...</td>\n",
              "      <td>7</td>\n",
              "      <td>0</td>\n",
              "      <td>0</td>\n",
              "      <td>0</td>\n",
              "      <td>0</td>\n",
              "      <td>0</td>\n",
              "      <td>0</td>\n",
              "      <td>3</td>\n",
              "      <td>11</td>\n",
              "      <td>1</td>\n",
              "    </tr>\n",
              "    <tr>\n",
              "      <th>1</th>\n",
              "      <td>2174</td>\n",
              "      <td>1954</td>\n",
              "      <td>Graduation</td>\n",
              "      <td>Single</td>\n",
              "      <td>46344.0</td>\n",
              "      <td>1</td>\n",
              "      <td>1</td>\n",
              "      <td>08-03-2014</td>\n",
              "      <td>38</td>\n",
              "      <td>11</td>\n",
              "      <td>...</td>\n",
              "      <td>5</td>\n",
              "      <td>0</td>\n",
              "      <td>0</td>\n",
              "      <td>0</td>\n",
              "      <td>0</td>\n",
              "      <td>0</td>\n",
              "      <td>0</td>\n",
              "      <td>3</td>\n",
              "      <td>11</td>\n",
              "      <td>0</td>\n",
              "    </tr>\n",
              "    <tr>\n",
              "      <th>2</th>\n",
              "      <td>4141</td>\n",
              "      <td>1965</td>\n",
              "      <td>Graduation</td>\n",
              "      <td>Together</td>\n",
              "      <td>71613.0</td>\n",
              "      <td>0</td>\n",
              "      <td>0</td>\n",
              "      <td>21-08-2013</td>\n",
              "      <td>26</td>\n",
              "      <td>426</td>\n",
              "      <td>...</td>\n",
              "      <td>4</td>\n",
              "      <td>0</td>\n",
              "      <td>0</td>\n",
              "      <td>0</td>\n",
              "      <td>0</td>\n",
              "      <td>0</td>\n",
              "      <td>0</td>\n",
              "      <td>3</td>\n",
              "      <td>11</td>\n",
              "      <td>0</td>\n",
              "    </tr>\n",
              "    <tr>\n",
              "      <th>3</th>\n",
              "      <td>6182</td>\n",
              "      <td>1984</td>\n",
              "      <td>Graduation</td>\n",
              "      <td>Together</td>\n",
              "      <td>26646.0</td>\n",
              "      <td>1</td>\n",
              "      <td>0</td>\n",
              "      <td>10-02-2014</td>\n",
              "      <td>26</td>\n",
              "      <td>11</td>\n",
              "      <td>...</td>\n",
              "      <td>6</td>\n",
              "      <td>0</td>\n",
              "      <td>0</td>\n",
              "      <td>0</td>\n",
              "      <td>0</td>\n",
              "      <td>0</td>\n",
              "      <td>0</td>\n",
              "      <td>3</td>\n",
              "      <td>11</td>\n",
              "      <td>0</td>\n",
              "    </tr>\n",
              "    <tr>\n",
              "      <th>4</th>\n",
              "      <td>5324</td>\n",
              "      <td>1981</td>\n",
              "      <td>PhD</td>\n",
              "      <td>Married</td>\n",
              "      <td>58293.0</td>\n",
              "      <td>1</td>\n",
              "      <td>0</td>\n",
              "      <td>19-01-2014</td>\n",
              "      <td>94</td>\n",
              "      <td>173</td>\n",
              "      <td>...</td>\n",
              "      <td>5</td>\n",
              "      <td>0</td>\n",
              "      <td>0</td>\n",
              "      <td>0</td>\n",
              "      <td>0</td>\n",
              "      <td>0</td>\n",
              "      <td>0</td>\n",
              "      <td>3</td>\n",
              "      <td>11</td>\n",
              "      <td>0</td>\n",
              "    </tr>\n",
              "  </tbody>\n",
              "</table>\n",
              "<p>5 rows × 29 columns</p>\n",
              "</div>\n",
              "      <button class=\"colab-df-convert\" onclick=\"convertToInteractive('df-327284ec-e3bb-468f-9554-50aee9ac77ec')\"\n",
              "              title=\"Convert this dataframe to an interactive table.\"\n",
              "              style=\"display:none;\">\n",
              "        \n",
              "  <svg xmlns=\"http://www.w3.org/2000/svg\" height=\"24px\"viewBox=\"0 0 24 24\"\n",
              "       width=\"24px\">\n",
              "    <path d=\"M0 0h24v24H0V0z\" fill=\"none\"/>\n",
              "    <path d=\"M18.56 5.44l.94 2.06.94-2.06 2.06-.94-2.06-.94-.94-2.06-.94 2.06-2.06.94zm-11 1L8.5 8.5l.94-2.06 2.06-.94-2.06-.94L8.5 2.5l-.94 2.06-2.06.94zm10 10l.94 2.06.94-2.06 2.06-.94-2.06-.94-.94-2.06-.94 2.06-2.06.94z\"/><path d=\"M17.41 7.96l-1.37-1.37c-.4-.4-.92-.59-1.43-.59-.52 0-1.04.2-1.43.59L10.3 9.45l-7.72 7.72c-.78.78-.78 2.05 0 2.83L4 21.41c.39.39.9.59 1.41.59.51 0 1.02-.2 1.41-.59l7.78-7.78 2.81-2.81c.8-.78.8-2.07 0-2.86zM5.41 20L4 18.59l7.72-7.72 1.47 1.35L5.41 20z\"/>\n",
              "  </svg>\n",
              "      </button>\n",
              "      \n",
              "  <style>\n",
              "    .colab-df-container {\n",
              "      display:flex;\n",
              "      flex-wrap:wrap;\n",
              "      gap: 12px;\n",
              "    }\n",
              "\n",
              "    .colab-df-convert {\n",
              "      background-color: #E8F0FE;\n",
              "      border: none;\n",
              "      border-radius: 50%;\n",
              "      cursor: pointer;\n",
              "      display: none;\n",
              "      fill: #1967D2;\n",
              "      height: 32px;\n",
              "      padding: 0 0 0 0;\n",
              "      width: 32px;\n",
              "    }\n",
              "\n",
              "    .colab-df-convert:hover {\n",
              "      background-color: #E2EBFA;\n",
              "      box-shadow: 0px 1px 2px rgba(60, 64, 67, 0.3), 0px 1px 3px 1px rgba(60, 64, 67, 0.15);\n",
              "      fill: #174EA6;\n",
              "    }\n",
              "\n",
              "    [theme=dark] .colab-df-convert {\n",
              "      background-color: #3B4455;\n",
              "      fill: #D2E3FC;\n",
              "    }\n",
              "\n",
              "    [theme=dark] .colab-df-convert:hover {\n",
              "      background-color: #434B5C;\n",
              "      box-shadow: 0px 1px 3px 1px rgba(0, 0, 0, 0.15);\n",
              "      filter: drop-shadow(0px 1px 2px rgba(0, 0, 0, 0.3));\n",
              "      fill: #FFFFFF;\n",
              "    }\n",
              "  </style>\n",
              "\n",
              "      <script>\n",
              "        const buttonEl =\n",
              "          document.querySelector('#df-327284ec-e3bb-468f-9554-50aee9ac77ec button.colab-df-convert');\n",
              "        buttonEl.style.display =\n",
              "          google.colab.kernel.accessAllowed ? 'block' : 'none';\n",
              "\n",
              "        async function convertToInteractive(key) {\n",
              "          const element = document.querySelector('#df-327284ec-e3bb-468f-9554-50aee9ac77ec');\n",
              "          const dataTable =\n",
              "            await google.colab.kernel.invokeFunction('convertToInteractive',\n",
              "                                                     [key], {});\n",
              "          if (!dataTable) return;\n",
              "\n",
              "          const docLinkHtml = 'Like what you see? Visit the ' +\n",
              "            '<a target=\"_blank\" href=https://colab.research.google.com/notebooks/data_table.ipynb>data table notebook</a>'\n",
              "            + ' to learn more about interactive tables.';\n",
              "          element.innerHTML = '';\n",
              "          dataTable['output_type'] = 'display_data';\n",
              "          await google.colab.output.renderOutput(dataTable, element);\n",
              "          const docLink = document.createElement('div');\n",
              "          docLink.innerHTML = docLinkHtml;\n",
              "          element.appendChild(docLink);\n",
              "        }\n",
              "      </script>\n",
              "    </div>\n",
              "  </div>\n",
              "  "
            ]
          },
          "metadata": {},
          "execution_count": 246
        }
      ],
      "source": [
        "print(\"shape of the data :\",df.shape)\n",
        "print('**'*50)  \n",
        "df.head()"
      ]
    },
    {
      "cell_type": "markdown",
      "metadata": {
        "id": "LeykaVSNFG7q"
      },
      "source": [
        "***Información general sobre los datos***"
      ]
    },
    {
      "cell_type": "code",
      "execution_count": null,
      "metadata": {
        "colab": {
          "base_uri": "https://localhost:8080/"
        },
        "id": "0TJWfchkvHvr",
        "outputId": "9ddd7dbe-a7e5-4f2f-88ba-52ec727752b6"
      },
      "outputs": [
        {
          "output_type": "stream",
          "name": "stdout",
          "text": [
            "<class 'pandas.core.frame.DataFrame'>\n",
            "RangeIndex: 2240 entries, 0 to 2239\n",
            "Data columns (total 29 columns):\n",
            " #   Column               Non-Null Count  Dtype  \n",
            "---  ------               --------------  -----  \n",
            " 0   ID                   2240 non-null   int64  \n",
            " 1   Year_Birth           2240 non-null   int64  \n",
            " 2   Education            2240 non-null   object \n",
            " 3   Marital_Status       2240 non-null   object \n",
            " 4   Income               2216 non-null   float64\n",
            " 5   Kidhome              2240 non-null   int64  \n",
            " 6   Teenhome             2240 non-null   int64  \n",
            " 7   Dt_Customer          2240 non-null   object \n",
            " 8   Recency              2240 non-null   int64  \n",
            " 9   MntWines             2240 non-null   int64  \n",
            " 10  MntFruits            2240 non-null   int64  \n",
            " 11  MntMeatProducts      2240 non-null   int64  \n",
            " 12  MntFishProducts      2240 non-null   int64  \n",
            " 13  MntSweetProducts     2240 non-null   int64  \n",
            " 14  MntGoldProds         2240 non-null   int64  \n",
            " 15  NumDealsPurchases    2240 non-null   int64  \n",
            " 16  NumWebPurchases      2240 non-null   int64  \n",
            " 17  NumCatalogPurchases  2240 non-null   int64  \n",
            " 18  NumStorePurchases    2240 non-null   int64  \n",
            " 19  NumWebVisitsMonth    2240 non-null   int64  \n",
            " 20  AcceptedCmp3         2240 non-null   int64  \n",
            " 21  AcceptedCmp4         2240 non-null   int64  \n",
            " 22  AcceptedCmp5         2240 non-null   int64  \n",
            " 23  AcceptedCmp1         2240 non-null   int64  \n",
            " 24  AcceptedCmp2         2240 non-null   int64  \n",
            " 25  Complain             2240 non-null   int64  \n",
            " 26  Z_CostContact        2240 non-null   int64  \n",
            " 27  Z_Revenue            2240 non-null   int64  \n",
            " 28  Response             2240 non-null   int64  \n",
            "dtypes: float64(1), int64(25), object(3)\n",
            "memory usage: 507.6+ KB\n"
          ]
        }
      ],
      "source": [
        "df.info()"
      ]
    },
    {
      "cell_type": "code",
      "execution_count": null,
      "metadata": {
        "colab": {
          "base_uri": "https://localhost:8080/",
          "height": 959
        },
        "id": "nAjqW1zMgo08",
        "outputId": "2ca543cb-975c-4509-a6ce-91338c00104b"
      },
      "outputs": [
        {
          "output_type": "execute_result",
          "data": {
            "text/plain": [
              "                            min          mean         max\n",
              "ID                          0.0   5592.159821     11191.0\n",
              "Year_Birth               1893.0   1968.805804      1996.0\n",
              "Education              2n Cycle           NaN         PhD\n",
              "Marital_Status           Absurd           NaN        YOLO\n",
              "Income                   1730.0  52247.251354    666666.0\n",
              "Kidhome                     0.0      0.444196         2.0\n",
              "Teenhome                    0.0       0.50625         2.0\n",
              "Dt_Customer          01-01-2013           NaN  31-12-2013\n",
              "Recency                     0.0     49.109375        99.0\n",
              "MntWines                    0.0    303.935714      1493.0\n",
              "MntFruits                   0.0     26.302232       199.0\n",
              "MntMeatProducts             0.0        166.95      1725.0\n",
              "MntFishProducts             0.0     37.525446       259.0\n",
              "MntSweetProducts            0.0     27.062946       263.0\n",
              "MntGoldProds                0.0     44.021875       362.0\n",
              "NumDealsPurchases           0.0         2.325        15.0\n",
              "NumWebPurchases             0.0      4.084821        27.0\n",
              "NumCatalogPurchases         0.0      2.662054        28.0\n",
              "NumStorePurchases           0.0      5.790179        13.0\n",
              "NumWebVisitsMonth           0.0      5.316518        20.0\n",
              "AcceptedCmp3                0.0      0.072768         1.0\n",
              "AcceptedCmp4                0.0      0.074554         1.0\n",
              "AcceptedCmp5                0.0      0.072768         1.0\n",
              "AcceptedCmp1                0.0      0.064286         1.0\n",
              "AcceptedCmp2                0.0      0.013393         1.0\n",
              "Complain                    0.0      0.009375         1.0\n",
              "Z_CostContact               3.0           3.0         3.0\n",
              "Z_Revenue                  11.0          11.0        11.0\n",
              "Response                    0.0      0.149107         1.0"
            ],
            "text/html": [
              "\n",
              "  <div id=\"df-296d231e-2a35-48fe-9f20-33a771a81179\">\n",
              "    <div class=\"colab-df-container\">\n",
              "      <div>\n",
              "<style scoped>\n",
              "    .dataframe tbody tr th:only-of-type {\n",
              "        vertical-align: middle;\n",
              "    }\n",
              "\n",
              "    .dataframe tbody tr th {\n",
              "        vertical-align: top;\n",
              "    }\n",
              "\n",
              "    .dataframe thead th {\n",
              "        text-align: right;\n",
              "    }\n",
              "</style>\n",
              "<table border=\"1\" class=\"dataframe\">\n",
              "  <thead>\n",
              "    <tr style=\"text-align: right;\">\n",
              "      <th></th>\n",
              "      <th>min</th>\n",
              "      <th>mean</th>\n",
              "      <th>max</th>\n",
              "    </tr>\n",
              "  </thead>\n",
              "  <tbody>\n",
              "    <tr>\n",
              "      <th>ID</th>\n",
              "      <td>0.0</td>\n",
              "      <td>5592.159821</td>\n",
              "      <td>11191.0</td>\n",
              "    </tr>\n",
              "    <tr>\n",
              "      <th>Year_Birth</th>\n",
              "      <td>1893.0</td>\n",
              "      <td>1968.805804</td>\n",
              "      <td>1996.0</td>\n",
              "    </tr>\n",
              "    <tr>\n",
              "      <th>Education</th>\n",
              "      <td>2n Cycle</td>\n",
              "      <td>NaN</td>\n",
              "      <td>PhD</td>\n",
              "    </tr>\n",
              "    <tr>\n",
              "      <th>Marital_Status</th>\n",
              "      <td>Absurd</td>\n",
              "      <td>NaN</td>\n",
              "      <td>YOLO</td>\n",
              "    </tr>\n",
              "    <tr>\n",
              "      <th>Income</th>\n",
              "      <td>1730.0</td>\n",
              "      <td>52247.251354</td>\n",
              "      <td>666666.0</td>\n",
              "    </tr>\n",
              "    <tr>\n",
              "      <th>Kidhome</th>\n",
              "      <td>0.0</td>\n",
              "      <td>0.444196</td>\n",
              "      <td>2.0</td>\n",
              "    </tr>\n",
              "    <tr>\n",
              "      <th>Teenhome</th>\n",
              "      <td>0.0</td>\n",
              "      <td>0.50625</td>\n",
              "      <td>2.0</td>\n",
              "    </tr>\n",
              "    <tr>\n",
              "      <th>Dt_Customer</th>\n",
              "      <td>01-01-2013</td>\n",
              "      <td>NaN</td>\n",
              "      <td>31-12-2013</td>\n",
              "    </tr>\n",
              "    <tr>\n",
              "      <th>Recency</th>\n",
              "      <td>0.0</td>\n",
              "      <td>49.109375</td>\n",
              "      <td>99.0</td>\n",
              "    </tr>\n",
              "    <tr>\n",
              "      <th>MntWines</th>\n",
              "      <td>0.0</td>\n",
              "      <td>303.935714</td>\n",
              "      <td>1493.0</td>\n",
              "    </tr>\n",
              "    <tr>\n",
              "      <th>MntFruits</th>\n",
              "      <td>0.0</td>\n",
              "      <td>26.302232</td>\n",
              "      <td>199.0</td>\n",
              "    </tr>\n",
              "    <tr>\n",
              "      <th>MntMeatProducts</th>\n",
              "      <td>0.0</td>\n",
              "      <td>166.95</td>\n",
              "      <td>1725.0</td>\n",
              "    </tr>\n",
              "    <tr>\n",
              "      <th>MntFishProducts</th>\n",
              "      <td>0.0</td>\n",
              "      <td>37.525446</td>\n",
              "      <td>259.0</td>\n",
              "    </tr>\n",
              "    <tr>\n",
              "      <th>MntSweetProducts</th>\n",
              "      <td>0.0</td>\n",
              "      <td>27.062946</td>\n",
              "      <td>263.0</td>\n",
              "    </tr>\n",
              "    <tr>\n",
              "      <th>MntGoldProds</th>\n",
              "      <td>0.0</td>\n",
              "      <td>44.021875</td>\n",
              "      <td>362.0</td>\n",
              "    </tr>\n",
              "    <tr>\n",
              "      <th>NumDealsPurchases</th>\n",
              "      <td>0.0</td>\n",
              "      <td>2.325</td>\n",
              "      <td>15.0</td>\n",
              "    </tr>\n",
              "    <tr>\n",
              "      <th>NumWebPurchases</th>\n",
              "      <td>0.0</td>\n",
              "      <td>4.084821</td>\n",
              "      <td>27.0</td>\n",
              "    </tr>\n",
              "    <tr>\n",
              "      <th>NumCatalogPurchases</th>\n",
              "      <td>0.0</td>\n",
              "      <td>2.662054</td>\n",
              "      <td>28.0</td>\n",
              "    </tr>\n",
              "    <tr>\n",
              "      <th>NumStorePurchases</th>\n",
              "      <td>0.0</td>\n",
              "      <td>5.790179</td>\n",
              "      <td>13.0</td>\n",
              "    </tr>\n",
              "    <tr>\n",
              "      <th>NumWebVisitsMonth</th>\n",
              "      <td>0.0</td>\n",
              "      <td>5.316518</td>\n",
              "      <td>20.0</td>\n",
              "    </tr>\n",
              "    <tr>\n",
              "      <th>AcceptedCmp3</th>\n",
              "      <td>0.0</td>\n",
              "      <td>0.072768</td>\n",
              "      <td>1.0</td>\n",
              "    </tr>\n",
              "    <tr>\n",
              "      <th>AcceptedCmp4</th>\n",
              "      <td>0.0</td>\n",
              "      <td>0.074554</td>\n",
              "      <td>1.0</td>\n",
              "    </tr>\n",
              "    <tr>\n",
              "      <th>AcceptedCmp5</th>\n",
              "      <td>0.0</td>\n",
              "      <td>0.072768</td>\n",
              "      <td>1.0</td>\n",
              "    </tr>\n",
              "    <tr>\n",
              "      <th>AcceptedCmp1</th>\n",
              "      <td>0.0</td>\n",
              "      <td>0.064286</td>\n",
              "      <td>1.0</td>\n",
              "    </tr>\n",
              "    <tr>\n",
              "      <th>AcceptedCmp2</th>\n",
              "      <td>0.0</td>\n",
              "      <td>0.013393</td>\n",
              "      <td>1.0</td>\n",
              "    </tr>\n",
              "    <tr>\n",
              "      <th>Complain</th>\n",
              "      <td>0.0</td>\n",
              "      <td>0.009375</td>\n",
              "      <td>1.0</td>\n",
              "    </tr>\n",
              "    <tr>\n",
              "      <th>Z_CostContact</th>\n",
              "      <td>3.0</td>\n",
              "      <td>3.0</td>\n",
              "      <td>3.0</td>\n",
              "    </tr>\n",
              "    <tr>\n",
              "      <th>Z_Revenue</th>\n",
              "      <td>11.0</td>\n",
              "      <td>11.0</td>\n",
              "      <td>11.0</td>\n",
              "    </tr>\n",
              "    <tr>\n",
              "      <th>Response</th>\n",
              "      <td>0.0</td>\n",
              "      <td>0.149107</td>\n",
              "      <td>1.0</td>\n",
              "    </tr>\n",
              "  </tbody>\n",
              "</table>\n",
              "</div>\n",
              "      <button class=\"colab-df-convert\" onclick=\"convertToInteractive('df-296d231e-2a35-48fe-9f20-33a771a81179')\"\n",
              "              title=\"Convert this dataframe to an interactive table.\"\n",
              "              style=\"display:none;\">\n",
              "        \n",
              "  <svg xmlns=\"http://www.w3.org/2000/svg\" height=\"24px\"viewBox=\"0 0 24 24\"\n",
              "       width=\"24px\">\n",
              "    <path d=\"M0 0h24v24H0V0z\" fill=\"none\"/>\n",
              "    <path d=\"M18.56 5.44l.94 2.06.94-2.06 2.06-.94-2.06-.94-.94-2.06-.94 2.06-2.06.94zm-11 1L8.5 8.5l.94-2.06 2.06-.94-2.06-.94L8.5 2.5l-.94 2.06-2.06.94zm10 10l.94 2.06.94-2.06 2.06-.94-2.06-.94-.94-2.06-.94 2.06-2.06.94z\"/><path d=\"M17.41 7.96l-1.37-1.37c-.4-.4-.92-.59-1.43-.59-.52 0-1.04.2-1.43.59L10.3 9.45l-7.72 7.72c-.78.78-.78 2.05 0 2.83L4 21.41c.39.39.9.59 1.41.59.51 0 1.02-.2 1.41-.59l7.78-7.78 2.81-2.81c.8-.78.8-2.07 0-2.86zM5.41 20L4 18.59l7.72-7.72 1.47 1.35L5.41 20z\"/>\n",
              "  </svg>\n",
              "      </button>\n",
              "      \n",
              "  <style>\n",
              "    .colab-df-container {\n",
              "      display:flex;\n",
              "      flex-wrap:wrap;\n",
              "      gap: 12px;\n",
              "    }\n",
              "\n",
              "    .colab-df-convert {\n",
              "      background-color: #E8F0FE;\n",
              "      border: none;\n",
              "      border-radius: 50%;\n",
              "      cursor: pointer;\n",
              "      display: none;\n",
              "      fill: #1967D2;\n",
              "      height: 32px;\n",
              "      padding: 0 0 0 0;\n",
              "      width: 32px;\n",
              "    }\n",
              "\n",
              "    .colab-df-convert:hover {\n",
              "      background-color: #E2EBFA;\n",
              "      box-shadow: 0px 1px 2px rgba(60, 64, 67, 0.3), 0px 1px 3px 1px rgba(60, 64, 67, 0.15);\n",
              "      fill: #174EA6;\n",
              "    }\n",
              "\n",
              "    [theme=dark] .colab-df-convert {\n",
              "      background-color: #3B4455;\n",
              "      fill: #D2E3FC;\n",
              "    }\n",
              "\n",
              "    [theme=dark] .colab-df-convert:hover {\n",
              "      background-color: #434B5C;\n",
              "      box-shadow: 0px 1px 3px 1px rgba(0, 0, 0, 0.15);\n",
              "      filter: drop-shadow(0px 1px 2px rgba(0, 0, 0, 0.3));\n",
              "      fill: #FFFFFF;\n",
              "    }\n",
              "  </style>\n",
              "\n",
              "      <script>\n",
              "        const buttonEl =\n",
              "          document.querySelector('#df-296d231e-2a35-48fe-9f20-33a771a81179 button.colab-df-convert');\n",
              "        buttonEl.style.display =\n",
              "          google.colab.kernel.accessAllowed ? 'block' : 'none';\n",
              "\n",
              "        async function convertToInteractive(key) {\n",
              "          const element = document.querySelector('#df-296d231e-2a35-48fe-9f20-33a771a81179');\n",
              "          const dataTable =\n",
              "            await google.colab.kernel.invokeFunction('convertToInteractive',\n",
              "                                                     [key], {});\n",
              "          if (!dataTable) return;\n",
              "\n",
              "          const docLinkHtml = 'Like what you see? Visit the ' +\n",
              "            '<a target=\"_blank\" href=https://colab.research.google.com/notebooks/data_table.ipynb>data table notebook</a>'\n",
              "            + ' to learn more about interactive tables.';\n",
              "          element.innerHTML = '';\n",
              "          dataTable['output_type'] = 'display_data';\n",
              "          await google.colab.output.renderOutput(dataTable, element);\n",
              "          const docLink = document.createElement('div');\n",
              "          docLink.innerHTML = docLinkHtml;\n",
              "          element.appendChild(docLink);\n",
              "        }\n",
              "      </script>\n",
              "    </div>\n",
              "  </div>\n",
              "  "
            ]
          },
          "metadata": {},
          "execution_count": 248
        }
      ],
      "source": [
        "df.agg([\"min\",\"mean\",\"max\"]).T"
      ]
    },
    {
      "cell_type": "markdown",
      "metadata": {
        "id": "1zBOSTOXHvM4"
      },
      "source": [
        "## 🔨 **Data Wrangling**"
      ]
    },
    {
      "cell_type": "markdown",
      "metadata": {
        "id": "ndeLm5B8GG7e"
      },
      "source": [
        "***Eliminando valores nulos***"
      ]
    },
    {
      "cell_type": "code",
      "execution_count": null,
      "metadata": {
        "colab": {
          "base_uri": "https://localhost:8080/"
        },
        "id": "umYwpBJsGgJw",
        "outputId": "77de2774-7e4b-4479-f7f0-947ec6a81b56"
      },
      "outputs": [
        {
          "output_type": "execute_result",
          "data": {
            "text/plain": [
              "ID                      0\n",
              "Year_Birth              0\n",
              "Education               0\n",
              "Marital_Status          0\n",
              "Income                 24\n",
              "Kidhome                 0\n",
              "Teenhome                0\n",
              "Dt_Customer             0\n",
              "Recency                 0\n",
              "MntWines                0\n",
              "MntFruits               0\n",
              "MntMeatProducts         0\n",
              "MntFishProducts         0\n",
              "MntSweetProducts        0\n",
              "MntGoldProds            0\n",
              "NumDealsPurchases       0\n",
              "NumWebPurchases         0\n",
              "NumCatalogPurchases     0\n",
              "NumStorePurchases       0\n",
              "NumWebVisitsMonth       0\n",
              "AcceptedCmp3            0\n",
              "AcceptedCmp4            0\n",
              "AcceptedCmp5            0\n",
              "AcceptedCmp1            0\n",
              "AcceptedCmp2            0\n",
              "Complain                0\n",
              "Z_CostContact           0\n",
              "Z_Revenue               0\n",
              "Response                0\n",
              "dtype: int64"
            ]
          },
          "metadata": {},
          "execution_count": 249
        }
      ],
      "source": [
        "#Chequeando cuáles son las columnas con valores nulos\n",
        "df.isnull().sum()"
      ]
    },
    {
      "cell_type": "code",
      "execution_count": null,
      "metadata": {
        "colab": {
          "base_uri": "https://localhost:8080/",
          "height": 632
        },
        "id": "8GLG6EptK26W",
        "outputId": "28604a3c-c58b-41f9-b570-36b52ab2bfbd"
      },
      "outputs": [
        {
          "output_type": "execute_result",
          "data": {
            "text/plain": [
              "<matplotlib.axes._subplots.AxesSubplot at 0x7f960c5a0610>"
            ]
          },
          "metadata": {},
          "execution_count": 250
        },
        {
          "output_type": "display_data",
          "data": {
            "text/plain": [
              "<Figure size 1800x720 with 2 Axes>"
            ],
            "image/png": "[encoded data removed]"
          },
          "metadata": {
            "needs_background": "light"
          }
        }
      ],
      "source": [
        "#Visualizando los valores nulos\n",
        "mn.matrix(df,color = (0,0,0))"
      ]
    },
    {
      "cell_type": "code",
      "execution_count": null,
      "metadata": {
        "id": "jPOD4cxyGgQt"
      },
      "outputs": [],
      "source": [
        "#Eliminando los valores nulos de las columnas\n",
        "df = df.dropna()"
      ]
    },
    {
      "cell_type": "markdown",
      "metadata": {
        "id": "MEXJ6p7nLWl9"
      },
      "source": [
        "***Chequeando si existe algún NAN***"
      ]
    },
    {
      "cell_type": "code",
      "execution_count": null,
      "metadata": {
        "colab": {
          "base_uri": "https://localhost:8080/"
        },
        "id": "NUB5sXsjLVi1",
        "outputId": "fc04f7fc-06c4-458a-81a2-b2d0640bfd7d"
      },
      "outputs": [
        {
          "output_type": "execute_result",
          "data": {
            "text/plain": [
              "ID                     False\n",
              "Year_Birth             False\n",
              "Education              False\n",
              "Marital_Status         False\n",
              "Income                 False\n",
              "Kidhome                False\n",
              "Teenhome               False\n",
              "Dt_Customer            False\n",
              "Recency                False\n",
              "MntWines               False\n",
              "MntFruits              False\n",
              "MntMeatProducts        False\n",
              "MntFishProducts        False\n",
              "MntSweetProducts       False\n",
              "MntGoldProds           False\n",
              "NumDealsPurchases      False\n",
              "NumWebPurchases        False\n",
              "NumCatalogPurchases    False\n",
              "NumStorePurchases      False\n",
              "NumWebVisitsMonth      False\n",
              "AcceptedCmp3           False\n",
              "AcceptedCmp4           False\n",
              "AcceptedCmp5           False\n",
              "AcceptedCmp1           False\n",
              "AcceptedCmp2           False\n",
              "Complain               False\n",
              "Z_CostContact          False\n",
              "Z_Revenue              False\n",
              "Response               False\n",
              "dtype: bool"
            ]
          },
          "metadata": {},
          "execution_count": 252
        }
      ],
      "source": [
        "#comprobando si hay algún NAN en las columnas\n",
        "df.isna().any()"
      ]
    },
    {
      "cell_type": "markdown",
      "metadata": {
        "id": "gWMka-n3Lsxz"
      },
      "source": [
        "***Chequeando duplicados***"
      ]
    },
    {
      "cell_type": "code",
      "execution_count": null,
      "metadata": {
        "colab": {
          "base_uri": "https://localhost:8080/",
          "height": 143
        },
        "id": "g1x2BkwFLtBO",
        "outputId": "9469fa66-3e10-4b64-b186-baecd601a6d4"
      },
      "outputs": [
        {
          "output_type": "execute_result",
          "data": {
            "text/plain": [
              "Empty DataFrame\n",
              "Columns: [Year_Birth, Education, Marital_Status, Income, Kidhome, Teenhome, Dt_Customer, Recency, MntWines, MntFruits, MntMeatProducts, MntFishProducts, MntSweetProducts, MntGoldProds, NumDealsPurchases, NumWebPurchases, NumCatalogPurchases, NumStorePurchases, NumWebVisitsMonth, AcceptedCmp3, AcceptedCmp4, AcceptedCmp5, AcceptedCmp1, AcceptedCmp2, Complain, Z_CostContact, Z_Revenue, Response]\n",
              "Index: []\n",
              "\n",
              "[0 rows x 28 columns]"
            ],
            "text/html": [
              "\n",
              "  <div id=\"df-78d4aad9-cef4-41a6-8b5e-940a063e6f3f\">\n",
              "    <div class=\"colab-df-container\">\n",
              "      <div>\n",
              "<style scoped>\n",
              "    .dataframe tbody tr th:only-of-type {\n",
              "        vertical-align: middle;\n",
              "    }\n",
              "\n",
              "    .dataframe tbody tr th {\n",
              "        vertical-align: top;\n",
              "    }\n",
              "\n",
              "    .dataframe thead th {\n",
              "        text-align: right;\n",
              "    }\n",
              "</style>\n",
              "<table border=\"1\" class=\"dataframe\">\n",
              "  <thead>\n",
              "    <tr style=\"text-align: right;\">\n",
              "      <th></th>\n",
              "      <th>Year_Birth</th>\n",
              "      <th>Education</th>\n",
              "      <th>Marital_Status</th>\n",
              "      <th>Income</th>\n",
              "      <th>Kidhome</th>\n",
              "      <th>Teenhome</th>\n",
              "      <th>Dt_Customer</th>\n",
              "      <th>Recency</th>\n",
              "      <th>MntWines</th>\n",
              "      <th>MntFruits</th>\n",
              "      <th>...</th>\n",
              "      <th>NumWebVisitsMonth</th>\n",
              "      <th>AcceptedCmp3</th>\n",
              "      <th>AcceptedCmp4</th>\n",
              "      <th>AcceptedCmp5</th>\n",
              "      <th>AcceptedCmp1</th>\n",
              "      <th>AcceptedCmp2</th>\n",
              "      <th>Complain</th>\n",
              "      <th>Z_CostContact</th>\n",
              "      <th>Z_Revenue</th>\n",
              "      <th>Response</th>\n",
              "    </tr>\n",
              "  </thead>\n",
              "  <tbody>\n",
              "  </tbody>\n",
              "</table>\n",
              "<p>0 rows × 28 columns</p>\n",
              "</div>\n",
              "      <button class=\"colab-df-convert\" onclick=\"convertToInteractive('df-78d4aad9-cef4-41a6-8b5e-940a063e6f3f')\"\n",
              "              title=\"Convert this dataframe to an interactive table.\"\n",
              "              style=\"display:none;\">\n",
              "        \n",
              "  <svg xmlns=\"http://www.w3.org/2000/svg\" height=\"24px\"viewBox=\"0 0 24 24\"\n",
              "       width=\"24px\">\n",
              "    <path d=\"M0 0h24v24H0V0z\" fill=\"none\"/>\n",
              "    <path d=\"M18.56 5.44l.94 2.06.94-2.06 2.06-.94-2.06-.94-.94-2.06-.94 2.06-2.06.94zm-11 1L8.5 8.5l.94-2.06 2.06-.94-2.06-.94L8.5 2.5l-.94 2.06-2.06.94zm10 10l.94 2.06.94-2.06 2.06-.94-2.06-.94-.94-2.06-.94 2.06-2.06.94z\"/><path d=\"M17.41 7.96l-1.37-1.37c-.4-.4-.92-.59-1.43-.59-.52 0-1.04.2-1.43.59L10.3 9.45l-7.72 7.72c-.78.78-.78 2.05 0 2.83L4 21.41c.39.39.9.59 1.41.59.51 0 1.02-.2 1.41-.59l7.78-7.78 2.81-2.81c.8-.78.8-2.07 0-2.86zM5.41 20L4 18.59l7.72-7.72 1.47 1.35L5.41 20z\"/>\n",
              "  </svg>\n",
              "      </button>\n",
              "      \n",
              "  <style>\n",
              "    .colab-df-container {\n",
              "      display:flex;\n",
              "      flex-wrap:wrap;\n",
              "      gap: 12px;\n",
              "    }\n",
              "\n",
              "    .colab-df-convert {\n",
              "      background-color: #E8F0FE;\n",
              "      border: none;\n",
              "      border-radius: 50%;\n",
              "      cursor: pointer;\n",
              "      display: none;\n",
              "      fill: #1967D2;\n",
              "      height: 32px;\n",
              "      padding: 0 0 0 0;\n",
              "      width: 32px;\n",
              "    }\n",
              "\n",
              "    .colab-df-convert:hover {\n",
              "      background-color: #E2EBFA;\n",
              "      box-shadow: 0px 1px 2px rgba(60, 64, 67, 0.3), 0px 1px 3px 1px rgba(60, 64, 67, 0.15);\n",
              "      fill: #174EA6;\n",
              "    }\n",
              "\n",
              "    [theme=dark] .colab-df-convert {\n",
              "      background-color: #3B4455;\n",
              "      fill: #D2E3FC;\n",
              "    }\n",
              "\n",
              "    [theme=dark] .colab-df-convert:hover {\n",
              "      background-color: #434B5C;\n",
              "      box-shadow: 0px 1px 3px 1px rgba(0, 0, 0, 0.15);\n",
              "      filter: drop-shadow(0px 1px 2px rgba(0, 0, 0, 0.3));\n",
              "      fill: #FFFFFF;\n",
              "    }\n",
              "  </style>\n",
              "\n",
              "      <script>\n",
              "        const buttonEl =\n",
              "          document.querySelector('#df-78d4aad9-cef4-41a6-8b5e-940a063e6f3f button.colab-df-convert');\n",
              "        buttonEl.style.display =\n",
              "          google.colab.kernel.accessAllowed ? 'block' : 'none';\n",
              "\n",
              "        async function convertToInteractive(key) {\n",
              "          const element = document.querySelector('#df-78d4aad9-cef4-41a6-8b5e-940a063e6f3f');\n",
              "          const dataTable =\n",
              "            await google.colab.kernel.invokeFunction('convertToInteractive',\n",
              "                                                     [key], {});\n",
              "          if (!dataTable) return;\n",
              "\n",
              "          const docLinkHtml = 'Like what you see? Visit the ' +\n",
              "            '<a target=\"_blank\" href=https://colab.research.google.com/notebooks/data_table.ipynb>data table notebook</a>'\n",
              "            + ' to learn more about interactive tables.';\n",
              "          element.innerHTML = '';\n",
              "          dataTable['output_type'] = 'display_data';\n",
              "          await google.colab.output.renderOutput(dataTable, element);\n",
              "          const docLink = document.createElement('div');\n",
              "          docLink.innerHTML = docLinkHtml;\n",
              "          element.appendChild(docLink);\n",
              "        }\n",
              "      </script>\n",
              "    </div>\n",
              "  </div>\n",
              "  "
            ]
          },
          "metadata": {},
          "execution_count": 253
        }
      ],
      "source": [
        "#Chequeando si existe duplicados\n",
        "df[[x for x in df.columns if x != \"ID\"]][df.duplicated()]"
      ]
    },
    {
      "cell_type": "markdown",
      "metadata": {
        "id": "uLtmgQSxhdYt"
      },
      "source": [
        "***Elimino Z cost y Z revenue***"
      ]
    },
    {
      "cell_type": "code",
      "execution_count": null,
      "metadata": {
        "id": "Ww0O-94Hhdop"
      },
      "outputs": [],
      "source": [
        "#Elimino Z cost y Z revenue, ya que no estaban especificadas entre las variables originales\n",
        "del df[\"Z_CostContact\"]\n",
        "del df[\"Z_Revenue\"]"
      ]
    },
    {
      "cell_type": "markdown",
      "metadata": {
        "id": "TUu8aYUvGZJp"
      },
      "source": [
        "***Convirtiendo la columna de registración del cliente***"
      ]
    },
    {
      "cell_type": "code",
      "execution_count": null,
      "metadata": {
        "id": "fxCDt_syHcxr"
      },
      "outputs": [],
      "source": [
        "#Usamos el método sprptime para crear una cadena que represente el tiempo bajo el control de una cadena de formato explícito.\n",
        "df['Dt_Customer'] = df['Dt_Customer'].apply(lambda x: dt.datetime.strptime(x, \"%d-%m-%Y\"))"
      ]
    },
    {
      "cell_type": "markdown",
      "metadata": {
        "id": "W1H6nIaVqtzR"
      },
      "source": [
        "***Crear columna de antigüedad del cliente***"
      ]
    },
    {
      "cell_type": "code",
      "execution_count": null,
      "metadata": {
        "id": "PdQvVbjHqsmr"
      },
      "outputs": [],
      "source": [
        "#Agregando una columna con la antigüedad del cliente desde que se registró\n",
        "df[\"Dt_Customer_seniority\"]=df['Dt_Customer'].dt.year.max() - df[\"Dt_Customer\"].dt.year"
      ]
    },
    {
      "cell_type": "markdown",
      "metadata": {
        "id": "LFjkNSMysR9g"
      },
      "source": [
        "***Crear columna de edad del cliente***"
      ]
    },
    {
      "cell_type": "code",
      "execution_count": null,
      "metadata": {
        "id": "-TUj3UiFrrW9"
      },
      "outputs": [],
      "source": [
        "#Agregando una columna con la edad del cliente \n",
        "df[\"Age\"]=df['Dt_Customer'].dt.year.max() - df[\"Year_Birth\"]"
      ]
    },
    {
      "cell_type": "code",
      "execution_count": null,
      "metadata": {
        "colab": {
          "base_uri": "https://localhost:8080/"
        },
        "id": "kujpzkfEtu5e",
        "outputId": "cba606c1-769d-479a-f3a5-b03eb7f996c1"
      },
      "outputs": [
        {
          "output_type": "execute_result",
          "data": {
            "text/plain": [
              "min        18.000000\n",
              "mean       45.179603\n",
              "median     44.000000\n",
              "max       121.000000\n",
              "Name: Age, dtype: float64"
            ]
          },
          "metadata": {},
          "execution_count": 258
        }
      ],
      "source": [
        "#Chequeo los valores de edad\n",
        "df[\"Age\"].agg([\"min\", \"mean\", \"median\", \"max\"])"
      ]
    },
    {
      "cell_type": "code",
      "execution_count": null,
      "metadata": {
        "colab": {
          "base_uri": "https://localhost:8080/"
        },
        "id": "kSt40B1UvYk9",
        "outputId": "f5fa5b0f-02d6-43af-badf-fc18f73bed90"
      },
      "outputs": [
        {
          "output_type": "stream",
          "name": "stdout",
          "text": [
            "Cantidad de personas mayores a 95 son 3\n"
          ]
        }
      ],
      "source": [
        "#Elimino los outliers de edad considerando que mayor de 95 ya es un valor atípico\n",
        "print(\"Cantidad de personas mayores a 95 son\",  len(df[\"Age\"][df[\"Age\"]>95]) )\n",
        "\n",
        "#Al ser solo 3 valores los elimino directamente y conservo los otros\n",
        "df= df.loc[df[\"Age\"]<95]"
      ]
    },
    {
      "cell_type": "code",
      "execution_count": null,
      "metadata": {
        "id": "_fJiUqu5yIXI"
      },
      "outputs": [],
      "source": [
        "#Agrego una variable cualitativa relacionada con la edad que\n",
        "#nos permita fácilmente visualizar los diferentes grupos\n",
        "\n",
        "def clasificaredad(e):\n",
        "  if e<30:\n",
        "    return \"Joven\"\n",
        "  elif e<45:\n",
        "    return \"Joven Adulto\"\n",
        "  elif e<60:\n",
        "    return \"Adulto\"\n",
        "  else:\n",
        "    return \"Mayor\"\n",
        "\n",
        "df[\"Agerange\"]=[clasificaredad(x) for x in df[\"Age\"]]"
      ]
    },
    {
      "cell_type": "markdown",
      "metadata": {
        "id": "zcRHEzZQtKqc"
      },
      "source": [
        "***Crear columna de gastos totales***"
      ]
    },
    {
      "cell_type": "code",
      "execution_count": null,
      "metadata": {
        "id": "Yzut4kPotNpR"
      },
      "outputs": [],
      "source": [
        "#Agregando una columan de datos totales\n",
        "df[\"Total_expenditures\"] =  df[\"MntWines\"]+df[\"MntFruits\"]+df[\"MntMeatProducts\"]+df[\"MntFishProducts\"]+df[\"MntSweetProducts\"]+df[\"MntGoldProds\"]"
      ]
    },
    {
      "cell_type": "markdown",
      "metadata": {
        "id": "OF1Qwd4QkrEM"
      },
      "source": [
        "***Crear columna de Tolerancia a las campañas***"
      ]
    },
    {
      "cell_type": "code",
      "execution_count": null,
      "metadata": {
        "id": "QLjJROM-krbJ"
      },
      "outputs": [],
      "source": [
        "import statistics\n",
        "\n",
        "rows, b=df.shape\n",
        "Tolerance=[]\n",
        "for value in range(rows):\n",
        "  try:\n",
        "    if df.loc[value,'AcceptedCmp1']!=0:\n",
        "      Tolerance.append(1)\n",
        "    elif df.loc[value,'AcceptedCmp2']!=0:\n",
        "      Tolerance.append(2)\n",
        "    elif df.loc[value,'AcceptedCmp3']!=0:\n",
        "      Tolerance.append(3)\n",
        "    elif df.loc[value,'AcceptedCmp4']!=0:\n",
        "      Tolerance.append(4)\n",
        "    elif df.loc[value,'AcceptedCmp5']!=0:\n",
        "      Tolerance.append(5)\n",
        "    elif df.loc[value,'Response']!=0:\n",
        "      Tolerance.append(6)\n",
        "    else:\n",
        "      Tolerance.append(0)\n",
        "  except KeyError:\n",
        "     Tolerance.append(round(statistics.mean(Tolerance)))\n",
        "\n",
        "\n",
        "df[\"Tolerance\"]= Tolerance"
      ]
    },
    {
      "cell_type": "markdown",
      "source": [
        "***Modificar la columna  educación***"
      ],
      "metadata": {
        "id": "Ju3fuTGfmA_6"
      }
    },
    {
      "cell_type": "code",
      "source": [
        "#Se modifica la columna educación, ya que 2n cycle es un título entre master y graduation entonces se clasificará como graduation\n",
        "def clasificareducacion(e):\n",
        "  if e==\"2n Cycle\":\n",
        "    return \"Graduation\"\n",
        "  else:\n",
        "    return e\n",
        "\n",
        "df[\"Education\"]=[clasificareducacion(x) for x in df[\"Education\"]]"
      ],
      "metadata": {
        "id": "Fi3staQymBKp"
      },
      "execution_count": null,
      "outputs": []
    },
    {
      "cell_type": "markdown",
      "source": [
        "***Reseteando los índices***"
      ],
      "metadata": {
        "id": "VbgpnqKq8PNa"
      }
    },
    {
      "cell_type": "code",
      "source": [
        "df.reset_index(drop=True)"
      ],
      "metadata": {
        "colab": {
          "base_uri": "https://localhost:8080/",
          "height": 540
        },
        "id": "J-VlnSii8PWo",
        "outputId": "e9dc56b7-179b-4f41-8e36-5c54e7c4091c"
      },
      "execution_count": null,
      "outputs": [
        {
          "output_type": "execute_result",
          "data": {
            "text/plain": [
              "         ID  Year_Birth   Education Marital_Status   Income  Kidhome  \\\n",
              "0      5524        1957  Graduation         Single  58138.0        0   \n",
              "1      2174        1954  Graduation         Single  46344.0        1   \n",
              "2      4141        1965  Graduation       Together  71613.0        0   \n",
              "3      6182        1984  Graduation       Together  26646.0        1   \n",
              "4      5324        1981         PhD        Married  58293.0        1   \n",
              "...     ...         ...         ...            ...      ...      ...   \n",
              "2208  10870        1967  Graduation        Married  61223.0        0   \n",
              "2209   4001        1946         PhD       Together  64014.0        2   \n",
              "2210   7270        1981  Graduation       Divorced  56981.0        0   \n",
              "2211   8235        1956      Master       Together  69245.0        0   \n",
              "2212   9405        1954         PhD        Married  52869.0        1   \n",
              "\n",
              "      Teenhome Dt_Customer  Recency  MntWines  ...  AcceptedCmp5  \\\n",
              "0            0  2012-09-04       58       635  ...             0   \n",
              "1            1  2014-03-08       38        11  ...             0   \n",
              "2            0  2013-08-21       26       426  ...             0   \n",
              "3            0  2014-02-10       26        11  ...             0   \n",
              "4            0  2014-01-19       94       173  ...             0   \n",
              "...        ...         ...      ...       ...  ...           ...   \n",
              "2208         1  2013-06-13       46       709  ...             0   \n",
              "2209         1  2014-06-10       56       406  ...             0   \n",
              "2210         0  2014-01-25       91       908  ...             0   \n",
              "2211         1  2014-01-24        8       428  ...             0   \n",
              "2212         1  2012-10-15       40        84  ...             0   \n",
              "\n",
              "      AcceptedCmp1  AcceptedCmp2  Complain  Response  Dt_Customer_seniority  \\\n",
              "0                0             0         0         1                      2   \n",
              "1                0             0         0         0                      0   \n",
              "2                0             0         0         0                      1   \n",
              "3                0             0         0         0                      0   \n",
              "4                0             0         0         0                      0   \n",
              "...            ...           ...       ...       ...                    ...   \n",
              "2208             0             0         0         0                      1   \n",
              "2209             1             0         0         0                      0   \n",
              "2210             0             0         0         0                      0   \n",
              "2211             0             0         0         0                      0   \n",
              "2212             0             0         0         1                      2   \n",
              "\n",
              "      Age      Agerange  Total_expenditures  Tolerance  \n",
              "0      57        Adulto                1617          6  \n",
              "1      60         Mayor                  27          0  \n",
              "2      49        Adulto                 776          0  \n",
              "3      30  Joven Adulto                  53          0  \n",
              "4      33  Joven Adulto                 422          0  \n",
              "...   ...           ...                 ...        ...  \n",
              "2208   47        Adulto                1341          0  \n",
              "2209   68         Mayor                 444          0  \n",
              "2210   33  Joven Adulto                1241          0  \n",
              "2211   58        Adulto                 843          0  \n",
              "2212   60         Mayor                 172          0  \n",
              "\n",
              "[2213 rows x 32 columns]"
            ],
            "text/html": [
              "\n",
              "  <div id=\"df-fc11769f-0833-4457-8c8e-3acd190425ce\">\n",
              "    <div class=\"colab-df-container\">\n",
              "      <div>\n",
              "<style scoped>\n",
              "    .dataframe tbody tr th:only-of-type {\n",
              "        vertical-align: middle;\n",
              "    }\n",
              "\n",
              "    .dataframe tbody tr th {\n",
              "        vertical-align: top;\n",
              "    }\n",
              "\n",
              "    .dataframe thead th {\n",
              "        text-align: right;\n",
              "    }\n",
              "</style>\n",
              "<table border=\"1\" class=\"dataframe\">\n",
              "  <thead>\n",
              "    <tr style=\"text-align: right;\">\n",
              "      <th></th>\n",
              "      <th>ID</th>\n",
              "      <th>Year_Birth</th>\n",
              "      <th>Education</th>\n",
              "      <th>Marital_Status</th>\n",
              "      <th>Income</th>\n",
              "      <th>Kidhome</th>\n",
              "      <th>Teenhome</th>\n",
              "      <th>Dt_Customer</th>\n",
              "      <th>Recency</th>\n",
              "      <th>MntWines</th>\n",
              "      <th>...</th>\n",
              "      <th>AcceptedCmp5</th>\n",
              "      <th>AcceptedCmp1</th>\n",
              "      <th>AcceptedCmp2</th>\n",
              "      <th>Complain</th>\n",
              "      <th>Response</th>\n",
              "      <th>Dt_Customer_seniority</th>\n",
              "      <th>Age</th>\n",
              "      <th>Agerange</th>\n",
              "      <th>Total_expenditures</th>\n",
              "      <th>Tolerance</th>\n",
              "    </tr>\n",
              "  </thead>\n",
              "  <tbody>\n",
              "    <tr>\n",
              "      <th>0</th>\n",
              "      <td>5524</td>\n",
              "      <td>1957</td>\n",
              "      <td>Graduation</td>\n",
              "      <td>Single</td>\n",
              "      <td>58138.0</td>\n",
              "      <td>0</td>\n",
              "      <td>0</td>\n",
              "      <td>2012-09-04</td>\n",
              "      <td>58</td>\n",
              "      <td>635</td>\n",
              "      <td>...</td>\n",
              "      <td>0</td>\n",
              "      <td>0</td>\n",
              "      <td>0</td>\n",
              "      <td>0</td>\n",
              "      <td>1</td>\n",
              "      <td>2</td>\n",
              "      <td>57</td>\n",
              "      <td>Adulto</td>\n",
              "      <td>1617</td>\n",
              "      <td>6</td>\n",
              "    </tr>\n",
              "    <tr>\n",
              "      <th>1</th>\n",
              "      <td>2174</td>\n",
              "      <td>1954</td>\n",
              "      <td>Graduation</td>\n",
              "      <td>Single</td>\n",
              "      <td>46344.0</td>\n",
              "      <td>1</td>\n",
              "      <td>1</td>\n",
              "      <td>2014-03-08</td>\n",
              "      <td>38</td>\n",
              "      <td>11</td>\n",
              "      <td>...</td>\n",
              "      <td>0</td>\n",
              "      <td>0</td>\n",
              "      <td>0</td>\n",
              "      <td>0</td>\n",
              "      <td>0</td>\n",
              "      <td>0</td>\n",
              "      <td>60</td>\n",
              "      <td>Mayor</td>\n",
              "      <td>27</td>\n",
              "      <td>0</td>\n",
              "    </tr>\n",
              "    <tr>\n",
              "      <th>2</th>\n",
              "      <td>4141</td>\n",
              "      <td>1965</td>\n",
              "      <td>Graduation</td>\n",
              "      <td>Together</td>\n",
              "      <td>71613.0</td>\n",
              "      <td>0</td>\n",
              "      <td>0</td>\n",
              "      <td>2013-08-21</td>\n",
              "      <td>26</td>\n",
              "      <td>426</td>\n",
              "      <td>...</td>\n",
              "      <td>0</td>\n",
              "      <td>0</td>\n",
              "      <td>0</td>\n",
              "      <td>0</td>\n",
              "      <td>0</td>\n",
              "      <td>1</td>\n",
              "      <td>49</td>\n",
              "      <td>Adulto</td>\n",
              "      <td>776</td>\n",
              "      <td>0</td>\n",
              "    </tr>\n",
              "    <tr>\n",
              "      <th>3</th>\n",
              "      <td>6182</td>\n",
              "      <td>1984</td>\n",
              "      <td>Graduation</td>\n",
              "      <td>Together</td>\n",
              "      <td>26646.0</td>\n",
              "      <td>1</td>\n",
              "      <td>0</td>\n",
              "      <td>2014-02-10</td>\n",
              "      <td>26</td>\n",
              "      <td>11</td>\n",
              "      <td>...</td>\n",
              "      <td>0</td>\n",
              "      <td>0</td>\n",
              "      <td>0</td>\n",
              "      <td>0</td>\n",
              "      <td>0</td>\n",
              "      <td>0</td>\n",
              "      <td>30</td>\n",
              "      <td>Joven Adulto</td>\n",
              "      <td>53</td>\n",
              "      <td>0</td>\n",
              "    </tr>\n",
              "    <tr>\n",
              "      <th>4</th>\n",
              "      <td>5324</td>\n",
              "      <td>1981</td>\n",
              "      <td>PhD</td>\n",
              "      <td>Married</td>\n",
              "      <td>58293.0</td>\n",
              "      <td>1</td>\n",
              "      <td>0</td>\n",
              "      <td>2014-01-19</td>\n",
              "      <td>94</td>\n",
              "      <td>173</td>\n",
              "      <td>...</td>\n",
              "      <td>0</td>\n",
              "      <td>0</td>\n",
              "      <td>0</td>\n",
              "      <td>0</td>\n",
              "      <td>0</td>\n",
              "      <td>0</td>\n",
              "      <td>33</td>\n",
              "      <td>Joven Adulto</td>\n",
              "      <td>422</td>\n",
              "      <td>0</td>\n",
              "    </tr>\n",
              "    <tr>\n",
              "      <th>...</th>\n",
              "      <td>...</td>\n",
              "      <td>...</td>\n",
              "      <td>...</td>\n",
              "      <td>...</td>\n",
              "      <td>...</td>\n",
              "      <td>...</td>\n",
              "      <td>...</td>\n",
              "      <td>...</td>\n",
              "      <td>...</td>\n",
              "      <td>...</td>\n",
              "      <td>...</td>\n",
              "      <td>...</td>\n",
              "      <td>...</td>\n",
              "      <td>...</td>\n",
              "      <td>...</td>\n",
              "      <td>...</td>\n",
              "      <td>...</td>\n",
              "      <td>...</td>\n",
              "      <td>...</td>\n",
              "      <td>...</td>\n",
              "      <td>...</td>\n",
              "    </tr>\n",
              "    <tr>\n",
              "      <th>2208</th>\n",
              "      <td>10870</td>\n",
              "      <td>1967</td>\n",
              "      <td>Graduation</td>\n",
              "      <td>Married</td>\n",
              "      <td>61223.0</td>\n",
              "      <td>0</td>\n",
              "      <td>1</td>\n",
              "      <td>2013-06-13</td>\n",
              "      <td>46</td>\n",
              "      <td>709</td>\n",
              "      <td>...</td>\n",
              "      <td>0</td>\n",
              "      <td>0</td>\n",
              "      <td>0</td>\n",
              "      <td>0</td>\n",
              "      <td>0</td>\n",
              "      <td>1</td>\n",
              "      <td>47</td>\n",
              "      <td>Adulto</td>\n",
              "      <td>1341</td>\n",
              "      <td>0</td>\n",
              "    </tr>\n",
              "    <tr>\n",
              "      <th>2209</th>\n",
              "      <td>4001</td>\n",
              "      <td>1946</td>\n",
              "      <td>PhD</td>\n",
              "      <td>Together</td>\n",
              "      <td>64014.0</td>\n",
              "      <td>2</td>\n",
              "      <td>1</td>\n",
              "      <td>2014-06-10</td>\n",
              "      <td>56</td>\n",
              "      <td>406</td>\n",
              "      <td>...</td>\n",
              "      <td>0</td>\n",
              "      <td>1</td>\n",
              "      <td>0</td>\n",
              "      <td>0</td>\n",
              "      <td>0</td>\n",
              "      <td>0</td>\n",
              "      <td>68</td>\n",
              "      <td>Mayor</td>\n",
              "      <td>444</td>\n",
              "      <td>0</td>\n",
              "    </tr>\n",
              "    <tr>\n",
              "      <th>2210</th>\n",
              "      <td>7270</td>\n",
              "      <td>1981</td>\n",
              "      <td>Graduation</td>\n",
              "      <td>Divorced</td>\n",
              "      <td>56981.0</td>\n",
              "      <td>0</td>\n",
              "      <td>0</td>\n",
              "      <td>2014-01-25</td>\n",
              "      <td>91</td>\n",
              "      <td>908</td>\n",
              "      <td>...</td>\n",
              "      <td>0</td>\n",
              "      <td>0</td>\n",
              "      <td>0</td>\n",
              "      <td>0</td>\n",
              "      <td>0</td>\n",
              "      <td>0</td>\n",
              "      <td>33</td>\n",
              "      <td>Joven Adulto</td>\n",
              "      <td>1241</td>\n",
              "      <td>0</td>\n",
              "    </tr>\n",
              "    <tr>\n",
              "      <th>2211</th>\n",
              "      <td>8235</td>\n",
              "      <td>1956</td>\n",
              "      <td>Master</td>\n",
              "      <td>Together</td>\n",
              "      <td>69245.0</td>\n",
              "      <td>0</td>\n",
              "      <td>1</td>\n",
              "      <td>2014-01-24</td>\n",
              "      <td>8</td>\n",
              "      <td>428</td>\n",
              "      <td>...</td>\n",
              "      <td>0</td>\n",
              "      <td>0</td>\n",
              "      <td>0</td>\n",
              "      <td>0</td>\n",
              "      <td>0</td>\n",
              "      <td>0</td>\n",
              "      <td>58</td>\n",
              "      <td>Adulto</td>\n",
              "      <td>843</td>\n",
              "      <td>0</td>\n",
              "    </tr>\n",
              "    <tr>\n",
              "      <th>2212</th>\n",
              "      <td>9405</td>\n",
              "      <td>1954</td>\n",
              "      <td>PhD</td>\n",
              "      <td>Married</td>\n",
              "      <td>52869.0</td>\n",
              "      <td>1</td>\n",
              "      <td>1</td>\n",
              "      <td>2012-10-15</td>\n",
              "      <td>40</td>\n",
              "      <td>84</td>\n",
              "      <td>...</td>\n",
              "      <td>0</td>\n",
              "      <td>0</td>\n",
              "      <td>0</td>\n",
              "      <td>0</td>\n",
              "      <td>1</td>\n",
              "      <td>2</td>\n",
              "      <td>60</td>\n",
              "      <td>Mayor</td>\n",
              "      <td>172</td>\n",
              "      <td>0</td>\n",
              "    </tr>\n",
              "  </tbody>\n",
              "</table>\n",
              "<p>2213 rows × 32 columns</p>\n",
              "</div>\n",
              "      <button class=\"colab-df-convert\" onclick=\"convertToInteractive('df-fc11769f-0833-4457-8c8e-3acd190425ce')\"\n",
              "              title=\"Convert this dataframe to an interactive table.\"\n",
              "              style=\"display:none;\">\n",
              "        \n",
              "  <svg xmlns=\"http://www.w3.org/2000/svg\" height=\"24px\"viewBox=\"0 0 24 24\"\n",
              "       width=\"24px\">\n",
              "    <path d=\"M0 0h24v24H0V0z\" fill=\"none\"/>\n",
              "    <path d=\"M18.56 5.44l.94 2.06.94-2.06 2.06-.94-2.06-.94-.94-2.06-.94 2.06-2.06.94zm-11 1L8.5 8.5l.94-2.06 2.06-.94-2.06-.94L8.5 2.5l-.94 2.06-2.06.94zm10 10l.94 2.06.94-2.06 2.06-.94-2.06-.94-.94-2.06-.94 2.06-2.06.94z\"/><path d=\"M17.41 7.96l-1.37-1.37c-.4-.4-.92-.59-1.43-.59-.52 0-1.04.2-1.43.59L10.3 9.45l-7.72 7.72c-.78.78-.78 2.05 0 2.83L4 21.41c.39.39.9.59 1.41.59.51 0 1.02-.2 1.41-.59l7.78-7.78 2.81-2.81c.8-.78.8-2.07 0-2.86zM5.41 20L4 18.59l7.72-7.72 1.47 1.35L5.41 20z\"/>\n",
              "  </svg>\n",
              "      </button>\n",
              "      \n",
              "  <style>\n",
              "    .colab-df-container {\n",
              "      display:flex;\n",
              "      flex-wrap:wrap;\n",
              "      gap: 12px;\n",
              "    }\n",
              "\n",
              "    .colab-df-convert {\n",
              "      background-color: #E8F0FE;\n",
              "      border: none;\n",
              "      border-radius: 50%;\n",
              "      cursor: pointer;\n",
              "      display: none;\n",
              "      fill: #1967D2;\n",
              "      height: 32px;\n",
              "      padding: 0 0 0 0;\n",
              "      width: 32px;\n",
              "    }\n",
              "\n",
              "    .colab-df-convert:hover {\n",
              "      background-color: #E2EBFA;\n",
              "      box-shadow: 0px 1px 2px rgba(60, 64, 67, 0.3), 0px 1px 3px 1px rgba(60, 64, 67, 0.15);\n",
              "      fill: #174EA6;\n",
              "    }\n",
              "\n",
              "    [theme=dark] .colab-df-convert {\n",
              "      background-color: #3B4455;\n",
              "      fill: #D2E3FC;\n",
              "    }\n",
              "\n",
              "    [theme=dark] .colab-df-convert:hover {\n",
              "      background-color: #434B5C;\n",
              "      box-shadow: 0px 1px 3px 1px rgba(0, 0, 0, 0.15);\n",
              "      filter: drop-shadow(0px 1px 2px rgba(0, 0, 0, 0.3));\n",
              "      fill: #FFFFFF;\n",
              "    }\n",
              "  </style>\n",
              "\n",
              "      <script>\n",
              "        const buttonEl =\n",
              "          document.querySelector('#df-fc11769f-0833-4457-8c8e-3acd190425ce button.colab-df-convert');\n",
              "        buttonEl.style.display =\n",
              "          google.colab.kernel.accessAllowed ? 'block' : 'none';\n",
              "\n",
              "        async function convertToInteractive(key) {\n",
              "          const element = document.querySelector('#df-fc11769f-0833-4457-8c8e-3acd190425ce');\n",
              "          const dataTable =\n",
              "            await google.colab.kernel.invokeFunction('convertToInteractive',\n",
              "                                                     [key], {});\n",
              "          if (!dataTable) return;\n",
              "\n",
              "          const docLinkHtml = 'Like what you see? Visit the ' +\n",
              "            '<a target=\"_blank\" href=https://colab.research.google.com/notebooks/data_table.ipynb>data table notebook</a>'\n",
              "            + ' to learn more about interactive tables.';\n",
              "          element.innerHTML = '';\n",
              "          dataTable['output_type'] = 'display_data';\n",
              "          await google.colab.output.renderOutput(dataTable, element);\n",
              "          const docLink = document.createElement('div');\n",
              "          docLink.innerHTML = docLinkHtml;\n",
              "          element.appendChild(docLink);\n",
              "        }\n",
              "      </script>\n",
              "    </div>\n",
              "  </div>\n",
              "  "
            ]
          },
          "metadata": {},
          "execution_count": 264
        }
      ]
    },
    {
      "cell_type": "markdown",
      "metadata": {
        "id": "xixKuD42rw-p"
      },
      "source": [
        "## 📊 **Exploratory data analysis**\n"
      ]
    },
    {
      "cell_type": "markdown",
      "metadata": {
        "id": "Luc67WdQNDpI"
      },
      "source": [
        "### ➖ Matplotlib gráficos"
      ]
    },
    {
      "cell_type": "markdown",
      "metadata": {
        "id": "O8jZDTgThzxw"
      },
      "source": [
        "#### 🔸 Classification of clients expenditures Pie Chart \n",
        "Este gráfico de torta, nos muestra la distribución/segmentación del consumo de los clientes dependiendo/según la categoría de productos. Nos permite ver cuáles son las categorías de productos que son más consumidas y cuáles son las menos consumidas."
      ]
    },
    {
      "cell_type": "code",
      "execution_count": null,
      "metadata": {
        "colab": {
          "base_uri": "https://localhost:8080/",
          "height": 281
        },
        "id": "313bcNEjuADc",
        "outputId": "8cb2af28-37f6-4830-940c-399748faadea"
      },
      "outputs": [
        {
          "output_type": "execute_result",
          "data": {
            "text/plain": [
              "Text(0.5, 1.0, 'Classification of clients expenditures Pie Chart ')"
            ]
          },
          "metadata": {},
          "execution_count": 265
        },
        {
          "output_type": "display_data",
          "data": {
            "text/plain": [
              "<Figure size 432x288 with 1 Axes>"
            ],
            "image/png": "[encoded data removed]"
          },
          "metadata": {}
        }
      ],
      "source": [
        "#Classification of clients expenditures Pie Chart \n",
        "import matplotlib.pyplot as plt\n",
        "import pandas as pd\n",
        "\n",
        "expenditures={\"Vinos\":df.sum(numeric_only=True)[\"MntWines\"], \n",
        "        \"Frutas\":df.sum(numeric_only=True)[\"MntFruits\"], \n",
        "        \"Carne\":df.sum(numeric_only=True)[\"MntMeatProducts\"],\n",
        "        \"Pescado\":df.sum(numeric_only=True)[\"MntFishProducts\"],\n",
        "        \"Dulces\":df.sum(numeric_only=True)[\"MntSweetProducts\"],\n",
        "        \"Oro\":df.sum(numeric_only=True)[\"MntGoldProds\"]}\n",
        "\n",
        "fig, ax=plt.subplots()\n",
        "ax.pie(expenditures.values(),labels=expenditures.keys(), autopct=\"%0.1f %%\")\n",
        "ax.set_title('Classification of clients expenditures Pie Chart ', loc = \"center\", fontdict = {'fontsize':13, 'fontweight':'bold', 'color':'tab:blue'})\n",
        "\n"
      ]
    },
    {
      "cell_type": "markdown",
      "metadata": {
        "id": "OkfaxoPBh2od"
      },
      "source": [
        "#### 🔸 Average Income by education Bar Chart\n",
        "Este gráfico de barras nos muestra el salario promedio de los clientes, según su título/nivel académico. Podemos ver que un mayor nivel académico implica un mayor ingreso.\n"
      ]
    },
    {
      "cell_type": "code",
      "execution_count": null,
      "metadata": {
        "colab": {
          "base_uri": "https://localhost:8080/",
          "height": 281
        },
        "id": "m66kfa2uz0oC",
        "outputId": "3f1b0274-e760-40ba-b30c-51ab61b39c47"
      },
      "outputs": [
        {
          "output_type": "display_data",
          "data": {
            "text/plain": [
              "<Figure size 432x288 with 1 Axes>"
            ],
            "image/png": "[encoded data removed]"
          },
          "metadata": {
            "needs_background": "light"
          }
        }
      ],
      "source": [
        "# Average Income by education Bar chart\n",
        "import pandas as pd\n",
        "import matplotlib.pyplot as plt\n",
        "import operator\n",
        "\n",
        "education_labels=set(df[\"Education\"]) # Busco los valores únicos\n",
        "income_values_education=(df.groupby(\"Education\").get_group(group)[\"Income\"].mean() for group in education_labels) \n",
        "income_by_education= {i:j for i,j in zip(education_labels, income_values_education)}\n",
        "sortedDict = dict(sorted(income_by_education.items(), key=operator.itemgetter(1)))\n",
        "\n",
        "fig, ax=plt.subplots()\n",
        "ax.bar(sortedDict.keys(),sortedDict.values())\n",
        "ax.set_ylabel(\"Income\")\n",
        "ax.set_title('Average Income by education Bar chart', loc = \"center\", fontdict = {'fontsize':13, 'fontweight':'bold', 'color':'tab:blue'})\n",
        "plt.savefig(\"Average_income_by_education.jpg\")"
      ]
    },
    {
      "cell_type": "markdown",
      "metadata": {
        "id": "esiCNfhxiH2r"
      },
      "source": [
        "#### 🔸 Expenditures and Income Scatterplot\n",
        "Este diagrama dispersión, nos muestra una correlación aproximadamente lineal entre el salario y el gasto. Es decir, a un mayor ingreso se puede relacionar con un mayor gasto. "
      ]
    },
    {
      "cell_type": "code",
      "execution_count": null,
      "metadata": {
        "colab": {
          "base_uri": "https://localhost:8080/",
          "height": 295
        },
        "id": "cDGfLwRZ4E2t",
        "outputId": "2cc21dbc-599b-435c-8773-d610899a8c22"
      },
      "outputs": [
        {
          "output_type": "display_data",
          "data": {
            "text/plain": [
              "<Figure size 432x288 with 1 Axes>"
            ],
            "image/png": "[encoded data removed]"
          },
          "metadata": {
            "needs_background": "light"
          }
        }
      ],
      "source": [
        "# Expenditures and Income Scatterplot\n",
        "import pandas as pd\n",
        "import matplotlib.pyplot as plt\n",
        "\n",
        "\n",
        "fig, ax=plt.subplots()\n",
        "ax.scatter(x=df[\"Income\"], y=df[\"Total_expenditures\"])\n",
        "ax.set_xlabel(\"Income\")\n",
        "ax.set_ylabel(\"Expenditures\")\n",
        "ax.set_xlim([0, 120000])\n",
        "ax.set_title('Expenditures and Income Scatterplot', loc = \"center\", fontdict = {'fontsize':13, 'fontweight':'bold', 'color':'tab:blue'})\n",
        "plt.savefig(\"Expenditures_income.jpg\")"
      ]
    },
    {
      "cell_type": "markdown",
      "metadata": {
        "id": "_d2tcgksNJb1"
      },
      "source": [
        "### ➖ Seaborn gráficos"
      ]
    },
    {
      "cell_type": "markdown",
      "metadata": {
        "id": "DYilBWWbeuHq"
      },
      "source": [
        "#### 🔸 Age Histogram\n",
        "En el histograma de edad podemos visualizar la distribución, las frecuencias de edades y ver qué edades son más recurrentes en los clientes que otras. En este gráfico podemos ver una gran concentración en las edades de 35 a 50, por lo cual sabemos que la mayoría es gente adulta.\n"
      ]
    },
    {
      "cell_type": "code",
      "execution_count": null,
      "metadata": {
        "colab": {
          "base_uri": "https://localhost:8080/",
          "height": 312
        },
        "id": "jsFMEIKc3rh7",
        "outputId": "ba8835c0-61b2-4996-92df-97c705005f66"
      },
      "outputs": [
        {
          "output_type": "execute_result",
          "data": {
            "text/plain": [
              "[(15.0, 80.0), Text(0.5, 0, 'Age'), Text(0.5, 1.0, 'Age distribution')]"
            ]
          },
          "metadata": {},
          "execution_count": 268
        },
        {
          "output_type": "display_data",
          "data": {
            "text/plain": [
              "<Figure size 432x288 with 1 Axes>"
            ],
            "image/png": "[encoded data removed]"
          },
          "metadata": {
            "needs_background": "light"
          }
        }
      ],
      "source": [
        "# Age Histogram\n",
        "import seaborn as sns\n",
        "import math \n",
        "# Usamos la formula de sturges para calcular la cantidad de intervalos\n",
        "# Sturges = 1 + log_2(n)\n",
        "\n",
        "\n",
        "agehist=sns.histplot(data = df[\"Age\"], kde = True, bins=(round(1+math.log2(len(df[\"Age\"])))))\n",
        "agehist.set(title=\"Age distribution\", xlabel=\"Age\",xlim=(15,80))\n"
      ]
    },
    {
      "cell_type": "markdown",
      "metadata": {
        "id": "pNAO23elhIyk"
      },
      "source": [
        "#### 🔸 Expenditures by Marital status boxplot\n",
        "En el boxplot de gastos podemos visualizar la comparación entre los diferentes niveles de gastos según el estado civil. En este gráfico podemos ver una mediana de gastos estable entre 360 y 390 para los estados de Single, Together, Married y Divorced, mientras que para Widow salta a 636 y para Alone se desploma hasta 89. Cabe destacar que diferencia entre estar \"Soltero\" (Single) y estar \"Solo\" (Alone). Otra cosa a destacar son los estados civiles de Absurd y YOLO que al no tener una descripción clara y ser tan solo entre los dos 4 datos nos parecen despreciables en relación con los restantes 2236."
      ]
    },
    {
      "cell_type": "code",
      "execution_count": null,
      "metadata": {
        "colab": {
          "base_uri": "https://localhost:8080/",
          "height": 330
        },
        "id": "y2dmKbFC2C7t",
        "outputId": "b7e0ee92-5e49-4fab-a92a-60e86fca1123"
      },
      "outputs": [
        {
          "output_type": "execute_result",
          "data": {
            "text/plain": [
              "[Text(0.5, 0, 'Marital status'),\n",
              " Text(0.5, 1.0, 'Expenditures by Marital Status boxplot')]"
            ]
          },
          "metadata": {},
          "execution_count": 269
        },
        {
          "output_type": "display_data",
          "data": {
            "text/plain": [
              "<Figure size 432x288 with 1 Axes>"
            ],
            "image/png": "[encoded data removed]"
          },
          "metadata": {
            "needs_background": "light"
          }
        }
      ],
      "source": [
        "# Expenditures - Marital status Boxplot\n",
        "import seaborn as sns\n",
        "\n",
        "expendbox=sns.boxplot(x=\"Marital_Status\",\n",
        "                y=\"Total_expenditures\",\n",
        "                data=df)\n",
        "expendbox.set(xlabel='Marital status', title= \"Expenditures by Marital Status boxplot\")\n"
      ]
    },
    {
      "cell_type": "markdown",
      "source": [
        "#### 🔸 Web purchases histogram\n",
        "En el histograma de compras web podemos visualizar la distribución, las frecuencias de cantidades de compra vía web filtrada según rango etario y ver en que rango de edades son más recurrentes las compras web. En este gráfico podemos ver que a medida que se va aumentando la cantidad de compras web, los jóvenes adultos y adultos son los que se ven sensiblemente afectados por dicho incremento, reduciendo la frecuencia, lo cual nos puede dar una idea de que tales grupos ponderan los costes de envío siendo que si compran mucho vía web aumentan significativamente dichos costes. Mientras que los adultos mayores al tener menos movilidad se ven incentivados a comprar más vía web, por lo cual no se ven tan afectados por una mayor cantidad de compras a través de la misma"
      ],
      "metadata": {
        "id": "okmCvx7Rbg1C"
      }
    },
    {
      "cell_type": "code",
      "execution_count": null,
      "metadata": {
        "colab": {
          "base_uri": "https://localhost:8080/",
          "height": 295
        },
        "id": "ns2Hy-ygZxXL",
        "outputId": "348a6bc9-6bb1-4330-d6db-850098a0f59c"
      },
      "outputs": [
        {
          "output_type": "display_data",
          "data": {
            "text/plain": [
              "<Figure size 432x288 with 1 Axes>"
            ],
            "image/png": "[encoded data removed]"
          },
          "metadata": {
            "needs_background": "light"
          }
        }
      ],
      "source": [
        "# Web purchases histogram\n",
        "import seaborn as sns\n",
        "import math \n",
        "# Usamos la formula de sturges para calcular la cantidad de intervalos\n",
        "# Sturges = 1 + log_2(n)\n",
        "\n",
        "agehist=sns.histplot(data = df, x=\"NumWebPurchases\", kde =True, hue=\"Agerange\", bins=\"sturges\")\n",
        "agehist.set(title=\"Web purchases by age distribution\", xlabel=\"Number of web purchases\", xlim=(0,15))\n",
        "\n",
        "plt.savefig(\"Web_purchases_histogram.jpg\")"
      ]
    },
    {
      "cell_type": "markdown",
      "source": [
        "##### 🔹 Ponderación\n",
        "Dividimos cada recuento de compras de la web en cada grupo etario por la cantidad de dicho grupo ponderada. Entonces estaríamos ajustando la cantidad de compras en la web por persona por grupo de edad. En este caso lo multiplicaremos por 100 por temas de escala. Vemos que al ponderar el histograma no cambian de manera significativa las observaciones que notamos antes."
      ],
      "metadata": {
        "id": "eH0dRod1bmK-"
      }
    },
    {
      "cell_type": "code",
      "source": [
        "#Dividimos cada recuento de compras de la web en cada grupo etario por la cantidad de dicho grupo \n",
        "web_table=df.groupby([\"Agerange\",\"NumWebPurchases\"])[\"NumWebPurchases\"].count().unstack().T\n",
        "web_table2=pd.DataFrame(web_table).copy()\n",
        "web_table2=web_table2.fillna(0)\n",
        "for value in set(df[\"Agerange\"]):  \n",
        "  count=df[\"Agerange\"].value_counts()[value]\n",
        "  web_table2[value]=web_table2[value].transform(lambda x: x/count*100)\n",
        "web_table2"
      ],
      "metadata": {
        "colab": {
          "base_uri": "https://localhost:8080/",
          "height": 551
        },
        "id": "SnQOnzbVuiqi",
        "outputId": "0d9fe4ff-34dd-4e1a-d5c4-1240d4755926"
      },
      "execution_count": null,
      "outputs": [
        {
          "output_type": "execute_result",
          "data": {
            "text/plain": [
              "Agerange            Adulto      Joven  Joven Adulto      Mayor\n",
              "NumWebPurchases                                               \n",
              "0                 1.737968   3.652968      2.250804   1.916933\n",
              "1                13.101604  21.004566     18.435155   9.904153\n",
              "2                14.171123  17.808219     19.078242  14.057508\n",
              "3                14.037433  21.004566     15.326902  12.779553\n",
              "4                13.636364  14.611872     10.289389  14.696486\n",
              "5                11.229947   7.305936      9.324759  10.223642\n",
              "6                10.294118   5.479452      7.717042  12.779553\n",
              "7                 6.417112   3.196347      7.717042   8.626198\n",
              "8                 5.614973   3.196347      3.965702   5.111821\n",
              "9                 4.679144   0.913242      2.679528   4.153355\n",
              "10                2.540107   0.456621      1.500536   2.875399\n",
              "11                2.272727   1.369863      1.714898   2.555911\n",
              "23                0.133690   0.000000      0.000000   0.000000\n",
              "25                0.133690   0.000000      0.000000   0.000000\n",
              "27                0.000000   0.000000      0.000000   0.319489"
            ],
            "text/html": [
              "\n",
              "  <div id=\"df-3c79fb8c-2a28-447d-8a52-265de3f7ad42\">\n",
              "    <div class=\"colab-df-container\">\n",
              "      <div>\n",
              "<style scoped>\n",
              "    .dataframe tbody tr th:only-of-type {\n",
              "        vertical-align: middle;\n",
              "    }\n",
              "\n",
              "    .dataframe tbody tr th {\n",
              "        vertical-align: top;\n",
              "    }\n",
              "\n",
              "    .dataframe thead th {\n",
              "        text-align: right;\n",
              "    }\n",
              "</style>\n",
              "<table border=\"1\" class=\"dataframe\">\n",
              "  <thead>\n",
              "    <tr style=\"text-align: right;\">\n",
              "      <th>Agerange</th>\n",
              "      <th>Adulto</th>\n",
              "      <th>Joven</th>\n",
              "      <th>Joven Adulto</th>\n",
              "      <th>Mayor</th>\n",
              "    </tr>\n",
              "    <tr>\n",
              "      <th>NumWebPurchases</th>\n",
              "      <th></th>\n",
              "      <th></th>\n",
              "      <th></th>\n",
              "      <th></th>\n",
              "    </tr>\n",
              "  </thead>\n",
              "  <tbody>\n",
              "    <tr>\n",
              "      <th>0</th>\n",
              "      <td>1.737968</td>\n",
              "      <td>3.652968</td>\n",
              "      <td>2.250804</td>\n",
              "      <td>1.916933</td>\n",
              "    </tr>\n",
              "    <tr>\n",
              "      <th>1</th>\n",
              "      <td>13.101604</td>\n",
              "      <td>21.004566</td>\n",
              "      <td>18.435155</td>\n",
              "      <td>9.904153</td>\n",
              "    </tr>\n",
              "    <tr>\n",
              "      <th>2</th>\n",
              "      <td>14.171123</td>\n",
              "      <td>17.808219</td>\n",
              "      <td>19.078242</td>\n",
              "      <td>14.057508</td>\n",
              "    </tr>\n",
              "    <tr>\n",
              "      <th>3</th>\n",
              "      <td>14.037433</td>\n",
              "      <td>21.004566</td>\n",
              "      <td>15.326902</td>\n",
              "      <td>12.779553</td>\n",
              "    </tr>\n",
              "    <tr>\n",
              "      <th>4</th>\n",
              "      <td>13.636364</td>\n",
              "      <td>14.611872</td>\n",
              "      <td>10.289389</td>\n",
              "      <td>14.696486</td>\n",
              "    </tr>\n",
              "    <tr>\n",
              "      <th>5</th>\n",
              "      <td>11.229947</td>\n",
              "      <td>7.305936</td>\n",
              "      <td>9.324759</td>\n",
              "      <td>10.223642</td>\n",
              "    </tr>\n",
              "    <tr>\n",
              "      <th>6</th>\n",
              "      <td>10.294118</td>\n",
              "      <td>5.479452</td>\n",
              "      <td>7.717042</td>\n",
              "      <td>12.779553</td>\n",
              "    </tr>\n",
              "    <tr>\n",
              "      <th>7</th>\n",
              "      <td>6.417112</td>\n",
              "      <td>3.196347</td>\n",
              "      <td>7.717042</td>\n",
              "      <td>8.626198</td>\n",
              "    </tr>\n",
              "    <tr>\n",
              "      <th>8</th>\n",
              "      <td>5.614973</td>\n",
              "      <td>3.196347</td>\n",
              "      <td>3.965702</td>\n",
              "      <td>5.111821</td>\n",
              "    </tr>\n",
              "    <tr>\n",
              "      <th>9</th>\n",
              "      <td>4.679144</td>\n",
              "      <td>0.913242</td>\n",
              "      <td>2.679528</td>\n",
              "      <td>4.153355</td>\n",
              "    </tr>\n",
              "    <tr>\n",
              "      <th>10</th>\n",
              "      <td>2.540107</td>\n",
              "      <td>0.456621</td>\n",
              "      <td>1.500536</td>\n",
              "      <td>2.875399</td>\n",
              "    </tr>\n",
              "    <tr>\n",
              "      <th>11</th>\n",
              "      <td>2.272727</td>\n",
              "      <td>1.369863</td>\n",
              "      <td>1.714898</td>\n",
              "      <td>2.555911</td>\n",
              "    </tr>\n",
              "    <tr>\n",
              "      <th>23</th>\n",
              "      <td>0.133690</td>\n",
              "      <td>0.000000</td>\n",
              "      <td>0.000000</td>\n",
              "      <td>0.000000</td>\n",
              "    </tr>\n",
              "    <tr>\n",
              "      <th>25</th>\n",
              "      <td>0.133690</td>\n",
              "      <td>0.000000</td>\n",
              "      <td>0.000000</td>\n",
              "      <td>0.000000</td>\n",
              "    </tr>\n",
              "    <tr>\n",
              "      <th>27</th>\n",
              "      <td>0.000000</td>\n",
              "      <td>0.000000</td>\n",
              "      <td>0.000000</td>\n",
              "      <td>0.319489</td>\n",
              "    </tr>\n",
              "  </tbody>\n",
              "</table>\n",
              "</div>\n",
              "      <button class=\"colab-df-convert\" onclick=\"convertToInteractive('df-3c79fb8c-2a28-447d-8a52-265de3f7ad42')\"\n",
              "              title=\"Convert this dataframe to an interactive table.\"\n",
              "              style=\"display:none;\">\n",
              "        \n",
              "  <svg xmlns=\"http://www.w3.org/2000/svg\" height=\"24px\"viewBox=\"0 0 24 24\"\n",
              "       width=\"24px\">\n",
              "    <path d=\"M0 0h24v24H0V0z\" fill=\"none\"/>\n",
              "    <path d=\"M18.56 5.44l.94 2.06.94-2.06 2.06-.94-2.06-.94-.94-2.06-.94 2.06-2.06.94zm-11 1L8.5 8.5l.94-2.06 2.06-.94-2.06-.94L8.5 2.5l-.94 2.06-2.06.94zm10 10l.94 2.06.94-2.06 2.06-.94-2.06-.94-.94-2.06-.94 2.06-2.06.94z\"/><path d=\"M17.41 7.96l-1.37-1.37c-.4-.4-.92-.59-1.43-.59-.52 0-1.04.2-1.43.59L10.3 9.45l-7.72 7.72c-.78.78-.78 2.05 0 2.83L4 21.41c.39.39.9.59 1.41.59.51 0 1.02-.2 1.41-.59l7.78-7.78 2.81-2.81c.8-.78.8-2.07 0-2.86zM5.41 20L4 18.59l7.72-7.72 1.47 1.35L5.41 20z\"/>\n",
              "  </svg>\n",
              "      </button>\n",
              "      \n",
              "  <style>\n",
              "    .colab-df-container {\n",
              "      display:flex;\n",
              "      flex-wrap:wrap;\n",
              "      gap: 12px;\n",
              "    }\n",
              "\n",
              "    .colab-df-convert {\n",
              "      background-color: #E8F0FE;\n",
              "      border: none;\n",
              "      border-radius: 50%;\n",
              "      cursor: pointer;\n",
              "      display: none;\n",
              "      fill: #1967D2;\n",
              "      height: 32px;\n",
              "      padding: 0 0 0 0;\n",
              "      width: 32px;\n",
              "    }\n",
              "\n",
              "    .colab-df-convert:hover {\n",
              "      background-color: #E2EBFA;\n",
              "      box-shadow: 0px 1px 2px rgba(60, 64, 67, 0.3), 0px 1px 3px 1px rgba(60, 64, 67, 0.15);\n",
              "      fill: #174EA6;\n",
              "    }\n",
              "\n",
              "    [theme=dark] .colab-df-convert {\n",
              "      background-color: #3B4455;\n",
              "      fill: #D2E3FC;\n",
              "    }\n",
              "\n",
              "    [theme=dark] .colab-df-convert:hover {\n",
              "      background-color: #434B5C;\n",
              "      box-shadow: 0px 1px 3px 1px rgba(0, 0, 0, 0.15);\n",
              "      filter: drop-shadow(0px 1px 2px rgba(0, 0, 0, 0.3));\n",
              "      fill: #FFFFFF;\n",
              "    }\n",
              "  </style>\n",
              "\n",
              "      <script>\n",
              "        const buttonEl =\n",
              "          document.querySelector('#df-3c79fb8c-2a28-447d-8a52-265de3f7ad42 button.colab-df-convert');\n",
              "        buttonEl.style.display =\n",
              "          google.colab.kernel.accessAllowed ? 'block' : 'none';\n",
              "\n",
              "        async function convertToInteractive(key) {\n",
              "          const element = document.querySelector('#df-3c79fb8c-2a28-447d-8a52-265de3f7ad42');\n",
              "          const dataTable =\n",
              "            await google.colab.kernel.invokeFunction('convertToInteractive',\n",
              "                                                     [key], {});\n",
              "          if (!dataTable) return;\n",
              "\n",
              "          const docLinkHtml = 'Like what you see? Visit the ' +\n",
              "            '<a target=\"_blank\" href=https://colab.research.google.com/notebooks/data_table.ipynb>data table notebook</a>'\n",
              "            + ' to learn more about interactive tables.';\n",
              "          element.innerHTML = '';\n",
              "          dataTable['output_type'] = 'display_data';\n",
              "          await google.colab.output.renderOutput(dataTable, element);\n",
              "          const docLink = document.createElement('div');\n",
              "          docLink.innerHTML = docLinkHtml;\n",
              "          element.appendChild(docLink);\n",
              "        }\n",
              "      </script>\n",
              "    </div>\n",
              "  </div>\n",
              "  "
            ]
          },
          "metadata": {},
          "execution_count": 271
        }
      ]
    },
    {
      "cell_type": "code",
      "source": [
        "# Web purchases histogram\n",
        "import seaborn as sns\n",
        "import math \n",
        "# Usamos la formula de sturges para calcular la cantidad de intervalos\n",
        "# Sturges = 1 + log_2(n)\n",
        "\n",
        "s1= sns.barplot(data = web_table2, x=web_table2.index, y=\"Joven\", color=\"blue\" , label=\"Joven\", alpha=1)\n",
        "s2= sns.barplot(data = web_table2, x=web_table2.index, y=\"Joven Adulto\", color=\"green\", label=\"Joven Adulto\",alpha=1)\n",
        "s3= sns.barplot(data = web_table2, x=web_table2.index, y=\"Adulto\", color=\"yellow\", label=\"Adulto\", alpha=1)\n",
        "s4= sns.barplot(data = web_table2, x=web_table2.index, y=\"Mayor\", color=\"red\", label=\"Mayor\", alpha=1)\n",
        "\n",
        "sns.color_palette(\"Paired\")\n",
        "s1.set(title=\"Web purchases by age distribution\", xlabel=\"Number of web purchases for 100 people\",ylabel=\"Average Count by age\")\n",
        "plt.legend()"
      ],
      "metadata": {
        "colab": {
          "base_uri": "https://localhost:8080/",
          "height": 312
        },
        "id": "pYM9YbcTNwol",
        "outputId": "a7e00dbd-0024-48d6-dce9-a1f23bbfe847"
      },
      "execution_count": null,
      "outputs": [
        {
          "output_type": "execute_result",
          "data": {
            "text/plain": [
              "<matplotlib.legend.Legend at 0x7f960bfe0b20>"
            ]
          },
          "metadata": {},
          "execution_count": 272
        },
        {
          "output_type": "display_data",
          "data": {
            "text/plain": [
              "<Figure size 432x288 with 1 Axes>"
            ],
            "image/png": "[encoded data removed]"
          },
          "metadata": {
            "needs_background": "light"
          }
        }
      ]
    },
    {
      "cell_type": "markdown",
      "source": [
        "#### 🔸 Tolerance and age histogram\n",
        "En el histograma de Tolerancia podemos visualizar la distribución, las frecuencias de cantidades de campañas de marketing toleradas filtrada según rango etario y ver en que rango de edades son más recurrentes. En este gráfico podemos ver que a medida que se va aumentando la cantidad de campañas de marketing toleradas, los jóvenes adultos y adultos son los que más toleran. \n",
        "\n"
      ],
      "metadata": {
        "id": "BOpIm2TwtCiJ"
      }
    },
    {
      "cell_type": "code",
      "source": [
        "# Tolerance histogram\n",
        "import seaborn as sns\n",
        "import math \n",
        "# Usamos la formula de sturges para calcular la cantidad de intervalos\n",
        "# Sturges = 1 + log_2(n)\n",
        "\n",
        "agehist=sns.histplot(data = df, x=\"Tolerance\", kde =True, hue=\"Agerange\", bins=\"sturges\")\n",
        "agehist.set(title=\"Tolerance by age distribution\", xlabel=\"Number of rejected campaigns\")\n",
        "\n",
        "plt.savefig(\"Tolerance_age_histogram.jpg\")"
      ],
      "metadata": {
        "colab": {
          "base_uri": "https://localhost:8080/",
          "height": 295
        },
        "id": "dAbUnhpOtD8k",
        "outputId": "b5c0ae2d-4182-4341-8112-fac1499efe9b"
      },
      "execution_count": null,
      "outputs": [
        {
          "output_type": "display_data",
          "data": {
            "text/plain": [
              "<Figure size 432x288 with 1 Axes>"
            ],
            "image/png": "[encoded data removed]"
          },
          "metadata": {
            "needs_background": "light"
          }
        }
      ]
    },
    {
      "cell_type": "markdown",
      "source": [
        "##### 🔹 Ponderación\n",
        "Dividimos cada recuento de Tolerancia en cada grupo etario por la cantidad de dicho grupo ponderada. Entonces estaríamos ajustando la cantidad de tolerancia a las campañas de marketing por persona por grupo de edad. En este caso lo multiplicaremos por 100 por temas de escala. Vemos que al ponderar el histograma la proporción de personas que no tienen tolerancia cero a las campañas es muy parecida. Mientras que los que luego tienen tolerancia a más de 3 campañas son los adultos y los jovenes. Pero en general hay un comportamiento muy similar."
      ],
      "metadata": {
        "id": "OBkqZ4MFfXPj"
      }
    },
    {
      "cell_type": "code",
      "source": [
        "#Dividimos cada recuento de Tolerancia en cada grupo etario por la cantidad de dicho grupo \n",
        "tolerance_table=df.groupby([\"Agerange\",\"Tolerance\"])[\"Tolerance\"].count().unstack().T\n",
        "tolerance_table2=pd.DataFrame(tolerance_table).copy()\n",
        "tolerance_table2=tolerance_table2.fillna(0)\n",
        "for value in set(df[\"Agerange\"]):  \n",
        "  count=df[\"Agerange\"].value_counts()[value]\n",
        "  tolerance_table2[value]=tolerance_table2[value].transform(lambda x: x/count*100)\n",
        "tolerance_table2"
      ],
      "metadata": {
        "colab": {
          "base_uri": "https://localhost:8080/",
          "height": 300
        },
        "id": "KJ5rVg1ldRzb",
        "outputId": "105303f2-6a9a-4129-e5f9-966bb6336fc3"
      },
      "execution_count": null,
      "outputs": [
        {
          "output_type": "execute_result",
          "data": {
            "text/plain": [
              "Agerange      Adulto      Joven  Joven Adulto      Mayor\n",
              "Tolerance                                               \n",
              "0          71.925134  70.319635     71.168274  74.440895\n",
              "1           7.486631   9.132420      8.145766   4.472843\n",
              "2           0.668449   0.000000      1.178992   0.638978\n",
              "3           5.882353   5.936073      5.787781   7.028754\n",
              "4           5.080214   3.196347      5.037513   4.153355\n",
              "5           2.807487   3.196347      2.250804   2.555911\n",
              "6           6.149733   8.219178      6.430868   6.709265"
            ],
            "text/html": [
              "\n",
              "  <div id=\"df-9a411d96-9e19-4052-bffa-f8743a4c6e3f\">\n",
              "    <div class=\"colab-df-container\">\n",
              "      <div>\n",
              "<style scoped>\n",
              "    .dataframe tbody tr th:only-of-type {\n",
              "        vertical-align: middle;\n",
              "    }\n",
              "\n",
              "    .dataframe tbody tr th {\n",
              "        vertical-align: top;\n",
              "    }\n",
              "\n",
              "    .dataframe thead th {\n",
              "        text-align: right;\n",
              "    }\n",
              "</style>\n",
              "<table border=\"1\" class=\"dataframe\">\n",
              "  <thead>\n",
              "    <tr style=\"text-align: right;\">\n",
              "      <th>Agerange</th>\n",
              "      <th>Adulto</th>\n",
              "      <th>Joven</th>\n",
              "      <th>Joven Adulto</th>\n",
              "      <th>Mayor</th>\n",
              "    </tr>\n",
              "    <tr>\n",
              "      <th>Tolerance</th>\n",
              "      <th></th>\n",
              "      <th></th>\n",
              "      <th></th>\n",
              "      <th></th>\n",
              "    </tr>\n",
              "  </thead>\n",
              "  <tbody>\n",
              "    <tr>\n",
              "      <th>0</th>\n",
              "      <td>71.925134</td>\n",
              "      <td>70.319635</td>\n",
              "      <td>71.168274</td>\n",
              "      <td>74.440895</td>\n",
              "    </tr>\n",
              "    <tr>\n",
              "      <th>1</th>\n",
              "      <td>7.486631</td>\n",
              "      <td>9.132420</td>\n",
              "      <td>8.145766</td>\n",
              "      <td>4.472843</td>\n",
              "    </tr>\n",
              "    <tr>\n",
              "      <th>2</th>\n",
              "      <td>0.668449</td>\n",
              "      <td>0.000000</td>\n",
              "      <td>1.178992</td>\n",
              "      <td>0.638978</td>\n",
              "    </tr>\n",
              "    <tr>\n",
              "      <th>3</th>\n",
              "      <td>5.882353</td>\n",
              "      <td>5.936073</td>\n",
              "      <td>5.787781</td>\n",
              "      <td>7.028754</td>\n",
              "    </tr>\n",
              "    <tr>\n",
              "      <th>4</th>\n",
              "      <td>5.080214</td>\n",
              "      <td>3.196347</td>\n",
              "      <td>5.037513</td>\n",
              "      <td>4.153355</td>\n",
              "    </tr>\n",
              "    <tr>\n",
              "      <th>5</th>\n",
              "      <td>2.807487</td>\n",
              "      <td>3.196347</td>\n",
              "      <td>2.250804</td>\n",
              "      <td>2.555911</td>\n",
              "    </tr>\n",
              "    <tr>\n",
              "      <th>6</th>\n",
              "      <td>6.149733</td>\n",
              "      <td>8.219178</td>\n",
              "      <td>6.430868</td>\n",
              "      <td>6.709265</td>\n",
              "    </tr>\n",
              "  </tbody>\n",
              "</table>\n",
              "</div>\n",
              "      <button class=\"colab-df-convert\" onclick=\"convertToInteractive('df-9a411d96-9e19-4052-bffa-f8743a4c6e3f')\"\n",
              "              title=\"Convert this dataframe to an interactive table.\"\n",
              "              style=\"display:none;\">\n",
              "        \n",
              "  <svg xmlns=\"http://www.w3.org/2000/svg\" height=\"24px\"viewBox=\"0 0 24 24\"\n",
              "       width=\"24px\">\n",
              "    <path d=\"M0 0h24v24H0V0z\" fill=\"none\"/>\n",
              "    <path d=\"M18.56 5.44l.94 2.06.94-2.06 2.06-.94-2.06-.94-.94-2.06-.94 2.06-2.06.94zm-11 1L8.5 8.5l.94-2.06 2.06-.94-2.06-.94L8.5 2.5l-.94 2.06-2.06.94zm10 10l.94 2.06.94-2.06 2.06-.94-2.06-.94-.94-2.06-.94 2.06-2.06.94z\"/><path d=\"M17.41 7.96l-1.37-1.37c-.4-.4-.92-.59-1.43-.59-.52 0-1.04.2-1.43.59L10.3 9.45l-7.72 7.72c-.78.78-.78 2.05 0 2.83L4 21.41c.39.39.9.59 1.41.59.51 0 1.02-.2 1.41-.59l7.78-7.78 2.81-2.81c.8-.78.8-2.07 0-2.86zM5.41 20L4 18.59l7.72-7.72 1.47 1.35L5.41 20z\"/>\n",
              "  </svg>\n",
              "      </button>\n",
              "      \n",
              "  <style>\n",
              "    .colab-df-container {\n",
              "      display:flex;\n",
              "      flex-wrap:wrap;\n",
              "      gap: 12px;\n",
              "    }\n",
              "\n",
              "    .colab-df-convert {\n",
              "      background-color: #E8F0FE;\n",
              "      border: none;\n",
              "      border-radius: 50%;\n",
              "      cursor: pointer;\n",
              "      display: none;\n",
              "      fill: #1967D2;\n",
              "      height: 32px;\n",
              "      padding: 0 0 0 0;\n",
              "      width: 32px;\n",
              "    }\n",
              "\n",
              "    .colab-df-convert:hover {\n",
              "      background-color: #E2EBFA;\n",
              "      box-shadow: 0px 1px 2px rgba(60, 64, 67, 0.3), 0px 1px 3px 1px rgba(60, 64, 67, 0.15);\n",
              "      fill: #174EA6;\n",
              "    }\n",
              "\n",
              "    [theme=dark] .colab-df-convert {\n",
              "      background-color: #3B4455;\n",
              "      fill: #D2E3FC;\n",
              "    }\n",
              "\n",
              "    [theme=dark] .colab-df-convert:hover {\n",
              "      background-color: #434B5C;\n",
              "      box-shadow: 0px 1px 3px 1px rgba(0, 0, 0, 0.15);\n",
              "      filter: drop-shadow(0px 1px 2px rgba(0, 0, 0, 0.3));\n",
              "      fill: #FFFFFF;\n",
              "    }\n",
              "  </style>\n",
              "\n",
              "      <script>\n",
              "        const buttonEl =\n",
              "          document.querySelector('#df-9a411d96-9e19-4052-bffa-f8743a4c6e3f button.colab-df-convert');\n",
              "        buttonEl.style.display =\n",
              "          google.colab.kernel.accessAllowed ? 'block' : 'none';\n",
              "\n",
              "        async function convertToInteractive(key) {\n",
              "          const element = document.querySelector('#df-9a411d96-9e19-4052-bffa-f8743a4c6e3f');\n",
              "          const dataTable =\n",
              "            await google.colab.kernel.invokeFunction('convertToInteractive',\n",
              "                                                     [key], {});\n",
              "          if (!dataTable) return;\n",
              "\n",
              "          const docLinkHtml = 'Like what you see? Visit the ' +\n",
              "            '<a target=\"_blank\" href=https://colab.research.google.com/notebooks/data_table.ipynb>data table notebook</a>'\n",
              "            + ' to learn more about interactive tables.';\n",
              "          element.innerHTML = '';\n",
              "          dataTable['output_type'] = 'display_data';\n",
              "          await google.colab.output.renderOutput(dataTable, element);\n",
              "          const docLink = document.createElement('div');\n",
              "          docLink.innerHTML = docLinkHtml;\n",
              "          element.appendChild(docLink);\n",
              "        }\n",
              "      </script>\n",
              "    </div>\n",
              "  </div>\n",
              "  "
            ]
          },
          "metadata": {},
          "execution_count": 274
        }
      ]
    },
    {
      "cell_type": "code",
      "source": [
        "# Web purchases histogram\n",
        "import seaborn as sns\n",
        "import math \n",
        "# Usamos la formula de sturges para calcular la cantidad de intervalos\n",
        "# Sturges = 1 + log_2(n)\n",
        "\n",
        "s1= sns.barplot(data = tolerance_table2, x=tolerance_table2.index, y=\"Joven\", color=\"blue\" , label=\"Joven\", alpha=0.85)\n",
        "s2= sns.barplot(data = tolerance_table2, x=tolerance_table2.index, y=\"Joven Adulto\", color=\"green\", label=\"Joven Adulto\",alpha=0.85)\n",
        "s3= sns.barplot(data = tolerance_table2, x=tolerance_table2.index, y=\"Adulto\", color=\"yellow\", label=\"Adulto\", alpha=0.85)\n",
        "s4= sns.barplot(data = tolerance_table2, x=tolerance_table2.index, y=\"Mayor\", color=\"red\", label=\"Mayor\", alpha=0.85)\n",
        "\n",
        "sns.color_palette(\"Paired\")\n",
        "s1.set(title=\"Tolerance by age distribution\", xlabel=\"Number of rejected campaigns for 100 people\", ylabel=\"Average Count by age\")\n",
        "plt.legend()"
      ],
      "metadata": {
        "colab": {
          "base_uri": "https://localhost:8080/",
          "height": 312
        },
        "id": "BNSAEinAeE-W",
        "outputId": "eb2b4942-4314-4093-ed5e-404c93d6f52f"
      },
      "execution_count": null,
      "outputs": [
        {
          "output_type": "execute_result",
          "data": {
            "text/plain": [
              "<matplotlib.legend.Legend at 0x7f960bc45670>"
            ]
          },
          "metadata": {},
          "execution_count": 275
        },
        {
          "output_type": "display_data",
          "data": {
            "text/plain": [
              "<Figure size 432x288 with 1 Axes>"
            ],
            "image/png": "[encoded data removed]"
          },
          "metadata": {
            "needs_background": "light"
          }
        }
      ]
    },
    {
      "cell_type": "markdown",
      "source": [
        "#### 🔸 Tolerance and education histogram\n",
        "En el histograma de Tolerancia podemos visualizar la distribución, las frecuencias de cantidades de campañas de marketing toleradas filtrada según eduación y ver en que nivel de eduación son más recurrentes. En este gráfico podemos ver que a medida que se va aumentando la cantidad de campañas de marketing toleradas, los graduados son los que más toleran. "
      ],
      "metadata": {
        "id": "W6ho9qhHufFS"
      }
    },
    {
      "cell_type": "code",
      "source": [
        "# Tolerance education histogram\n",
        "import seaborn as sns\n",
        "import math \n",
        "# Usamos la formula de sturges para calcular la cantidad de intervalos\n",
        "# Sturges = 1 + log_2(n)\n",
        "\n",
        "agehist=sns.histplot(data = df, x=\"Tolerance\", kde =True, hue=\"Education\", bins=\"sturges\")\n",
        "agehist.set(title=\"Tolerance by education distribution\", xlabel=\"Number of rejected campaigns\")\n",
        "\n",
        "plt.savefig(\"Tolerance_education_histogram.jpg\")"
      ],
      "metadata": {
        "colab": {
          "base_uri": "https://localhost:8080/",
          "height": 295
        },
        "id": "MELkngijt1Qk",
        "outputId": "0c96e8d3-11df-4359-a4ca-8d43defe39d4"
      },
      "execution_count": null,
      "outputs": [
        {
          "output_type": "display_data",
          "data": {
            "text/plain": [
              "<Figure size 432x288 with 1 Axes>"
            ],
            "image/png": "[encoded data removed]"
          },
          "metadata": {
            "needs_background": "light"
          }
        }
      ]
    },
    {
      "cell_type": "markdown",
      "source": [
        "##### 🔹 Ponderación\n",
        "Dividimos cada recuento de Tolerancia en cada nivel educativo por la cantidad de dicho grupo ponderada. Entonces estaríamos ajustando la cantidad de tolerancia a las campañas de marketing por persona por grupo de edad. En este caso lo multiplicaremos por 100 por temas de escala. Vemos que al ponderar el histograma la proporción de personas que no tienen tolerancia cero a las campañas es muy parecida. Mientras que los que luego tienen tolerancia a más de 3 campañas son los master y basic. Pero en general hay un comportamiento muy similar."
      ],
      "metadata": {
        "id": "vyJ-2yCbie1z"
      }
    },
    {
      "cell_type": "code",
      "source": [
        "#Dividimos cada recuento de Tolerancia en cada nivel educativo por la cantidad de dicho grupo \n",
        "tolerance_table=df.groupby([\"Education\",\"Tolerance\"])[\"Tolerance\"].count().unstack().T\n",
        "tolerance_table2=pd.DataFrame(tolerance_table).copy()\n",
        "tolerance_table2=tolerance_table2.fillna(0)\n",
        "for value in set(df[\"Education\"]):  \n",
        "  count=df[\"Education\"].value_counts()[value]\n",
        "  tolerance_table2[value]=tolerance_table2[value].transform(lambda x: x/count*100)\n",
        "tolerance_table2"
      ],
      "metadata": {
        "colab": {
          "base_uri": "https://localhost:8080/",
          "height": 300
        },
        "id": "BXekhLxFiequ",
        "outputId": "3642ebec-288c-4fd5-f50c-d45afbe87bc6"
      },
      "execution_count": null,
      "outputs": [
        {
          "output_type": "execute_result",
          "data": {
            "text/plain": [
              "Education      Basic  Graduation     Master        PhD\n",
              "Tolerance                                             \n",
              "0          72.222222   71.765601  71.506849  72.083333\n",
              "1          11.111111    7.382040   5.753425   8.750000\n",
              "2           1.851852    0.913242   0.821918   0.416667\n",
              "3           3.703704    6.468798   6.575342   4.583333\n",
              "4           5.555556    5.022831   4.657534   3.958333\n",
              "5           1.851852    2.359209   3.013699   2.916667\n",
              "6           3.703704    6.088280   7.671233   7.291667"
            ],
            "text/html": [
              "\n",
              "  <div id=\"df-9463d4e2-f922-4f7a-995d-bf704c89cac5\">\n",
              "    <div class=\"colab-df-container\">\n",
              "      <div>\n",
              "<style scoped>\n",
              "    .dataframe tbody tr th:only-of-type {\n",
              "        vertical-align: middle;\n",
              "    }\n",
              "\n",
              "    .dataframe tbody tr th {\n",
              "        vertical-align: top;\n",
              "    }\n",
              "\n",
              "    .dataframe thead th {\n",
              "        text-align: right;\n",
              "    }\n",
              "</style>\n",
              "<table border=\"1\" class=\"dataframe\">\n",
              "  <thead>\n",
              "    <tr style=\"text-align: right;\">\n",
              "      <th>Education</th>\n",
              "      <th>Basic</th>\n",
              "      <th>Graduation</th>\n",
              "      <th>Master</th>\n",
              "      <th>PhD</th>\n",
              "    </tr>\n",
              "    <tr>\n",
              "      <th>Tolerance</th>\n",
              "      <th></th>\n",
              "      <th></th>\n",
              "      <th></th>\n",
              "      <th></th>\n",
              "    </tr>\n",
              "  </thead>\n",
              "  <tbody>\n",
              "    <tr>\n",
              "      <th>0</th>\n",
              "      <td>72.222222</td>\n",
              "      <td>71.765601</td>\n",
              "      <td>71.506849</td>\n",
              "      <td>72.083333</td>\n",
              "    </tr>\n",
              "    <tr>\n",
              "      <th>1</th>\n",
              "      <td>11.111111</td>\n",
              "      <td>7.382040</td>\n",
              "      <td>5.753425</td>\n",
              "      <td>8.750000</td>\n",
              "    </tr>\n",
              "    <tr>\n",
              "      <th>2</th>\n",
              "      <td>1.851852</td>\n",
              "      <td>0.913242</td>\n",
              "      <td>0.821918</td>\n",
              "      <td>0.416667</td>\n",
              "    </tr>\n",
              "    <tr>\n",
              "      <th>3</th>\n",
              "      <td>3.703704</td>\n",
              "      <td>6.468798</td>\n",
              "      <td>6.575342</td>\n",
              "      <td>4.583333</td>\n",
              "    </tr>\n",
              "    <tr>\n",
              "      <th>4</th>\n",
              "      <td>5.555556</td>\n",
              "      <td>5.022831</td>\n",
              "      <td>4.657534</td>\n",
              "      <td>3.958333</td>\n",
              "    </tr>\n",
              "    <tr>\n",
              "      <th>5</th>\n",
              "      <td>1.851852</td>\n",
              "      <td>2.359209</td>\n",
              "      <td>3.013699</td>\n",
              "      <td>2.916667</td>\n",
              "    </tr>\n",
              "    <tr>\n",
              "      <th>6</th>\n",
              "      <td>3.703704</td>\n",
              "      <td>6.088280</td>\n",
              "      <td>7.671233</td>\n",
              "      <td>7.291667</td>\n",
              "    </tr>\n",
              "  </tbody>\n",
              "</table>\n",
              "</div>\n",
              "      <button class=\"colab-df-convert\" onclick=\"convertToInteractive('df-9463d4e2-f922-4f7a-995d-bf704c89cac5')\"\n",
              "              title=\"Convert this dataframe to an interactive table.\"\n",
              "              style=\"display:none;\">\n",
              "        \n",
              "  <svg xmlns=\"http://www.w3.org/2000/svg\" height=\"24px\"viewBox=\"0 0 24 24\"\n",
              "       width=\"24px\">\n",
              "    <path d=\"M0 0h24v24H0V0z\" fill=\"none\"/>\n",
              "    <path d=\"M18.56 5.44l.94 2.06.94-2.06 2.06-.94-2.06-.94-.94-2.06-.94 2.06-2.06.94zm-11 1L8.5 8.5l.94-2.06 2.06-.94-2.06-.94L8.5 2.5l-.94 2.06-2.06.94zm10 10l.94 2.06.94-2.06 2.06-.94-2.06-.94-.94-2.06-.94 2.06-2.06.94z\"/><path d=\"M17.41 7.96l-1.37-1.37c-.4-.4-.92-.59-1.43-.59-.52 0-1.04.2-1.43.59L10.3 9.45l-7.72 7.72c-.78.78-.78 2.05 0 2.83L4 21.41c.39.39.9.59 1.41.59.51 0 1.02-.2 1.41-.59l7.78-7.78 2.81-2.81c.8-.78.8-2.07 0-2.86zM5.41 20L4 18.59l7.72-7.72 1.47 1.35L5.41 20z\"/>\n",
              "  </svg>\n",
              "      </button>\n",
              "      \n",
              "  <style>\n",
              "    .colab-df-container {\n",
              "      display:flex;\n",
              "      flex-wrap:wrap;\n",
              "      gap: 12px;\n",
              "    }\n",
              "\n",
              "    .colab-df-convert {\n",
              "      background-color: #E8F0FE;\n",
              "      border: none;\n",
              "      border-radius: 50%;\n",
              "      cursor: pointer;\n",
              "      display: none;\n",
              "      fill: #1967D2;\n",
              "      height: 32px;\n",
              "      padding: 0 0 0 0;\n",
              "      width: 32px;\n",
              "    }\n",
              "\n",
              "    .colab-df-convert:hover {\n",
              "      background-color: #E2EBFA;\n",
              "      box-shadow: 0px 1px 2px rgba(60, 64, 67, 0.3), 0px 1px 3px 1px rgba(60, 64, 67, 0.15);\n",
              "      fill: #174EA6;\n",
              "    }\n",
              "\n",
              "    [theme=dark] .colab-df-convert {\n",
              "      background-color: #3B4455;\n",
              "      fill: #D2E3FC;\n",
              "    }\n",
              "\n",
              "    [theme=dark] .colab-df-convert:hover {\n",
              "      background-color: #434B5C;\n",
              "      box-shadow: 0px 1px 3px 1px rgba(0, 0, 0, 0.15);\n",
              "      filter: drop-shadow(0px 1px 2px rgba(0, 0, 0, 0.3));\n",
              "      fill: #FFFFFF;\n",
              "    }\n",
              "  </style>\n",
              "\n",
              "      <script>\n",
              "        const buttonEl =\n",
              "          document.querySelector('#df-9463d4e2-f922-4f7a-995d-bf704c89cac5 button.colab-df-convert');\n",
              "        buttonEl.style.display =\n",
              "          google.colab.kernel.accessAllowed ? 'block' : 'none';\n",
              "\n",
              "        async function convertToInteractive(key) {\n",
              "          const element = document.querySelector('#df-9463d4e2-f922-4f7a-995d-bf704c89cac5');\n",
              "          const dataTable =\n",
              "            await google.colab.kernel.invokeFunction('convertToInteractive',\n",
              "                                                     [key], {});\n",
              "          if (!dataTable) return;\n",
              "\n",
              "          const docLinkHtml = 'Like what you see? Visit the ' +\n",
              "            '<a target=\"_blank\" href=https://colab.research.google.com/notebooks/data_table.ipynb>data table notebook</a>'\n",
              "            + ' to learn more about interactive tables.';\n",
              "          element.innerHTML = '';\n",
              "          dataTable['output_type'] = 'display_data';\n",
              "          await google.colab.output.renderOutput(dataTable, element);\n",
              "          const docLink = document.createElement('div');\n",
              "          docLink.innerHTML = docLinkHtml;\n",
              "          element.appendChild(docLink);\n",
              "        }\n",
              "      </script>\n",
              "    </div>\n",
              "  </div>\n",
              "  "
            ]
          },
          "metadata": {},
          "execution_count": 277
        }
      ]
    },
    {
      "cell_type": "code",
      "source": [
        "# Web purchases histogram\n",
        "import seaborn as sns\n",
        "import math \n",
        "# Usamos la formula de sturges para calcular la cantidad de intervalos\n",
        "# Sturges = 1 + log_2(n)\n",
        "\n",
        "s1= sns.barplot(data = tolerance_table2, x=tolerance_table2.index, y=\"Basic\", color=\"blue\" , label=\"Basic\", alpha=1)\n",
        "s2= sns.barplot(data = tolerance_table2, x=tolerance_table2.index, y=\"Graduation\", color=\"green\", label=\"Graduation\",alpha=1)\n",
        "s3= sns.barplot(data = tolerance_table2, x=tolerance_table2.index, y=\"Master\", color=\"yellow\", label=\"Master\", alpha=1)\n",
        "s4= sns.barplot(data = tolerance_table2, x=tolerance_table2.index, y=\"PhD\", color=\"red\", label=\"PhD\", alpha=1)\n",
        "\n",
        "s1.set(title=\"Tolerance by education distribution\", xlabel=\"Number of rejected campaigns for 100 people\", ylabel=\"Average Count by education\")\n",
        "plt.legend()"
      ],
      "metadata": {
        "colab": {
          "base_uri": "https://localhost:8080/",
          "height": 312
        },
        "id": "eL57Mp3hjM-d",
        "outputId": "edcdc8d6-3740-437b-f410-3392b321f60a"
      },
      "execution_count": null,
      "outputs": [
        {
          "output_type": "execute_result",
          "data": {
            "text/plain": [
              "<matplotlib.legend.Legend at 0x7f960ba38c70>"
            ]
          },
          "metadata": {},
          "execution_count": 278
        },
        {
          "output_type": "display_data",
          "data": {
            "text/plain": [
              "<Figure size 432x288 with 1 Axes>"
            ],
            "image/png": "[encoded data removed]"
          },
          "metadata": {
            "needs_background": "light"
          }
        }
      ]
    },
    {
      "cell_type": "markdown",
      "metadata": {
        "id": "PqkY4VGYooHt"
      },
      "source": [
        "#### 🔸 Expenditures by eduaction boxplot\n",
        "En el boxplot de gastos podemos visualizar la comparación entre los diferentes niveles de gastos según el título académico de la persona. En este gráfico podemos ver que no hay mucha diferencia, o una diferencia drástica en el nivel de gasto entre los graduados universitarios con quienes poseen un título de Master. Pero en comparación con las personas que no tienen un título \"terciario\" si se puede observar una diferencia importante en el nivel de gasto.\n"
      ]
    },
    {
      "cell_type": "code",
      "execution_count": null,
      "metadata": {
        "colab": {
          "base_uri": "https://localhost:8080/",
          "height": 295
        },
        "id": "NJdHLRjOowv0",
        "outputId": "20689cfb-9dd7-45d0-c4a0-91f123e3cb09"
      },
      "outputs": [
        {
          "output_type": "display_data",
          "data": {
            "text/plain": [
              "<Figure size 432x288 with 1 Axes>"
            ],
            "image/png": "[encoded data removed]"
          },
          "metadata": {
            "needs_background": "light"
          }
        }
      ],
      "source": [
        "# Expenditures by Education Boxplot\n",
        "import seaborn as sns\n",
        "\n",
        "\n",
        "expendbox=sns.boxplot(x=\"Education\",\n",
        "                y=\"Total_expenditures\",\n",
        "                data=df)\n",
        "expendbox.set(xlabel='Education', title= \"Expenditures by Education boxplot\")\n",
        "plt.savefig(\"Boxplot_expenditure_by_education.jpg\")"
      ]
    },
    {
      "cell_type": "markdown",
      "metadata": {
        "id": "A5eyTo4Pp0IG"
      },
      "source": [
        "#### 🔸 Income and age Scatterplot\n",
        "Este diagrama dispersión, nos muestra la relación entre el salario y la edad. A priori no se nota mucha diferencia entre la edad y el ingreso, pero si vemos en el agregado a mayor edad la concentración de mayor salario es más elevada. Si vemos el gráfico de ingreso medio y edad podemos ver que en realidad el ingreso medio suele tener su pico en la edad adulta, mientras que en las demás edades decrece."
      ]
    },
    {
      "cell_type": "code",
      "execution_count": null,
      "metadata": {
        "colab": {
          "base_uri": "https://localhost:8080/",
          "height": 402
        },
        "id": "bkOEIXHcrIfy",
        "outputId": "870de55e-a418-40f0-dd95-2fc889d8f612"
      },
      "outputs": [
        {
          "output_type": "execute_result",
          "data": {
            "text/plain": [
              "<seaborn.axisgrid.FacetGrid at 0x7f960babf340>"
            ]
          },
          "metadata": {},
          "execution_count": 282
        },
        {
          "output_type": "display_data",
          "data": {
            "text/plain": [
              "<Figure size 458.625x360 with 1 Axes>"
            ],
            "image/png": "[encoded data removed]"
          },
          "metadata": {
            "needs_background": "light"
          }
        }
      ],
      "source": [
        "# Income and age Scatterplot\n",
        "import seaborn as sns\n",
        "# Usamos la formula de sturges para calcular la cantidad de intervalos\n",
        "# Sturges = 1 + log_2(n)\n",
        "agehist=sns.relplot(data = df, x=\"Age\", y=\"Income\",  hue=\"Agerange\")\n",
        "agehist.set(title=\"Income and age distribution\", xlabel=\"Age\", xlim=(10,80), ylim=(0, 120000))"
      ]
    },
    {
      "cell_type": "code",
      "execution_count": null,
      "metadata": {
        "colab": {
          "base_uri": "https://localhost:8080/",
          "height": 402
        },
        "id": "ixV8WCr7vFq6",
        "outputId": "caf33685-2493-410a-ff83-5fbc8c49d333"
      },
      "outputs": [
        {
          "output_type": "execute_result",
          "data": {
            "text/plain": [
              "<seaborn.axisgrid.FacetGrid at 0x7f960b64e250>"
            ]
          },
          "metadata": {},
          "execution_count": 284
        },
        {
          "output_type": "display_data",
          "data": {
            "text/plain": [
              "<Figure size 458.625x360 with 1 Axes>"
            ],
            "image/png": "[encoded data removed]"
          },
          "metadata": {
            "needs_background": "light"
          }
        }
      ],
      "source": [
        "# Mean Income and age Scatterplot\n",
        "import seaborn as sns\n",
        "# Usamos la fórmula de sturges para calcular la cantidad de intervalos\n",
        "# Sturges = 1 + log_2(n)\n",
        "\n",
        "\n",
        "mean_income= df.groupby(\"Age\")[\"Income\"].mean()\n",
        "\n",
        "agehist=sns.relplot(data = df, x=\"Age\", y=mean_income,  hue=\"Agerange\")\n",
        "agehist.set(title=\"Mean income by age distribution\", xlabel=\"Age\", xlim=(10,80), ylim=(30000, 100000))"
      ]
    },
    {
      "cell_type": "markdown",
      "metadata": {
        "id": "4LGvvi4LKllX"
      },
      "source": [
        "### ➖ EDA Conclusiones"
      ]
    },
    {
      "cell_type": "markdown",
      "metadata": {
        "id": "LUgXsvK_Kjwm"
      },
      "source": [
        "1. Notamos que si existe una correlación entre el título académico, el ingreso/salario y el consumo. Ya que primero, podemos analizar que a mayor título/nivel académico el ingreso/salario del cliente es mayor, notando así también una diferencia importante entre el título de primaria con todos los demás. Adicionalmente, también notamos una correlación similar entre el ingreso/salario del cliente con su consumo/expenditure. Podemos aproximadamente llegar a la conclusión/resultado que existe una relación lineal entre estas dos variables, un mayor ingreso implica generalmente un mayor gasto.\n",
        "2. No pudimos encontrar o comprobar que exista una entre la cantidad de compras web y el rango etario del consumidor <br>"
      ]
    },
    {
      "cell_type": "markdown",
      "metadata": {
        "id": "VNd222rWI8UU"
      },
      "source": [
        "## 🌏 **Data storytelling**"
      ]
    },
    {
      "cell_type": "markdown",
      "metadata": {
        "id": "L3vuj7qwJOvL"
      },
      "source": [
        "### 1 ¿Existe una correlación entre el título académico, el salario y el consumo??"
      ]
    },
    {
      "cell_type": "markdown",
      "metadata": {
        "id": "Ny49LA0BPaU_"
      },
      "source": [
        "#### 1.1 ¿Existe correlación entre salario y consumo?"
      ]
    },
    {
      "cell_type": "markdown",
      "metadata": {
        "id": "FLaEoOtTQzkq"
      },
      "source": [
        "Para ver si tienen una correlación usaré el coeficiente r de Pearson "
      ]
    },
    {
      "cell_type": "code",
      "execution_count": null,
      "metadata": {
        "colab": {
          "base_uri": "https://localhost:8080/",
          "height": 325
        },
        "id": "HUf646MXJhel",
        "outputId": "a9f80e2b-4983-4fdb-f5be-754d2ea84e96"
      },
      "outputs": [
        {
          "output_type": "display_data",
          "data": {
            "text/plain": [
              "<Figure size 720x360 with 2 Axes>"
            ],
            "image/png": "[encoded data removed]"
          },
          "metadata": {
            "needs_background": "light"
          }
        }
      ],
      "source": [
        "cor=df.loc[:,['Income','Total_expenditures']].corr()\n",
        "plt.figure(figsize=(10,5))\n",
        "heatmap=sns.heatmap(cor, annot=True, cmap=plt.cm.Reds)\n",
        "plt.show()"
      ]
    },
    {
      "cell_type": "code",
      "execution_count": null,
      "metadata": {
        "colab": {
          "base_uri": "https://localhost:8080/"
        },
        "id": "dEuKhGIJO4O5",
        "outputId": "f7c337e9-fe5c-4b82-c1a4-3bf836ba62f5"
      },
      "outputs": [
        {
          "output_type": "stream",
          "name": "stdout",
          "text": [
            "El coeficiente de correlación de Pearson entre Ingreso y consumo es de: 0.66751615890341\n",
            "El p-value es de: 1.662141320041298e-285\n"
          ]
        }
      ],
      "source": [
        "import scipy\n",
        "from scipy import stats\n",
        "r, p = scipy.stats.pearsonr( df[ \"Income\" ] , df[\"Total_expenditures\"])\n",
        "print(\"El coeficiente de correlación de Pearson entre Ingreso y consumo es de:\", r)\n",
        "print(\"El p-value es de:\", p)"
      ]
    },
    {
      "cell_type": "markdown",
      "metadata": {
        "id": "itk9JFAOPqwx"
      },
      "source": [
        "Hemos de notar que con un nivel de significancia del 0.1% (o con una confianza del 99.9%) el coeficiente r de Pearson es estadísticamente significativo y muestra una correlación moderada tirando a fuerte entre Salario y Consumo. Además, es positiva la correlación, o sea, a mayor salario mayor consumo."
      ]
    },
    {
      "cell_type": "markdown",
      "metadata": {
        "id": "lcitKbGgRB1c"
      },
      "source": [
        "#### 1.2 ¿Existe asociación entre salario y título académico?\n"
      ]
    },
    {
      "cell_type": "markdown",
      "metadata": {
        "id": "Hy2N3CEdRQSs"
      },
      "source": [
        "Para ver si existe asociación entre salario y título académico al ser el título académico una variable cualitativa ordinal usaré primero el chi2 "
      ]
    },
    {
      "cell_type": "code",
      "execution_count": null,
      "metadata": {
        "colab": {
          "base_uri": "https://localhost:8080/"
        },
        "id": "wpNdv2MZhANu",
        "outputId": "c85fe9a3-243b-4b63-83f7-9f43641350e3"
      },
      "outputs": [
        {
          "output_type": "stream",
          "name": "stdout",
          "text": [
            "El p-value es de: 3.641399647036098e-08\n"
          ]
        }
      ],
      "source": [
        "from scipy.stats import chi2_contingency \n",
        "data_crosstab = pd.crosstab(df['Income'], \n",
        "                            df['Education'],  \n",
        "                               margins = False) \n",
        "stat, p, dof, expected = chi2_contingency(data_crosstab) \n",
        "  \n",
        "print(\"El p-value es de:\", p)"
      ]
    },
    {
      "cell_type": "markdown",
      "metadata": {
        "id": "jTapKdGYcs9z"
      },
      "source": [
        "Hemos de notar que con un nivel de significancia del 0.1% (o con una confianza del 99.9%) la asociación es estadísticamente significativa entre salario y título académico\n"
      ]
    },
    {
      "cell_type": "markdown",
      "source": [
        "Para ver qué test usar vamos a ver como está ordenada la tabla de contingencia"
      ],
      "metadata": {
        "id": "eJyX-QnPjWWR"
      }
    },
    {
      "cell_type": "code",
      "source": [
        "data_crosstab"
      ],
      "metadata": {
        "colab": {
          "base_uri": "https://localhost:8080/",
          "height": 455
        },
        "id": "U8ZqpNR6jVtk",
        "outputId": "42602c0a-a8ba-4605-d63b-5191e526cadc"
      },
      "execution_count": null,
      "outputs": [
        {
          "output_type": "execute_result",
          "data": {
            "text/plain": [
              "Education  Basic  Graduation  Master  PhD\n",
              "Income                                   \n",
              "1730.0         0           1       0    0\n",
              "2447.0         0           1       0    0\n",
              "3502.0         0           1       0    0\n",
              "4023.0         0           0       0    1\n",
              "4428.0         0           1       0    0\n",
              "...          ...         ...     ...  ...\n",
              "157243.0       0           0       0    1\n",
              "157733.0       0           0       1    0\n",
              "160803.0       0           0       0    1\n",
              "162397.0       0           0       0    1\n",
              "666666.0       0           1       0    0\n",
              "\n",
              "[1971 rows x 4 columns]"
            ],
            "text/html": [
              "\n",
              "  <div id=\"df-fde51bb4-d434-4716-a1dc-3fb8557d53cf\">\n",
              "    <div class=\"colab-df-container\">\n",
              "      <div>\n",
              "<style scoped>\n",
              "    .dataframe tbody tr th:only-of-type {\n",
              "        vertical-align: middle;\n",
              "    }\n",
              "\n",
              "    .dataframe tbody tr th {\n",
              "        vertical-align: top;\n",
              "    }\n",
              "\n",
              "    .dataframe thead th {\n",
              "        text-align: right;\n",
              "    }\n",
              "</style>\n",
              "<table border=\"1\" class=\"dataframe\">\n",
              "  <thead>\n",
              "    <tr style=\"text-align: right;\">\n",
              "      <th>Education</th>\n",
              "      <th>Basic</th>\n",
              "      <th>Graduation</th>\n",
              "      <th>Master</th>\n",
              "      <th>PhD</th>\n",
              "    </tr>\n",
              "    <tr>\n",
              "      <th>Income</th>\n",
              "      <th></th>\n",
              "      <th></th>\n",
              "      <th></th>\n",
              "      <th></th>\n",
              "    </tr>\n",
              "  </thead>\n",
              "  <tbody>\n",
              "    <tr>\n",
              "      <th>1730.0</th>\n",
              "      <td>0</td>\n",
              "      <td>1</td>\n",
              "      <td>0</td>\n",
              "      <td>0</td>\n",
              "    </tr>\n",
              "    <tr>\n",
              "      <th>2447.0</th>\n",
              "      <td>0</td>\n",
              "      <td>1</td>\n",
              "      <td>0</td>\n",
              "      <td>0</td>\n",
              "    </tr>\n",
              "    <tr>\n",
              "      <th>3502.0</th>\n",
              "      <td>0</td>\n",
              "      <td>1</td>\n",
              "      <td>0</td>\n",
              "      <td>0</td>\n",
              "    </tr>\n",
              "    <tr>\n",
              "      <th>4023.0</th>\n",
              "      <td>0</td>\n",
              "      <td>0</td>\n",
              "      <td>0</td>\n",
              "      <td>1</td>\n",
              "    </tr>\n",
              "    <tr>\n",
              "      <th>4428.0</th>\n",
              "      <td>0</td>\n",
              "      <td>1</td>\n",
              "      <td>0</td>\n",
              "      <td>0</td>\n",
              "    </tr>\n",
              "    <tr>\n",
              "      <th>...</th>\n",
              "      <td>...</td>\n",
              "      <td>...</td>\n",
              "      <td>...</td>\n",
              "      <td>...</td>\n",
              "    </tr>\n",
              "    <tr>\n",
              "      <th>157243.0</th>\n",
              "      <td>0</td>\n",
              "      <td>0</td>\n",
              "      <td>0</td>\n",
              "      <td>1</td>\n",
              "    </tr>\n",
              "    <tr>\n",
              "      <th>157733.0</th>\n",
              "      <td>0</td>\n",
              "      <td>0</td>\n",
              "      <td>1</td>\n",
              "      <td>0</td>\n",
              "    </tr>\n",
              "    <tr>\n",
              "      <th>160803.0</th>\n",
              "      <td>0</td>\n",
              "      <td>0</td>\n",
              "      <td>0</td>\n",
              "      <td>1</td>\n",
              "    </tr>\n",
              "    <tr>\n",
              "      <th>162397.0</th>\n",
              "      <td>0</td>\n",
              "      <td>0</td>\n",
              "      <td>0</td>\n",
              "      <td>1</td>\n",
              "    </tr>\n",
              "    <tr>\n",
              "      <th>666666.0</th>\n",
              "      <td>0</td>\n",
              "      <td>1</td>\n",
              "      <td>0</td>\n",
              "      <td>0</td>\n",
              "    </tr>\n",
              "  </tbody>\n",
              "</table>\n",
              "<p>1971 rows × 4 columns</p>\n",
              "</div>\n",
              "      <button class=\"colab-df-convert\" onclick=\"convertToInteractive('df-fde51bb4-d434-4716-a1dc-3fb8557d53cf')\"\n",
              "              title=\"Convert this dataframe to an interactive table.\"\n",
              "              style=\"display:none;\">\n",
              "        \n",
              "  <svg xmlns=\"http://www.w3.org/2000/svg\" height=\"24px\"viewBox=\"0 0 24 24\"\n",
              "       width=\"24px\">\n",
              "    <path d=\"M0 0h24v24H0V0z\" fill=\"none\"/>\n",
              "    <path d=\"M18.56 5.44l.94 2.06.94-2.06 2.06-.94-2.06-.94-.94-2.06-.94 2.06-2.06.94zm-11 1L8.5 8.5l.94-2.06 2.06-.94-2.06-.94L8.5 2.5l-.94 2.06-2.06.94zm10 10l.94 2.06.94-2.06 2.06-.94-2.06-.94-.94-2.06-.94 2.06-2.06.94z\"/><path d=\"M17.41 7.96l-1.37-1.37c-.4-.4-.92-.59-1.43-.59-.52 0-1.04.2-1.43.59L10.3 9.45l-7.72 7.72c-.78.78-.78 2.05 0 2.83L4 21.41c.39.39.9.59 1.41.59.51 0 1.02-.2 1.41-.59l7.78-7.78 2.81-2.81c.8-.78.8-2.07 0-2.86zM5.41 20L4 18.59l7.72-7.72 1.47 1.35L5.41 20z\"/>\n",
              "  </svg>\n",
              "      </button>\n",
              "      \n",
              "  <style>\n",
              "    .colab-df-container {\n",
              "      display:flex;\n",
              "      flex-wrap:wrap;\n",
              "      gap: 12px;\n",
              "    }\n",
              "\n",
              "    .colab-df-convert {\n",
              "      background-color: #E8F0FE;\n",
              "      border: none;\n",
              "      border-radius: 50%;\n",
              "      cursor: pointer;\n",
              "      display: none;\n",
              "      fill: #1967D2;\n",
              "      height: 32px;\n",
              "      padding: 0 0 0 0;\n",
              "      width: 32px;\n",
              "    }\n",
              "\n",
              "    .colab-df-convert:hover {\n",
              "      background-color: #E2EBFA;\n",
              "      box-shadow: 0px 1px 2px rgba(60, 64, 67, 0.3), 0px 1px 3px 1px rgba(60, 64, 67, 0.15);\n",
              "      fill: #174EA6;\n",
              "    }\n",
              "\n",
              "    [theme=dark] .colab-df-convert {\n",
              "      background-color: #3B4455;\n",
              "      fill: #D2E3FC;\n",
              "    }\n",
              "\n",
              "    [theme=dark] .colab-df-convert:hover {\n",
              "      background-color: #434B5C;\n",
              "      box-shadow: 0px 1px 3px 1px rgba(0, 0, 0, 0.15);\n",
              "      filter: drop-shadow(0px 1px 2px rgba(0, 0, 0, 0.3));\n",
              "      fill: #FFFFFF;\n",
              "    }\n",
              "  </style>\n",
              "\n",
              "      <script>\n",
              "        const buttonEl =\n",
              "          document.querySelector('#df-fde51bb4-d434-4716-a1dc-3fb8557d53cf button.colab-df-convert');\n",
              "        buttonEl.style.display =\n",
              "          google.colab.kernel.accessAllowed ? 'block' : 'none';\n",
              "\n",
              "        async function convertToInteractive(key) {\n",
              "          const element = document.querySelector('#df-fde51bb4-d434-4716-a1dc-3fb8557d53cf');\n",
              "          const dataTable =\n",
              "            await google.colab.kernel.invokeFunction('convertToInteractive',\n",
              "                                                     [key], {});\n",
              "          if (!dataTable) return;\n",
              "\n",
              "          const docLinkHtml = 'Like what you see? Visit the ' +\n",
              "            '<a target=\"_blank\" href=https://colab.research.google.com/notebooks/data_table.ipynb>data table notebook</a>'\n",
              "            + ' to learn more about interactive tables.';\n",
              "          element.innerHTML = '';\n",
              "          dataTable['output_type'] = 'display_data';\n",
              "          await google.colab.output.renderOutput(dataTable, element);\n",
              "          const docLink = document.createElement('div');\n",
              "          docLink.innerHTML = docLinkHtml;\n",
              "          element.appendChild(docLink);\n",
              "        }\n",
              "      </script>\n",
              "    </div>\n",
              "  </div>\n",
              "  "
            ]
          },
          "metadata": {},
          "execution_count": 288
        }
      ]
    },
    {
      "cell_type": "markdown",
      "source": [
        "Como ambas están ordenadas de menor a mayor entonces uso rho de spearman"
      ],
      "metadata": {
        "id": "rkQAX2pqnATb"
      }
    },
    {
      "cell_type": "code",
      "source": [
        "from scipy import stats\n",
        "stats.spearmanr(df['Income'], df['Education'])"
      ],
      "metadata": {
        "colab": {
          "base_uri": "https://localhost:8080/"
        },
        "id": "YVcYX4XYpPqs",
        "outputId": "0a962981-419c-430f-8eea-7e7be5fd423e"
      },
      "execution_count": null,
      "outputs": [
        {
          "output_type": "execute_result",
          "data": {
            "text/plain": [
              "SpearmanrResult(correlation=0.14120732266062058, pvalue=2.515586230726459e-11)"
            ]
          },
          "metadata": {},
          "execution_count": 289
        }
      ]
    },
    {
      "cell_type": "markdown",
      "source": [
        "El coeficiente rho de spearman es positivo, por ende a mayor educación mayor ingreso pero con una correlación muy débil"
      ],
      "metadata": {
        "id": "LmBTUFp-zKUA"
      }
    },
    {
      "cell_type": "markdown",
      "metadata": {
        "id": "4-WAeJAwfSAO"
      },
      "source": [
        "#### 1.3  ¿Existe asociación entre título académico y consumo?"
      ]
    },
    {
      "cell_type": "markdown",
      "metadata": {
        "id": "gFDQkkqGQ1QZ"
      },
      "source": [
        "Para ver si existe asociación entre consumo y título académico, al ser el título académico una variable cualitativa ordinal usaré primero el chi2 "
      ]
    },
    {
      "cell_type": "code",
      "execution_count": null,
      "metadata": {
        "colab": {
          "base_uri": "https://localhost:8080/"
        },
        "id": "QUwM4SL1M3is",
        "outputId": "18a5259d-77cc-4b71-baf1-76cf80043ec8"
      },
      "outputs": [
        {
          "output_type": "stream",
          "name": "stdout",
          "text": [
            "El p-value es de: 0.9218227152233311\n"
          ]
        }
      ],
      "source": [
        "from scipy.stats import chi2_contingency \n",
        "data_crosstab = pd.crosstab(df['Total_expenditures'], \n",
        "                            df['Education'],  \n",
        "                               margins = False) \n",
        "stat, p, dof, expected = chi2_contingency(data_crosstab) \n",
        "  \n",
        "print(\"El p-value es de:\", p)"
      ]
    },
    {
      "cell_type": "markdown",
      "metadata": {
        "id": "uRHaswcNiCUZ"
      },
      "source": [
        "Al ser el pvalue muy alto, la asociación entre consumo y título académico no es estadísticamente significativa"
      ]
    },
    {
      "cell_type": "code",
      "source": [
        "from scipy import stats\n",
        "stats.spearmanr(df['Total_expenditures'], df['Education'])"
      ],
      "metadata": {
        "colab": {
          "base_uri": "https://localhost:8080/"
        },
        "id": "PoSipDQqvpV3",
        "outputId": "7a85577c-21ae-41f0-fcbb-7bc774d7a6ac"
      },
      "execution_count": null,
      "outputs": [
        {
          "output_type": "execute_result",
          "data": {
            "text/plain": [
              "SpearmanrResult(correlation=0.08980888673410983, pvalue=2.3265206625188447e-05)"
            ]
          },
          "metadata": {},
          "execution_count": 291
        }
      ]
    },
    {
      "cell_type": "markdown",
      "source": [
        "El coeficiente rho de spearman es positivo, por ende a mayor educación mayor consumo pero con una correlación muy débil"
      ],
      "metadata": {
        "id": "O-wOSWPXvwJZ"
      }
    },
    {
      "cell_type": "markdown",
      "metadata": {
        "id": "3U-IDUOCfTJU"
      },
      "source": [
        "### 2 ¿Existe una correlación entre las compras a través de la web y el rango etario de las personas?\n"
      ]
    },
    {
      "cell_type": "code",
      "execution_count": null,
      "metadata": {
        "colab": {
          "base_uri": "https://localhost:8080/",
          "height": 324
        },
        "id": "q01w6wdViPSI",
        "outputId": "1a91190e-bbda-45de-869b-39426f3f2d63"
      },
      "outputs": [
        {
          "output_type": "display_data",
          "data": {
            "text/plain": [
              "<Figure size 720x360 with 2 Axes>"
            ],
            "image/png": "[encoded data removed]"
          },
          "metadata": {
            "needs_background": "light"
          }
        }
      ],
      "source": [
        "cor=df.loc[:,['Age','NumWebPurchases']].corr()\n",
        "plt.figure(figsize=(10,5))\n",
        "heatmap=sns.heatmap(cor, annot=True, cmap=plt.cm.Reds)\n",
        "plt.show()"
      ]
    },
    {
      "cell_type": "code",
      "execution_count": null,
      "metadata": {
        "colab": {
          "base_uri": "https://localhost:8080/"
        },
        "id": "iZAzVf_3jEm8",
        "outputId": "bb8f90c4-adf4-4760-b8af-b4a051bbf7a3"
      },
      "outputs": [
        {
          "output_type": "stream",
          "name": "stdout",
          "text": [
            "El coeficiente de correlación de Pearson entre Ingreso y consumo es de: 0.16236606668143239\n",
            "El p-value es de: 1.53187045311835e-14\n"
          ]
        }
      ],
      "source": [
        "import scipy\n",
        "from scipy import stats\n",
        "r, p = scipy.stats.pearsonr( df[ 'Age' ] , df['NumWebPurchases'])\n",
        "print(\"El coeficiente de correlación de Pearson entre Ingreso y consumo es de:\", r)\n",
        "print(\"El p-value es de:\", p)"
      ]
    },
    {
      "cell_type": "markdown",
      "metadata": {
        "id": "LublB3ygjUmo"
      },
      "source": [
        "Hemos de notar que con un nivel de significancia del 0.1% (o con una confianza del 99.9%) el coeficiente r de perason es estadísticamente significativo y muestra una correlación muy débil entre Compras a través de la Web y Rango etario. Además, es positiva la correlación, o sea, a mayor edad mayor compras a través de la web."
      ]
    },
    {
      "cell_type": "markdown",
      "metadata": {
        "id": "ETyqdsB2fdwr"
      },
      "source": [
        "###3 ¿Existe una relación entre la tolerancia a las campañas de marketing y características de la persona como edad o título académico?"
      ]
    },
    {
      "cell_type": "markdown",
      "metadata": {
        "id": "Keonj5UhZVxm"
      },
      "source": [
        "#### 3.1 ¿Existe asociación entre tolerancia a las campañas de marketing y la edad?"
      ]
    },
    {
      "cell_type": "markdown",
      "metadata": {
        "id": "nqttBkqrf9Ap"
      },
      "source": [
        "Para ver si existe asociación entre tolerancia a las campañas de marketing y la edad  al ser la tolerancia una variable cualitativa ordinal usaré primero el chi2 "
      ]
    },
    {
      "cell_type": "code",
      "execution_count": null,
      "metadata": {
        "colab": {
          "base_uri": "https://localhost:8080/"
        },
        "id": "YbAkfwEFpL5X",
        "outputId": "c5c8bd70-f706-49d2-e861-1b890e239f87"
      },
      "outputs": [
        {
          "output_type": "stream",
          "name": "stdout",
          "text": [
            "El p-value es de: 0.9828857101069953\n"
          ]
        }
      ],
      "source": [
        "from scipy.stats import chi2_contingency \n",
        "data_crosstab = pd.crosstab(df['Tolerance'], \n",
        "                            df['Age'],  \n",
        "                               margins = False) \n",
        "stat, p, dof, expected = chi2_contingency(data_crosstab) \n",
        "  \n",
        "print(\"El p-value es de:\", p)"
      ]
    },
    {
      "cell_type": "markdown",
      "metadata": {
        "id": "kNVg9UQ5S9vX"
      },
      "source": [
        "Al ser el pvalue muy alto, la asociación entre Tolerancia a las campañas de marketing y Edad no es estadísticamente significativa"
      ]
    },
    {
      "cell_type": "markdown",
      "metadata": {
        "id": "F4tqLyCBZf0E"
      },
      "source": [
        "#### 3.2 ¿Existe asociación entre tolerancia a las campañas de marketing y el título académico?"
      ]
    },
    {
      "cell_type": "markdown",
      "metadata": {
        "id": "Qc5DPTNJZUgL"
      },
      "source": [
        "Para ver si existe asociación entre tolerancia a las campañas de marketing y el título académico, al ser la tolerancia y el título académico variables cualitativas usaré primero el chi2 "
      ]
    },
    {
      "cell_type": "code",
      "execution_count": null,
      "metadata": {
        "colab": {
          "base_uri": "https://localhost:8080/"
        },
        "id": "KYOSFC3vZ4YR",
        "outputId": "79061e39-4b02-4a08-f3fd-7e26885ede51"
      },
      "outputs": [
        {
          "output_type": "stream",
          "name": "stdout",
          "text": [
            "El p-value es de: 0.8483158472056966\n"
          ]
        }
      ],
      "source": [
        "from scipy.stats import chi2_contingency \n",
        "data_crosstab = pd.crosstab(df['Tolerance'], \n",
        "                            df['Education'],  \n",
        "                               margins = False) \n",
        "stat, p, dof, expected = chi2_contingency(data_crosstab) \n",
        "  \n",
        "print(\"El p-value es de:\", p)"
      ]
    },
    {
      "cell_type": "markdown",
      "metadata": {
        "id": "G79a5y1zZ8UJ"
      },
      "source": [
        "Al ser el pvalue muy alto, la asociación entre Tolerancia a las campañas de marketing y el título académico no es estadísticamente significativa"
      ]
    },
    {
      "cell_type": "markdown",
      "metadata": {
        "id": "3rfyBetucqpu"
      },
      "source": [
        "## 📌 **Feature Selection**"
      ]
    },
    {
      "cell_type": "markdown",
      "metadata": {
        "id": "vtWHPTtudISP"
      },
      "source": [
        "### ➖ Consideraciones"
      ]
    },
    {
      "cell_type": "markdown",
      "metadata": {
        "id": "8Dc07D5_dL1c"
      },
      "source": [
        "La variable que vamos a intentar predecir en este caso es el consumo total"
      ]
    },
    {
      "cell_type": "markdown",
      "metadata": {
        "id": "eZVVE9VscsFm"
      },
      "source": [
        "### ➖ Método de filtro"
      ]
    },
    {
      "cell_type": "markdown",
      "metadata": {
        "id": "_oeCz0hmelh-"
      },
      "source": [
        "Antes que nada, voy a usar el método de filtro para poder tener una idea general de qué variables son las más importantes. Voy a seleccionar aquellas características que tengan una correlación superior a 0.5"
      ]
    },
    {
      "cell_type": "code",
      "execution_count": null,
      "metadata": {
        "colab": {
          "base_uri": "https://localhost:8080/",
          "height": 672
        },
        "id": "K5qkKF7YeTdf",
        "outputId": "d75134fa-2e88-4c61-b981-2a14c21cf5b7"
      },
      "outputs": [
        {
          "output_type": "display_data",
          "data": {
            "text/plain": [
              "<Figure size 1440x720 with 2 Axes>"
            ],
            "image/png": "[encoded data removed]"
          },
          "metadata": {
            "needs_background": "light"
          }
        }
      ],
      "source": [
        "cor=df.corr()\n",
        "cortarget=abs(cor[\"Total_expenditures\"])\n",
        "relevantfeatures= cortarget[cortarget>=0.5]\n",
        "plt.figure(figsize=(20,10))\n",
        "heatmap=sns.heatmap(cor[abs(cor[\"Total_expenditures\"])>=0.5][[x for x in relevantfeatures.index]], annot=True, cmap=plt.cm.Reds)\n",
        "plt.xticks(rotation=45) \n",
        "plt.show()\n"
      ]
    },
    {
      "cell_type": "code",
      "execution_count": null,
      "metadata": {
        "colab": {
          "base_uri": "https://localhost:8080/"
        },
        "id": "l8vQHZvIjcbu",
        "outputId": "af4230e2-4066-43da-fb83-9fee1c533a13"
      },
      "outputs": [
        {
          "output_type": "stream",
          "name": "stdout",
          "text": [
            "Income                 0.667516\n",
            "Kidhome                0.558135\n",
            "MntWines               0.893034\n",
            "MntFruits              0.612129\n",
            "MntMeatProducts        0.845574\n",
            "MntFishProducts        0.641944\n",
            "MntSweetProducts       0.606744\n",
            "MntGoldProds           0.527211\n",
            "NumWebPurchases        0.529141\n",
            "NumCatalogPurchases    0.780282\n",
            "NumStorePurchases      0.676095\n",
            "Total_expenditures     1.000000\n",
            "Name: Total_expenditures, dtype: float64\n",
            "--------------------------------------------------\n",
            "Income                 0.667516\n",
            "Kidhome                0.558135\n",
            "NumWebPurchases        0.529141\n",
            "NumCatalogPurchases    0.780282\n",
            "NumStorePurchases      0.676095\n",
            "dtype: float64\n"
          ]
        }
      ],
      "source": [
        "#Ahora filtro aquellas con correlación mayor a 0.5 absolutos y \n",
        "#también descarto aquellas que seas de compras MNT, ya que \n",
        "#son las variables con la cual armamos el total expenditures\n",
        "cortarget=abs(cor[\"Total_expenditures\"])\n",
        "relevantfeatures= cortarget[cortarget>=0.5]\n",
        "print(relevantfeatures)\n",
        "relevantfeatures={i:j for i, j in zip(relevantfeatures.index,relevantfeatures.values) if (i[0:3]!=\"Mnt\" and i[0:3]!=\"Tot\")}\n",
        "relevantfeatures=pd.Series(data=relevantfeatures)\n",
        "print(\"-\"*50)\n",
        "print(relevantfeatures)\n",
        "\n"
      ]
    },
    {
      "cell_type": "code",
      "execution_count": null,
      "metadata": {
        "colab": {
          "base_uri": "https://localhost:8080/",
          "height": 206
        },
        "id": "2yVBpyK8rxVi",
        "outputId": "3c4c3acd-db59-43f2-a435-787a0710e72f"
      },
      "outputs": [
        {
          "output_type": "execute_result",
          "data": {
            "text/plain": [
              "                       Income   Kidhome  NumWebPurchases  NumCatalogPurchases  \\\n",
              "Income               1.000000 -0.428231         0.388183             0.589090   \n",
              "Kidhome             -0.428231  1.000000        -0.372410            -0.504706   \n",
              "NumWebPurchases      0.388183 -0.372410         1.000000             0.386599   \n",
              "NumCatalogPurchases  0.589090 -0.504706         0.386599             1.000000   \n",
              "NumStorePurchases    0.530120 -0.502062         0.515805             0.517984   \n",
              "\n",
              "                     NumStorePurchases  \n",
              "Income                        0.530120  \n",
              "Kidhome                      -0.502062  \n",
              "NumWebPurchases               0.515805  \n",
              "NumCatalogPurchases           0.517984  \n",
              "NumStorePurchases             1.000000  "
            ],
            "text/html": [
              "\n",
              "  <div id=\"df-8feaedc7-196e-42ec-92c4-533642d20d7c\">\n",
              "    <div class=\"colab-df-container\">\n",
              "      <div>\n",
              "<style scoped>\n",
              "    .dataframe tbody tr th:only-of-type {\n",
              "        vertical-align: middle;\n",
              "    }\n",
              "\n",
              "    .dataframe tbody tr th {\n",
              "        vertical-align: top;\n",
              "    }\n",
              "\n",
              "    .dataframe thead th {\n",
              "        text-align: right;\n",
              "    }\n",
              "</style>\n",
              "<table border=\"1\" class=\"dataframe\">\n",
              "  <thead>\n",
              "    <tr style=\"text-align: right;\">\n",
              "      <th></th>\n",
              "      <th>Income</th>\n",
              "      <th>Kidhome</th>\n",
              "      <th>NumWebPurchases</th>\n",
              "      <th>NumCatalogPurchases</th>\n",
              "      <th>NumStorePurchases</th>\n",
              "    </tr>\n",
              "  </thead>\n",
              "  <tbody>\n",
              "    <tr>\n",
              "      <th>Income</th>\n",
              "      <td>1.000000</td>\n",
              "      <td>-0.428231</td>\n",
              "      <td>0.388183</td>\n",
              "      <td>0.589090</td>\n",
              "      <td>0.530120</td>\n",
              "    </tr>\n",
              "    <tr>\n",
              "      <th>Kidhome</th>\n",
              "      <td>-0.428231</td>\n",
              "      <td>1.000000</td>\n",
              "      <td>-0.372410</td>\n",
              "      <td>-0.504706</td>\n",
              "      <td>-0.502062</td>\n",
              "    </tr>\n",
              "    <tr>\n",
              "      <th>NumWebPurchases</th>\n",
              "      <td>0.388183</td>\n",
              "      <td>-0.372410</td>\n",
              "      <td>1.000000</td>\n",
              "      <td>0.386599</td>\n",
              "      <td>0.515805</td>\n",
              "    </tr>\n",
              "    <tr>\n",
              "      <th>NumCatalogPurchases</th>\n",
              "      <td>0.589090</td>\n",
              "      <td>-0.504706</td>\n",
              "      <td>0.386599</td>\n",
              "      <td>1.000000</td>\n",
              "      <td>0.517984</td>\n",
              "    </tr>\n",
              "    <tr>\n",
              "      <th>NumStorePurchases</th>\n",
              "      <td>0.530120</td>\n",
              "      <td>-0.502062</td>\n",
              "      <td>0.515805</td>\n",
              "      <td>0.517984</td>\n",
              "      <td>1.000000</td>\n",
              "    </tr>\n",
              "  </tbody>\n",
              "</table>\n",
              "</div>\n",
              "      <button class=\"colab-df-convert\" onclick=\"convertToInteractive('df-8feaedc7-196e-42ec-92c4-533642d20d7c')\"\n",
              "              title=\"Convert this dataframe to an interactive table.\"\n",
              "              style=\"display:none;\">\n",
              "        \n",
              "  <svg xmlns=\"http://www.w3.org/2000/svg\" height=\"24px\"viewBox=\"0 0 24 24\"\n",
              "       width=\"24px\">\n",
              "    <path d=\"M0 0h24v24H0V0z\" fill=\"none\"/>\n",
              "    <path d=\"M18.56 5.44l.94 2.06.94-2.06 2.06-.94-2.06-.94-.94-2.06-.94 2.06-2.06.94zm-11 1L8.5 8.5l.94-2.06 2.06-.94-2.06-.94L8.5 2.5l-.94 2.06-2.06.94zm10 10l.94 2.06.94-2.06 2.06-.94-2.06-.94-.94-2.06-.94 2.06-2.06.94z\"/><path d=\"M17.41 7.96l-1.37-1.37c-.4-.4-.92-.59-1.43-.59-.52 0-1.04.2-1.43.59L10.3 9.45l-7.72 7.72c-.78.78-.78 2.05 0 2.83L4 21.41c.39.39.9.59 1.41.59.51 0 1.02-.2 1.41-.59l7.78-7.78 2.81-2.81c.8-.78.8-2.07 0-2.86zM5.41 20L4 18.59l7.72-7.72 1.47 1.35L5.41 20z\"/>\n",
              "  </svg>\n",
              "      </button>\n",
              "      \n",
              "  <style>\n",
              "    .colab-df-container {\n",
              "      display:flex;\n",
              "      flex-wrap:wrap;\n",
              "      gap: 12px;\n",
              "    }\n",
              "\n",
              "    .colab-df-convert {\n",
              "      background-color: #E8F0FE;\n",
              "      border: none;\n",
              "      border-radius: 50%;\n",
              "      cursor: pointer;\n",
              "      display: none;\n",
              "      fill: #1967D2;\n",
              "      height: 32px;\n",
              "      padding: 0 0 0 0;\n",
              "      width: 32px;\n",
              "    }\n",
              "\n",
              "    .colab-df-convert:hover {\n",
              "      background-color: #E2EBFA;\n",
              "      box-shadow: 0px 1px 2px rgba(60, 64, 67, 0.3), 0px 1px 3px 1px rgba(60, 64, 67, 0.15);\n",
              "      fill: #174EA6;\n",
              "    }\n",
              "\n",
              "    [theme=dark] .colab-df-convert {\n",
              "      background-color: #3B4455;\n",
              "      fill: #D2E3FC;\n",
              "    }\n",
              "\n",
              "    [theme=dark] .colab-df-convert:hover {\n",
              "      background-color: #434B5C;\n",
              "      box-shadow: 0px 1px 3px 1px rgba(0, 0, 0, 0.15);\n",
              "      filter: drop-shadow(0px 1px 2px rgba(0, 0, 0, 0.3));\n",
              "      fill: #FFFFFF;\n",
              "    }\n",
              "  </style>\n",
              "\n",
              "      <script>\n",
              "        const buttonEl =\n",
              "          document.querySelector('#df-8feaedc7-196e-42ec-92c4-533642d20d7c button.colab-df-convert');\n",
              "        buttonEl.style.display =\n",
              "          google.colab.kernel.accessAllowed ? 'block' : 'none';\n",
              "\n",
              "        async function convertToInteractive(key) {\n",
              "          const element = document.querySelector('#df-8feaedc7-196e-42ec-92c4-533642d20d7c');\n",
              "          const dataTable =\n",
              "            await google.colab.kernel.invokeFunction('convertToInteractive',\n",
              "                                                     [key], {});\n",
              "          if (!dataTable) return;\n",
              "\n",
              "          const docLinkHtml = 'Like what you see? Visit the ' +\n",
              "            '<a target=\"_blank\" href=https://colab.research.google.com/notebooks/data_table.ipynb>data table notebook</a>'\n",
              "            + ' to learn more about interactive tables.';\n",
              "          element.innerHTML = '';\n",
              "          dataTable['output_type'] = 'display_data';\n",
              "          await google.colab.output.renderOutput(dataTable, element);\n",
              "          const docLink = document.createElement('div');\n",
              "          docLink.innerHTML = docLinkHtml;\n",
              "          element.appendChild(docLink);\n",
              "        }\n",
              "      </script>\n",
              "    </div>\n",
              "  </div>\n",
              "  "
            ]
          },
          "metadata": {},
          "execution_count": 298
        }
      ],
      "source": [
        "#Luego de los 5 que encontré me fijo si están correlacionados entre sí,\n",
        "#ya que uno de los supuestos de la regresión lineal es que las variables independientes no deben estar correlacionadas entre sí\n",
        "lastcandidates=df[relevantfeatures.index].corr()\n",
        "lastcandidates"
      ]
    },
    {
      "cell_type": "code",
      "execution_count": null,
      "metadata": {
        "colab": {
          "base_uri": "https://localhost:8080/",
          "height": 346
        },
        "id": "iybB_6jgvwv-",
        "outputId": "da35a9e5-0c42-4782-afd5-f9bd899a380f"
      },
      "outputs": [
        {
          "output_type": "display_data",
          "data": {
            "text/plain": [
              "<Figure size 432x288 with 2 Axes>"
            ],
            "image/png": "[encoded data removed]"
          },
          "metadata": {
            "needs_background": "light"
          }
        }
      ],
      "source": [
        "plt.figure(figsize=(6,4))\n",
        "heatmap=sns.heatmap(lastcandidates, annot=True, cmap=plt.cm.Reds)\n",
        "plt.xticks(rotation=45) \n",
        "plt.show()\n",
        "\n"
      ]
    },
    {
      "cell_type": "markdown",
      "metadata": {
        "id": "lpiLz2h8xyWP"
      },
      "source": [
        "***Selección final del método de filtro*** <br>\n",
        "Del gráfico vemos que las variables que están muy correlacionadas son\n",
        "* Income y NumCatalogPurchases con una correlación de 0.59\n",
        "* Income y NumStorePurchases con una correlación de 0.53\n",
        "* NumCatalogPurchases y NumStorePurchases con una correlación de 0.52\n",
        "* NumStorePurchases y NumWebPurchases con una correlaicón de 0.52 \n",
        "\n",
        "Por interés de análisis y conveniencia he de eliminar NumWebPurchases, ya que de todas las demás es la que tiene menos correlación con Total_exenditures. Y aunque parezca contra intuitivo, también voy a eliminar Income puesto que tiene mucha menos correlación con Total_expenditures en comparación con la correlación que tiene NumCatalogPurchases con Total_expenditures.\n",
        "\n",
        "Entonces las variables que me quedan son\n",
        "* NumStorePurchases\n",
        "* Kidhome\n",
        "* NumCatalogPurchases"
      ]
    },
    {
      "cell_type": "markdown",
      "metadata": {
        "id": "zmHMgUakvrmS"
      },
      "source": [
        "\n",
        "### ➖ Método de envoltura (Forward Selection)"
      ]
    },
    {
      "cell_type": "markdown",
      "metadata": {
        "id": "5_CWRaM61lQv"
      },
      "source": [
        "Ahora usaré la forward selection que en realidad es con la que me quedaré para usar dichas variables por su exactitud"
      ]
    },
    {
      "cell_type": "code",
      "execution_count": null,
      "metadata": {
        "id": "X9f0reoB2TIo"
      },
      "outputs": [],
      "source": [
        "#Aíslo la variable de interés y las independientes\n",
        "x=df.drop([\"Total_expenditures\",\"MntWines\",\"MntFruits\",\"MntMeatProducts\",\"MntFishProducts\",\"MntSweetProducts\",\"MntGoldProds\"], axis = 1) \n",
        "x=x.select_dtypes(include=[\"int64\",\"float64\"])\n",
        "y=df[\"Total_expenditures\"]\n"
      ]
    },
    {
      "cell_type": "markdown",
      "source": [
        "#### 🔸 Primer Sprint\n",
        "En este primer sprint se seleccionara 5 features \n",
        "\n"
      ],
      "metadata": {
        "id": "wGFujlOibmMc"
      }
    },
    {
      "cell_type": "code",
      "execution_count": null,
      "metadata": {
        "id": "CgKapVtS2RwY"
      },
      "outputs": [],
      "source": [
        "#Librerias\n",
        "from mlxtend.feature_selection import SequentialFeatureSelector as SFS\n",
        "from sklearn.linear_model import LinearRegression\n",
        "# Sequential Forward Selection(sfs)\n",
        "sfs1 = SFS(LinearRegression(),\n",
        "          k_features=5,\n",
        "          forward=True,\n",
        "          floating=False,\n",
        "          scoring = 'r2',\n",
        "          cv = 0)"
      ]
    },
    {
      "cell_type": "code",
      "execution_count": null,
      "metadata": {
        "colab": {
          "base_uri": "https://localhost:8080/"
        },
        "id": "Cd8KZeZ_2wZy",
        "outputId": "86028e06-92e2-426f-dc6c-ce98c7964a2c"
      },
      "outputs": [
        {
          "output_type": "execute_result",
          "data": {
            "text/plain": [
              "('Income',\n",
              " 'NumWebPurchases',\n",
              " 'NumCatalogPurchases',\n",
              " 'NumStorePurchases',\n",
              " 'AcceptedCmp5')"
            ]
          },
          "metadata": {},
          "execution_count": 302
        }
      ],
      "source": [
        "sfs1.fit(x, y)\n",
        "sfs1.k_feature_names_  "
      ]
    },
    {
      "cell_type": "markdown",
      "source": [
        "#### 🔸 Segundo Sprint\n",
        "En el segundo sprint se seleccionarán 8 features agregando 3 features más con el objetivo de tratar de explicar mejor la variable dependiente "
      ],
      "metadata": {
        "id": "xrwvnOmRbws1"
      }
    },
    {
      "cell_type": "code",
      "source": [
        "#Librerias\n",
        "from mlxtend.feature_selection import SequentialFeatureSelector as SFS\n",
        "from sklearn.linear_model import LinearRegression\n",
        "# Sequential Forward Selection(sfs)\n",
        "sfs2 = SFS(LinearRegression(),\n",
        "          k_features=8,\n",
        "          forward=True,\n",
        "          floating=False,\n",
        "          scoring = 'r2',\n",
        "          cv = 0)"
      ],
      "metadata": {
        "id": "J-1SFD4BcLik"
      },
      "execution_count": null,
      "outputs": []
    },
    {
      "cell_type": "code",
      "source": [
        "sfs2.fit(x, y)\n",
        "sfs2.k_feature_names_  "
      ],
      "metadata": {
        "colab": {
          "base_uri": "https://localhost:8080/"
        },
        "id": "VUvKhuFfcNqm",
        "outputId": "0703ed60-4e1b-45ce-9cd4-790db9104a0a"
      },
      "execution_count": null,
      "outputs": [
        {
          "output_type": "execute_result",
          "data": {
            "text/plain": [
              "('Income',\n",
              " 'Kidhome',\n",
              " 'Teenhome',\n",
              " 'NumWebPurchases',\n",
              " 'NumCatalogPurchases',\n",
              " 'NumStorePurchases',\n",
              " 'AcceptedCmp5',\n",
              " 'Dt_Customer_seniority')"
            ]
          },
          "metadata": {},
          "execution_count": 304
        }
      ]
    },
    {
      "cell_type": "markdown",
      "metadata": {
        "id": "FNrygSxwX_CC"
      },
      "source": [
        "## 📐 **Linear Regression**"
      ]
    },
    {
      "cell_type": "markdown",
      "source": [
        "### ➖ Primer sprint"
      ],
      "metadata": {
        "id": "IM3X2Rl2eN5j"
      }
    },
    {
      "cell_type": "markdown",
      "metadata": {
        "id": "NAXCOTkEYD3S"
      },
      "source": [
        "Se utilizará un modelo de regresión lineal para predecir los gastos totales con las 5 variables seleccionadas en el primer sprint"
      ]
    },
    {
      "cell_type": "markdown",
      "metadata": {
        "id": "lboMs2bfaD68"
      },
      "source": [
        "#### 🔸 Split data test and data train"
      ]
    },
    {
      "cell_type": "code",
      "execution_count": null,
      "metadata": {
        "id": "bzJZS1IdaIZ-"
      },
      "outputs": [],
      "source": [
        "from sklearn.model_selection import train_test_split\n",
        "\n",
        "X_train, X_test, y_train, y_test = train_test_split(x[list(sfs1.k_feature_names_)], y, test_size=0.30, random_state=42) "
      ]
    },
    {
      "cell_type": "markdown",
      "source": [
        "#### 🔸 Ajuste del modelo"
      ],
      "metadata": {
        "id": "MSUZr8HCvR6u"
      }
    },
    {
      "cell_type": "code",
      "execution_count": null,
      "metadata": {
        "colab": {
          "base_uri": "https://localhost:8080/",
          "height": 572
        },
        "id": "-T_yeI34YeDa",
        "outputId": "5720cbda-65e0-4ec5-b8c3-de435e9467ee"
      },
      "outputs": [
        {
          "output_type": "execute_result",
          "data": {
            "text/plain": [
              "<class 'statsmodels.iolib.summary.Summary'>\n",
              "\"\"\"\n",
              "                            OLS Regression Results                            \n",
              "==============================================================================\n",
              "Dep. Variable:     Total_expenditures   R-squared:                       0.768\n",
              "Model:                            OLS   Adj. R-squared:                  0.767\n",
              "Method:                 Least Squares   F-statistic:                     1022.\n",
              "Date:                Thu, 16 Feb 2023   Prob (F-statistic):               0.00\n",
              "Time:                        00:50:18   Log-Likelihood:                -10953.\n",
              "No. Observations:                1549   AIC:                         2.192e+04\n",
              "Df Residuals:                    1543   BIC:                         2.195e+04\n",
              "Df Model:                           5                                         \n",
              "Covariance Type:            nonrobust                                         \n",
              "=======================================================================================\n",
              "                          coef    std err          t      P>|t|      [0.025      0.975]\n",
              "---------------------------------------------------------------------------------------\n",
              "const                -239.9777     18.454    -13.004      0.000    -276.176    -203.779\n",
              "Income                  0.0030      0.000      8.451      0.000       0.002       0.004\n",
              "NumWebPurchases        30.9115      3.079     10.040      0.000      24.872      36.951\n",
              "NumCatalogPurchases    89.2677      3.282     27.195      0.000      82.829      95.706\n",
              "NumStorePurchases      50.0243      2.901     17.242      0.000      44.334      55.715\n",
              "AcceptedCmp5          469.9955     31.181     15.073      0.000     408.834     531.157\n",
              "==============================================================================\n",
              "Omnibus:                      286.815   Durbin-Watson:                   2.103\n",
              "Prob(Omnibus):                  0.000   Jarque-Bera (JB):             1750.234\n",
              "Skew:                           0.716   Prob(JB):                         0.00\n",
              "Kurtosis:                       8.007   Cond. No.                     2.53e+05\n",
              "==============================================================================\n",
              "\n",
              "Notes:\n",
              "[1] Standard Errors assume that the covariance matrix of the errors is correctly specified.\n",
              "[2] The condition number is large, 2.53e+05. This might indicate that there are\n",
              "strong multicollinearity or other numerical problems.\n",
              "\"\"\""
            ],
            "text/html": [
              "<table class=\"simpletable\">\n",
              "<caption>OLS Regression Results</caption>\n",
              "<tr>\n",
              "  <th>Dep. Variable:</th>    <td>Total_expenditures</td> <th>  R-squared:         </th> <td>   0.768</td> \n",
              "</tr>\n",
              "<tr>\n",
              "  <th>Model:</th>                    <td>OLS</td>        <th>  Adj. R-squared:    </th> <td>   0.767</td> \n",
              "</tr>\n",
              "<tr>\n",
              "  <th>Method:</th>              <td>Least Squares</td>   <th>  F-statistic:       </th> <td>   1022.</td> \n",
              "</tr>\n",
              "<tr>\n",
              "  <th>Date:</th>              <td>Thu, 16 Feb 2023</td>  <th>  Prob (F-statistic):</th>  <td>  0.00</td>  \n",
              "</tr>\n",
              "<tr>\n",
              "  <th>Time:</th>                  <td>00:50:18</td>      <th>  Log-Likelihood:    </th> <td> -10953.</td> \n",
              "</tr>\n",
              "<tr>\n",
              "  <th>No. Observations:</th>       <td>  1549</td>       <th>  AIC:               </th> <td>2.192e+04</td>\n",
              "</tr>\n",
              "<tr>\n",
              "  <th>Df Residuals:</th>           <td>  1543</td>       <th>  BIC:               </th> <td>2.195e+04</td>\n",
              "</tr>\n",
              "<tr>\n",
              "  <th>Df Model:</th>               <td>     5</td>       <th>                     </th>     <td> </td>    \n",
              "</tr>\n",
              "<tr>\n",
              "  <th>Covariance Type:</th>       <td>nonrobust</td>     <th>                     </th>     <td> </td>    \n",
              "</tr>\n",
              "</table>\n",
              "<table class=\"simpletable\">\n",
              "<tr>\n",
              "           <td></td>              <th>coef</th>     <th>std err</th>      <th>t</th>      <th>P>|t|</th>  <th>[0.025</th>    <th>0.975]</th>  \n",
              "</tr>\n",
              "<tr>\n",
              "  <th>const</th>               <td> -239.9777</td> <td>   18.454</td> <td>  -13.004</td> <td> 0.000</td> <td> -276.176</td> <td> -203.779</td>\n",
              "</tr>\n",
              "<tr>\n",
              "  <th>Income</th>              <td>    0.0030</td> <td>    0.000</td> <td>    8.451</td> <td> 0.000</td> <td>    0.002</td> <td>    0.004</td>\n",
              "</tr>\n",
              "<tr>\n",
              "  <th>NumWebPurchases</th>     <td>   30.9115</td> <td>    3.079</td> <td>   10.040</td> <td> 0.000</td> <td>   24.872</td> <td>   36.951</td>\n",
              "</tr>\n",
              "<tr>\n",
              "  <th>NumCatalogPurchases</th> <td>   89.2677</td> <td>    3.282</td> <td>   27.195</td> <td> 0.000</td> <td>   82.829</td> <td>   95.706</td>\n",
              "</tr>\n",
              "<tr>\n",
              "  <th>NumStorePurchases</th>   <td>   50.0243</td> <td>    2.901</td> <td>   17.242</td> <td> 0.000</td> <td>   44.334</td> <td>   55.715</td>\n",
              "</tr>\n",
              "<tr>\n",
              "  <th>AcceptedCmp5</th>        <td>  469.9955</td> <td>   31.181</td> <td>   15.073</td> <td> 0.000</td> <td>  408.834</td> <td>  531.157</td>\n",
              "</tr>\n",
              "</table>\n",
              "<table class=\"simpletable\">\n",
              "<tr>\n",
              "  <th>Omnibus:</th>       <td>286.815</td> <th>  Durbin-Watson:     </th> <td>   2.103</td>\n",
              "</tr>\n",
              "<tr>\n",
              "  <th>Prob(Omnibus):</th> <td> 0.000</td>  <th>  Jarque-Bera (JB):  </th> <td>1750.234</td>\n",
              "</tr>\n",
              "<tr>\n",
              "  <th>Skew:</th>          <td> 0.716</td>  <th>  Prob(JB):          </th> <td>    0.00</td>\n",
              "</tr>\n",
              "<tr>\n",
              "  <th>Kurtosis:</th>      <td> 8.007</td>  <th>  Cond. No.          </th> <td>2.53e+05</td>\n",
              "</tr>\n",
              "</table><br/><br/>Notes:<br/>[1] Standard Errors assume that the covariance matrix of the errors is correctly specified.<br/>[2] The condition number is large, 2.53e+05. This might indicate that there are<br/>strong multicollinearity or other numerical problems."
            ]
          },
          "metadata": {},
          "execution_count": 306
        }
      ],
      "source": [
        "#ajuste de una regresion lineal utilizando statsmodels \n",
        "import statsmodels.api as sm \n",
        "#Variables utilizar para nuestra regresion lo obtenido anteriormente con el facture \n",
        "X_1sprint1= X_train\n",
        "\n",
        "#vamos a tomar una columna de constantes para ajustar nuestro modelo \n",
        "x_constante1= sm.add_constant(X_1sprint1)\n",
        "#genera el modeolo \n",
        "li_reg=sm.OLS(y_train, x_constante1).fit()\n",
        "li_reg.summary()"
      ]
    },
    {
      "cell_type": "markdown",
      "metadata": {
        "id": "arWWL6AwcPhj"
      },
      "source": [
        "#### 🔸 Métricas "
      ]
    },
    {
      "cell_type": "code",
      "execution_count": null,
      "metadata": {
        "colab": {
          "base_uri": "https://localhost:8080/"
        },
        "id": "3fXmSOfoasSU",
        "outputId": "806469e0-0f2f-4f13-ba2f-cb47cb9e8f02"
      },
      "outputs": [
        {
          "output_type": "stream",
          "name": "stdout",
          "text": [
            "Coeficiente de determinacion\n",
            "R2 test model 0.8171985788081808\n",
            "--------------------------------------------------\n",
            "Mean squared error\n",
            "MSE test model 71780.42645247564\n",
            "--------------------------------------------------\n"
          ]
        }
      ],
      "source": [
        "from sklearn.metrics import mean_squared_error, r2_score \n",
        "Xnuevo1=sm.add_constant(X_test)\n",
        "pred_test1=li_reg.predict(Xnuevo1)\n",
        "print('Coeficiente de determinacion')\n",
        "print('R2 test model', r2_score(y_test, pred_test1))\n",
        "print(\"-\"*50)\n",
        "print('Mean squared error')\n",
        "print('MSE test model', mean_squared_error(y_test, pred_test1))\n",
        "print(\"-\"*50)"
      ]
    },
    {
      "cell_type": "markdown",
      "metadata": {
        "id": "njuIdPBDhLvR"
      },
      "source": [
        "#### 🔸 Conclusiones"
      ]
    },
    {
      "cell_type": "markdown",
      "metadata": {
        "id": "rbBbLI-_kTLU"
      },
      "source": [
        "El coeficiente de determinación es bastante alto, lo cual nos indica que el modelo está muy bien ajustado, obviamente que no de manera perfecta pero sí con gran eficiencia.\n",
        "\n",
        "Considerando el error cuadrático medio, el cual indica el ajuste absoluto del modelo a los datos, cuán cerca están los puntos de datos observados de los valores predichos del modelo. Vemos que los puntos están bastante alejados de los valores predichos del modelo, lo cual nos va a dar que el modelo prediga no serán tan exactos o que también hubo algún outlier fuerte."
      ]
    },
    {
      "cell_type": "markdown",
      "source": [
        "### ➖ Segundo Sprint"
      ],
      "metadata": {
        "id": "Rn9WonJsea6Y"
      }
    },
    {
      "cell_type": "markdown",
      "source": [
        "Se utilizará un modelo de regresión lineal para predecir los gastos totales con las 8 variables seleccionadas en el segundo sprint"
      ],
      "metadata": {
        "id": "Z8ckITXyfBCk"
      }
    },
    {
      "cell_type": "markdown",
      "source": [
        "#### 🔸 Split data test and data train"
      ],
      "metadata": {
        "id": "KwZOqpvMg7xH"
      }
    },
    {
      "cell_type": "code",
      "source": [
        "from sklearn.model_selection import train_test_split\n",
        "\n",
        "X_train, X_test, y_train, y_test = train_test_split(x[list(sfs2.k_feature_names_)], y, test_size=0.30, random_state=42) "
      ],
      "metadata": {
        "id": "VZN_bq4Qg-9f"
      },
      "execution_count": null,
      "outputs": []
    },
    {
      "cell_type": "markdown",
      "source": [
        "#### 🔸 Ajuste del modelo"
      ],
      "metadata": {
        "id": "Aw7PSa3IyOQG"
      }
    },
    {
      "cell_type": "code",
      "source": [
        "#ajuste de una regresion lineal utilizando statsmodels \n",
        "import statsmodels.api as sm \n",
        "#Variables utilizar para nuestra regresion lo obtenido anteriormente con el facture \n",
        "X_1sprint2= X_train\n",
        "\n",
        "#vamos a tomar una columna de costantes para ajustar nuestro modelo \n",
        "x_constante2= sm.add_constant(X_1sprint2)\n",
        "#genera el modeolo \n",
        "li_reg=sm.OLS(y_train, x_constante2).fit()\n",
        "li_reg.summary()"
      ],
      "metadata": {
        "colab": {
          "base_uri": "https://localhost:8080/",
          "height": 636
        },
        "id": "1b7nJS-tgHTJ",
        "outputId": "cd4cd8eb-f341-40da-d9dc-0098f12f9c95"
      },
      "execution_count": null,
      "outputs": [
        {
          "output_type": "execute_result",
          "data": {
            "text/plain": [
              "<class 'statsmodels.iolib.summary.Summary'>\n",
              "\"\"\"\n",
              "                            OLS Regression Results                            \n",
              "==============================================================================\n",
              "Dep. Variable:     Total_expenditures   R-squared:                       0.787\n",
              "Model:                            OLS   Adj. R-squared:                  0.786\n",
              "Method:                 Least Squares   F-statistic:                     711.1\n",
              "Date:                Thu, 16 Feb 2023   Prob (F-statistic):               0.00\n",
              "Time:                        00:50:25   Log-Likelihood:                -10887.\n",
              "No. Observations:                1549   AIC:                         2.179e+04\n",
              "Df Residuals:                    1540   BIC:                         2.184e+04\n",
              "Df Model:                           8                                         \n",
              "Covariance Type:            nonrobust                                         \n",
              "=========================================================================================\n",
              "                            coef    std err          t      P>|t|      [0.025      0.975]\n",
              "-----------------------------------------------------------------------------------------\n",
              "const                  -165.4009     26.084     -6.341      0.000    -216.565    -114.237\n",
              "Income                    0.0033      0.000      9.534      0.000       0.003       0.004\n",
              "Kidhome                 -93.4669     15.871     -5.889      0.000    -124.597     -62.336\n",
              "Teenhome               -110.9551     13.548     -8.190      0.000    -137.529     -84.381\n",
              "NumWebPurchases          31.0975      3.049     10.199      0.000      25.117      37.078\n",
              "NumCatalogPurchases      79.1617      3.313     23.897      0.000      72.664      85.659\n",
              "NumStorePurchases        46.3633      2.880     16.098      0.000      40.714      52.013\n",
              "AcceptedCmp5            422.4963     30.563     13.824      0.000     362.547     482.445\n",
              "Dt_Customer_seniority    60.9733     10.285      5.928      0.000      40.799      81.148\n",
              "==============================================================================\n",
              "Omnibus:                      239.384   Durbin-Watson:                   2.087\n",
              "Prob(Omnibus):                  0.000   Jarque-Bera (JB):             2316.060\n",
              "Skew:                           0.393   Prob(JB):                         0.00\n",
              "Kurtosis:                       8.938   Cond. No.                     2.59e+05\n",
              "==============================================================================\n",
              "\n",
              "Notes:\n",
              "[1] Standard Errors assume that the covariance matrix of the errors is correctly specified.\n",
              "[2] The condition number is large, 2.59e+05. This might indicate that there are\n",
              "strong multicollinearity or other numerical problems.\n",
              "\"\"\""
            ],
            "text/html": [
              "<table class=\"simpletable\">\n",
              "<caption>OLS Regression Results</caption>\n",
              "<tr>\n",
              "  <th>Dep. Variable:</th>    <td>Total_expenditures</td> <th>  R-squared:         </th> <td>   0.787</td> \n",
              "</tr>\n",
              "<tr>\n",
              "  <th>Model:</th>                    <td>OLS</td>        <th>  Adj. R-squared:    </th> <td>   0.786</td> \n",
              "</tr>\n",
              "<tr>\n",
              "  <th>Method:</th>              <td>Least Squares</td>   <th>  F-statistic:       </th> <td>   711.1</td> \n",
              "</tr>\n",
              "<tr>\n",
              "  <th>Date:</th>              <td>Thu, 16 Feb 2023</td>  <th>  Prob (F-statistic):</th>  <td>  0.00</td>  \n",
              "</tr>\n",
              "<tr>\n",
              "  <th>Time:</th>                  <td>00:50:25</td>      <th>  Log-Likelihood:    </th> <td> -10887.</td> \n",
              "</tr>\n",
              "<tr>\n",
              "  <th>No. Observations:</th>       <td>  1549</td>       <th>  AIC:               </th> <td>2.179e+04</td>\n",
              "</tr>\n",
              "<tr>\n",
              "  <th>Df Residuals:</th>           <td>  1540</td>       <th>  BIC:               </th> <td>2.184e+04</td>\n",
              "</tr>\n",
              "<tr>\n",
              "  <th>Df Model:</th>               <td>     8</td>       <th>                     </th>     <td> </td>    \n",
              "</tr>\n",
              "<tr>\n",
              "  <th>Covariance Type:</th>       <td>nonrobust</td>     <th>                     </th>     <td> </td>    \n",
              "</tr>\n",
              "</table>\n",
              "<table class=\"simpletable\">\n",
              "<tr>\n",
              "            <td></td>               <th>coef</th>     <th>std err</th>      <th>t</th>      <th>P>|t|</th>  <th>[0.025</th>    <th>0.975]</th>  \n",
              "</tr>\n",
              "<tr>\n",
              "  <th>const</th>                 <td> -165.4009</td> <td>   26.084</td> <td>   -6.341</td> <td> 0.000</td> <td> -216.565</td> <td> -114.237</td>\n",
              "</tr>\n",
              "<tr>\n",
              "  <th>Income</th>                <td>    0.0033</td> <td>    0.000</td> <td>    9.534</td> <td> 0.000</td> <td>    0.003</td> <td>    0.004</td>\n",
              "</tr>\n",
              "<tr>\n",
              "  <th>Kidhome</th>               <td>  -93.4669</td> <td>   15.871</td> <td>   -5.889</td> <td> 0.000</td> <td> -124.597</td> <td>  -62.336</td>\n",
              "</tr>\n",
              "<tr>\n",
              "  <th>Teenhome</th>              <td> -110.9551</td> <td>   13.548</td> <td>   -8.190</td> <td> 0.000</td> <td> -137.529</td> <td>  -84.381</td>\n",
              "</tr>\n",
              "<tr>\n",
              "  <th>NumWebPurchases</th>       <td>   31.0975</td> <td>    3.049</td> <td>   10.199</td> <td> 0.000</td> <td>   25.117</td> <td>   37.078</td>\n",
              "</tr>\n",
              "<tr>\n",
              "  <th>NumCatalogPurchases</th>   <td>   79.1617</td> <td>    3.313</td> <td>   23.897</td> <td> 0.000</td> <td>   72.664</td> <td>   85.659</td>\n",
              "</tr>\n",
              "<tr>\n",
              "  <th>NumStorePurchases</th>     <td>   46.3633</td> <td>    2.880</td> <td>   16.098</td> <td> 0.000</td> <td>   40.714</td> <td>   52.013</td>\n",
              "</tr>\n",
              "<tr>\n",
              "  <th>AcceptedCmp5</th>          <td>  422.4963</td> <td>   30.563</td> <td>   13.824</td> <td> 0.000</td> <td>  362.547</td> <td>  482.445</td>\n",
              "</tr>\n",
              "<tr>\n",
              "  <th>Dt_Customer_seniority</th> <td>   60.9733</td> <td>   10.285</td> <td>    5.928</td> <td> 0.000</td> <td>   40.799</td> <td>   81.148</td>\n",
              "</tr>\n",
              "</table>\n",
              "<table class=\"simpletable\">\n",
              "<tr>\n",
              "  <th>Omnibus:</th>       <td>239.384</td> <th>  Durbin-Watson:     </th> <td>   2.087</td>\n",
              "</tr>\n",
              "<tr>\n",
              "  <th>Prob(Omnibus):</th> <td> 0.000</td>  <th>  Jarque-Bera (JB):  </th> <td>2316.060</td>\n",
              "</tr>\n",
              "<tr>\n",
              "  <th>Skew:</th>          <td> 0.393</td>  <th>  Prob(JB):          </th> <td>    0.00</td>\n",
              "</tr>\n",
              "<tr>\n",
              "  <th>Kurtosis:</th>      <td> 8.938</td>  <th>  Cond. No.          </th> <td>2.59e+05</td>\n",
              "</tr>\n",
              "</table><br/><br/>Notes:<br/>[1] Standard Errors assume that the covariance matrix of the errors is correctly specified.<br/>[2] The condition number is large, 2.59e+05. This might indicate that there are<br/>strong multicollinearity or other numerical problems."
            ]
          },
          "metadata": {},
          "execution_count": 309
        }
      ]
    },
    {
      "cell_type": "markdown",
      "source": [
        "#### 🔸 Métricas "
      ],
      "metadata": {
        "id": "fXna-XT9h-TB"
      }
    },
    {
      "cell_type": "code",
      "source": [
        "from sklearn.metrics import mean_squared_error, r2_score \n",
        "Xnuevo2=sm.add_constant(X_test)\n",
        "pred_test2=li_reg.predict(Xnuevo2)\n",
        "print('Coeficiente de determinacion')\n",
        "print('R2 test model', r2_score(y_test, pred_test2))\n",
        "print(\"-\"*50)\n",
        "print('MEan squared error')\n",
        "print('MSE test model', mean_squared_error(y_test, pred_test2))\n",
        "print(\"-\"*50)"
      ],
      "metadata": {
        "colab": {
          "base_uri": "https://localhost:8080/"
        },
        "id": "8mZP9LVliCJ9",
        "outputId": "9326757d-8a72-419d-f8cb-beb12b4e8991"
      },
      "execution_count": null,
      "outputs": [
        {
          "output_type": "stream",
          "name": "stdout",
          "text": [
            "Coeficiente de determinacion\n",
            "R2 test model 0.831507285192226\n",
            "--------------------------------------------------\n",
            "MEan squared error\n",
            "MSE test model 66161.84296699894\n",
            "--------------------------------------------------\n"
          ]
        }
      ]
    },
    {
      "cell_type": "code",
      "source": [
        "print('MEan squared error')\n",
        "print('MSE test model', mean_squared_error(y_test, pred_test2))"
      ],
      "metadata": {
        "colab": {
          "base_uri": "https://localhost:8080/"
        },
        "id": "aFTboqC2iZxk",
        "outputId": "4b0775b5-4456-4045-8380-ccd7c969b2ed"
      },
      "execution_count": null,
      "outputs": [
        {
          "output_type": "stream",
          "name": "stdout",
          "text": [
            "MEan squared error\n",
            "MSE test model 66161.84296699894\n"
          ]
        }
      ]
    },
    {
      "cell_type": "markdown",
      "source": [
        "#### 🔸 Conclusiones"
      ],
      "metadata": {
        "id": "wF0LflekikPx"
      }
    },
    {
      "cell_type": "markdown",
      "source": [
        "El coeficiente de determinación es bastante alto y se nota una mejoría leve con respecto al del primer sprint con 5 variables, lo cual nos indica que el modelo está muy bien ajustado, obviamente que no de manera perfecta pero sí con gran eficiencia.\n",
        "\n",
        "Además, también podemos observar una leve mejoría en el error cuadrático medio, ya que disminuye"
      ],
      "metadata": {
        "id": "mncgXRSBikoG"
      }
    },
    {
      "cell_type": "markdown",
      "source": [
        "## ⭐ **Model selection | Cross validation**"
      ],
      "metadata": {
        "id": "TYKHChBDnUzU"
      }
    },
    {
      "cell_type": "markdown",
      "source": [
        "Se evaluará que modelo es más eficiente para predecir los valores de gasto total. Se utilizarán únicamente las variables del primer sprint"
      ],
      "metadata": {
        "id": "8vKTLm8br2oy"
      }
    },
    {
      "cell_type": "markdown",
      "source": [
        "### ➖ Linear Regression"
      ],
      "metadata": {
        "id": "q1QGo8vkuNRw"
      }
    },
    {
      "cell_type": "code",
      "source": [
        "from sklearn.model_selection import KFold\n",
        "from sklearn.metrics import mean_squared_error, r2_score \n",
        "import statsmodels.api as sm \n",
        "\n",
        "#Se seleccionan las variables que se utilizarán para entrenar al modelo\n",
        "X=x[list(sfs1.k_feature_names_)]\n",
        "y=df[\"Total_expenditures\"]\n",
        "\n",
        "#Definir el objeto de validación \n",
        "kf=KFold(n_splits=10)\n",
        "\n",
        "#Diccionario para almacenar los resultados\n",
        "\n",
        "results={\"MSE\":[],\"R2\":[]}\n",
        "\n",
        "#Iterar sobre los pliegues \n",
        "for train_index, test_index in kf.split(X):\n",
        "  X_train, X_test=X.iloc[train_index,:], X.iloc[test_index,:]\n",
        "  y_train, y_test=y.iloc[train_index], y.iloc[test_index]  \n",
        "  #vamos a tomar una columna de constantes para ajustar nuestro modelo \n",
        "  x_constante1= sm.add_constant(X_train)\n",
        "  #genera el modelo \n",
        "  li_reg=sm.OLS(y_train, x_constante1).fit() \n",
        "  #calcular las métricas\n",
        "  x_constante2=sm.add_constant(X_test)\n",
        "  pred_test=li_reg.predict(x_constante2)\n",
        "  r2= r2_score(y_test, pred_test)\n",
        "  mse=mean_squared_error(y_test, pred_test)\n",
        "  #almacenar resultados\n",
        "  results[\"R2\"].append(r2)\n",
        "  results[\"MSE\"].append(mse)\n",
        "\n",
        "print(f\"MSE\\n\\tmedia: {np.mean(results.get('MSE'))} \\n\\tdesvio: {np.std(results.get('MSE'))}\")\n",
        "print(f\"R2\\n\\tmedia: {np.mean(results.get('R2'))} \\n\\tdesvio: {np.std(results.get('R2'))}\")"
      ],
      "metadata": {
        "colab": {
          "base_uri": "https://localhost:8080/"
        },
        "id": "LqfcTyKauTt5",
        "outputId": "428f3f52-c500-41d9-9153-c25a4765a5ce"
      },
      "execution_count": null,
      "outputs": [
        {
          "output_type": "stream",
          "name": "stdout",
          "text": [
            "MSE\n",
            "\tmedia: 87024.64300474362 \n",
            "\tdesvio: 32122.00234144101\n",
            "R2\n",
            "\tmedia: 0.758675564739663 \n",
            "\tdesvio: 0.0928585590022484\n"
          ]
        }
      ]
    },
    {
      "cell_type": "markdown",
      "source": [
        "### ➖ Random Forest Regression"
      ],
      "metadata": {
        "id": "TKuANvEet5jE"
      }
    },
    {
      "cell_type": "code",
      "source": [
        "from sklearn.model_selection import cross_val_score\n",
        "from sklearn.ensemble import RandomForestRegressor\n",
        "\n",
        "#Se seleccionan las variables que se utilizarán para entrenar al modelo\n",
        "X=x[list(sfs1.k_feature_names_)]\n",
        "y=df[\"Total_expenditures\"]\n",
        "\n",
        "#crear el modelo\n",
        "model=RandomForestRegressor(random_state=42,n_estimators=10,max_depth=4 )\n",
        "r2scores=cross_val_score(model,X, y, cv=10, verbose=0, scoring=\"r2\")\n",
        "msescores=cross_val_score(model,X, y, cv=10, verbose=0, scoring=\"neg_mean_squared_error\")*-1\n",
        "\n",
        "print(f\"MSE\\n\\tmedia: {np.mean(msescores)} \\n\\tdesvio: {np.std(msescores)}\")\n",
        "print(f\"R2\\n\\tmedia: {np.mean(r2scores)} \\n\\tdesvio: {np.std(r2scores)}\")"
      ],
      "metadata": {
        "colab": {
          "base_uri": "https://localhost:8080/"
        },
        "id": "jjgw7BHtsVcB",
        "outputId": "0f15856b-44ba-4f40-9dd4-2bfef95bf4ab"
      },
      "execution_count": null,
      "outputs": [
        {
          "output_type": "stream",
          "name": "stdout",
          "text": [
            "MSE\n",
            "\tmedia: 55695.12978610435 \n",
            "\tdesvio: 9796.767355510714\n",
            "R2\n",
            "\tmedia: 0.8465010274201503 \n",
            "\tdesvio: 0.02199921055398203\n"
          ]
        }
      ]
    },
    {
      "cell_type": "markdown",
      "source": [
        "#### 🔸 Tunning de hiperparámetros"
      ],
      "metadata": {
        "id": "7VD2kiZRmvua"
      }
    },
    {
      "cell_type": "code",
      "source": [
        "from sklearn.experimental import enable_halving_search_cv \n",
        "from sklearn.model_selection import HalvingRandomSearchCV\n",
        "model=RandomForestRegressor(random_state=42)\n",
        "params_grid = {\n",
        "        'n_estimators': [x for x in range(1,101,5)], # Número de arboles a construir\n",
        "        'max_depth': [3, 5, 7, 9], # Número de splits para cada arbol de decisión\n",
        "        'criterion':[\"squared_error\", \"absolute_error\", \"friedman_mse\", \"poisson\"]\n",
        "        }\n",
        "halving_cv = HalvingRandomSearchCV(model, params_grid, scoring=\"neg_mean_squared_error\", factor=3)\n",
        "halving_cv.fit(X_train, y_train)\n",
        "\n",
        "print(\"Mejores parametros\", halving_cv.best_params_)\n",
        "print(\"Mejor CV score\", halving_cv.best_score_)\n",
        "\n",
        "\n"
      ],
      "metadata": {
        "colab": {
          "base_uri": "https://localhost:8080/"
        },
        "id": "f3HGBq3znQQU",
        "outputId": "97e43ddd-64a8-405f-fdcb-14bd8b1df178"
      },
      "execution_count": null,
      "outputs": [
        {
          "output_type": "stream",
          "name": "stdout",
          "text": [
            "Mejores parametros {'n_estimators': 76, 'max_depth': 9, 'criterion': 'poisson'}\n",
            "Mejor CV score -174484.64528449817\n"
          ]
        }
      ]
    },
    {
      "cell_type": "code",
      "source": [
        "#Métricas del tunning de hiperparámetros\n",
        "model=RandomForestRegressor(n_estimators= 26, max_depth = 5, criterion= \"friedman_mse\" )\n",
        "r2scores=cross_val_score(model,X, y, cv=10, verbose=0, scoring=\"r2\")\n",
        "msescores=cross_val_score(model,X, y, cv=10, verbose=0, scoring=\"neg_mean_squared_error\")*-1\n",
        "\n",
        "print(f\"MSE\\n\\tmedia: {np.mean(msescores)} \\n\\tdesvio: {np.std(msescores)}\")\n",
        "print(f\"R2\\n\\tmedia: {np.mean(r2scores)} \\n\\tdesvio: {np.std(r2scores)}\")"
      ],
      "metadata": {
        "colab": {
          "base_uri": "https://localhost:8080/"
        },
        "id": "BTswWDVauRfp",
        "outputId": "180ca655-03fc-4d8b-fae4-589ae2f74a20"
      },
      "execution_count": null,
      "outputs": [
        {
          "output_type": "stream",
          "name": "stdout",
          "text": [
            "MSE\n",
            "\tmedia: 51744.92000381359 \n",
            "\tdesvio: 9025.414677567027\n",
            "R2\n",
            "\tmedia: 0.8565833026193779 \n",
            "\tdesvio: 0.021335040849194638\n"
          ]
        }
      ]
    },
    {
      "cell_type": "markdown",
      "source": [
        "### ➖ Polynomic Regression"
      ],
      "metadata": {
        "id": "df50sjKlyO6b"
      }
    },
    {
      "cell_type": "code",
      "source": [
        "# Librería para parámetros polinomiales\n",
        "from sklearn.preprocessing import PolynomialFeatures\n",
        "#Librería para ajustar modelos lineales\n",
        "from sklearn.linear_model import LinearRegression\n",
        "\n",
        "# Variables\n",
        "X=x[list(sfs1.k_feature_names_)]\n",
        "y=df[\"Total_expenditures\"]\n",
        "\n",
        "# Utilizaremos una transformación de grado 2\n",
        "poly = PolynomialFeatures(2)\n",
        "poly_X = poly.fit_transform(X)\n",
        "\n"
      ],
      "metadata": {
        "id": "zSlDrA7lyRKV"
      },
      "execution_count": null,
      "outputs": []
    },
    {
      "cell_type": "code",
      "source": [
        "# Esta transformación crea nuevas variables y las añade al conjunto de datos. Veamos cuántas se generan:\n",
        "poly_X.shape"
      ],
      "metadata": {
        "colab": {
          "base_uri": "https://localhost:8080/"
        },
        "id": "5ni_M5xt0Kuc",
        "outputId": "7998adab-57a3-425a-db70-13f3eaeb17f8"
      },
      "execution_count": null,
      "outputs": [
        {
          "output_type": "execute_result",
          "data": {
            "text/plain": [
              "(2213, 21)"
            ]
          },
          "metadata": {},
          "execution_count": 317
        }
      ]
    },
    {
      "cell_type": "code",
      "source": [
        "# Ajuste del modelo\n",
        "model_poly = LinearRegression()\n",
        "\n",
        "r2scores=cross_val_score(model_poly,poly_X, y, cv=10, verbose=0, scoring=\"r2\")\n",
        "msescores=cross_val_score(model_poly,poly_X, y, cv=10, verbose=0, scoring=\"neg_mean_squared_error\")*-1\n",
        "\n",
        "print(f\"MSE\\n\\tmedia: {np.mean(msescores)} \\n\\tdesvio: {np.std(msescores)}\")\n",
        "print(f\"R2\\n\\tmedia: {np.mean(r2scores)} \\n\\tdesvio: {np.std(r2scores)}\")"
      ],
      "metadata": {
        "colab": {
          "base_uri": "https://localhost:8080/"
        },
        "id": "TiZMwSyz1qFW",
        "outputId": "50fc3276-1aff-4678-9fb7-bf2e7754d4d9"
      },
      "execution_count": null,
      "outputs": [
        {
          "output_type": "stream",
          "name": "stdout",
          "text": [
            "MSE\n",
            "\tmedia: 324806.65846399806 \n",
            "\tdesvio: 653002.4588971835\n",
            "R2\n",
            "\tmedia: 0.06939327981912422 \n",
            "\tdesvio: 1.8864557520715213\n"
          ]
        }
      ]
    },
    {
      "cell_type": "markdown",
      "source": [
        "#### 🔸 Tunning de hiperparámetros"
      ],
      "metadata": {
        "id": "GpQx9Kwq5RZ_"
      }
    },
    {
      "cell_type": "code",
      "source": [
        "from sklearn.model_selection import cross_val_score\n",
        "\n",
        "degrees = [1, 2, 3, 4, 5, 6] # Change degree \"hyperparameter\" here\n",
        "interaction_only = [True, False] # Change normalize hyperparameter here\n",
        "include_bias = [True,False]\n",
        "best_r2 = 0\n",
        "best_degree = 0\n",
        "best_interaction = 0\n",
        "best_bias = 0\n",
        "for degree in degrees:\n",
        "    for interaction in interaction_only:\n",
        "          for bias in include_bias:\n",
        "            poly = PolynomialFeatures(degree= degree, interaction_only=interaction,include_bias=bias )\n",
        "            poly_X = poly.fit_transform(X)\n",
        "            model_poly = LinearRegression()\n",
        "            r2scores=cross_val_score(model_poly,poly_X, y, cv=10, verbose=0, scoring=\"r2\")\n",
        "            if np.mean(r2scores) > best_r2:\n",
        "                best_r2 = np.mean(r2scores)\n",
        "                best_degree = degree\n",
        "                best_bias = bias\n",
        "                best_interaction = interaction\n",
        "\n",
        "print(f\"Los mejores parámetros son: \\n -degree: {best_degree} \\n -interaction_only: {best_interaction} \\n -include_bias: {best_bias}\")\n",
        "print(f\"Y con esos parámetros el coeficiente de determinación es igual a {best_r2}\")"
      ],
      "metadata": {
        "colab": {
          "base_uri": "https://localhost:8080/"
        },
        "id": "a0qeV2_C5SCW",
        "outputId": "75963606-902a-4cad-9b3c-f9bb942e772b"
      },
      "execution_count": null,
      "outputs": [
        {
          "output_type": "stream",
          "name": "stdout",
          "text": [
            "Los mejores parámetros son: \n",
            " -degree: 3 \n",
            " -interaction_only: True \n",
            " -include_bias: False\n",
            "Y con esos parámetros el coeficiente de determinación es igual a 0.8053307661453741\n"
          ]
        }
      ]
    },
    {
      "cell_type": "markdown",
      "source": [
        "### ➖ Conclusiones"
      ],
      "metadata": {
        "id": "xh7Ghb2WC_FT"
      }
    },
    {
      "cell_type": "markdown",
      "source": [
        "Luego de testear los 3 modelos el que mejor se desempeña es el Random Forest Regression mostrando un mejor coeficiente de determinación, el cual explica el 85% de la variabilidad de los datos y un menor error"
      ],
      "metadata": {
        "id": "gOy7dWCzDCok"
      }
    },
    {
      "cell_type": "markdown",
      "source": [
        "## ⭕ **Clustering**"
      ],
      "metadata": {
        "id": "mUaDo50SuXrU"
      }
    },
    {
      "cell_type": "markdown",
      "source": [
        "Es de nuestro interés encontrar los diferentes grupos que se encuentran dentro de los consumidores para poder dirigir una campaña de marketing más definida."
      ],
      "metadata": {
        "id": "5iI7g4iIOmCg"
      }
    },
    {
      "cell_type": "code",
      "source": [
        "# Metodo del Codo para encontrar el numero optimo de clusters\n",
        "from sklearn.cluster import KMeans\n",
        "\n",
        "# Preparamos las variables del dataset que son de nuestro interés \n",
        "X= df[[\"Dt_Customer_seniority\",\"Age\",\"Income\",\"Kidhome\",\"Total_expenditures\",\"Teenhome\"]]\n",
        "\n",
        "wcss = []\n",
        "for i in range(1, 11):\n",
        "    kmeans = KMeans(n_clusters = i, init = 'k-means++', random_state = 42)\n",
        "    kmeans.fit(X)\n",
        "    wcss.append(kmeans.inertia_)\n",
        "\n",
        "# Grafica de la suma de las distancias\n",
        "plt.plot(range(1, 11), wcss)\n",
        "plt.title('The Elbow Method')\n",
        "plt.xlabel('Number of clusters')\n",
        "plt.ylabel('WCSS')\n",
        "plt.show()"
      ],
      "metadata": {
        "colab": {
          "base_uri": "https://localhost:8080/",
          "height": 295
        },
        "id": "MJ9nyStEuc91",
        "outputId": "463838e0-c3f3-40ba-baa6-67e13d3bbe54"
      },
      "execution_count": null,
      "outputs": [
        {
          "output_type": "display_data",
          "data": {
            "text/plain": [
              "<Figure size 432x288 with 1 Axes>"
            ],
            "image/png": "[encoded data removed]"
          },
          "metadata": {
            "needs_background": "light"
          }
        }
      ]
    },
    {
      "cell_type": "markdown",
      "source": [
        "En la sección anterior, creamos clusters para los valores entre 1 y 10 (en el intervalo de 1 a 11) y calculamos la suma de las distancias para cada uno de ellos usando la medida de inertia del objeto kmeans. Al mirar la gráfica, vemos que la disminución en la suma de distancias se hace menos pronunciada cuando el número de clusters es igual a 4, por lo que en este ejemplo específico, el número ideal de clusters será 4."
      ],
      "metadata": {
        "id": "mwoTbCp00nVB"
      }
    },
    {
      "cell_type": "code",
      "source": [
        "# Creando el k-Means para los 4 grupos encontrados\n",
        "kmeans = KMeans(n_clusters = 4, init = 'k-means++', random_state = 42) \n",
        "y_kmeans = kmeans.fit_predict(X)"
      ],
      "metadata": {
        "id": "ZcZwG8uN0z5f"
      },
      "execution_count": null,
      "outputs": []
    },
    {
      "cell_type": "code",
      "source": [
        "df['pred']=y_kmeans\n",
        "df[[\"pred\",\"Dt_Customer_seniority\",\"Age\",\"Income\",\"Kidhome\",\"Total_expenditures\",\"Teenhome\"]]"
      ],
      "metadata": {
        "colab": {
          "base_uri": "https://localhost:8080/",
          "height": 424
        },
        "id": "n-qyY6Kx1Boo",
        "outputId": "9ebf97ce-b0fb-4d98-ca17-586ea61673f8"
      },
      "execution_count": null,
      "outputs": [
        {
          "output_type": "execute_result",
          "data": {
            "text/plain": [
              "      pred  Dt_Customer_seniority  Age   Income  Kidhome  Total_expenditures  \\\n",
              "0        0                      2   57  58138.0        0                1617   \n",
              "1        0                      0   60  46344.0        1                  27   \n",
              "2        2                      1   49  71613.0        0                 776   \n",
              "3        3                      0   30  26646.0        1                  53   \n",
              "4        0                      0   33  58293.0        1                 422   \n",
              "...    ...                    ...  ...      ...      ...                 ...   \n",
              "2235     0                      1   47  61223.0        0                1341   \n",
              "2236     0                      0   68  64014.0        2                 444   \n",
              "2237     0                      0   33  56981.0        0                1241   \n",
              "2238     2                      0   58  69245.0        0                 843   \n",
              "2239     0                      2   60  52869.0        1                 172   \n",
              "\n",
              "      Teenhome  \n",
              "0            0  \n",
              "1            1  \n",
              "2            0  \n",
              "3            0  \n",
              "4            0  \n",
              "...        ...  \n",
              "2235         1  \n",
              "2236         1  \n",
              "2237         0  \n",
              "2238         1  \n",
              "2239         1  \n",
              "\n",
              "[2213 rows x 7 columns]"
            ],
            "text/html": [
              "\n",
              "  <div id=\"df-d2206f6c-c044-4e33-bef4-1201e7f1a25d\">\n",
              "    <div class=\"colab-df-container\">\n",
              "      <div>\n",
              "<style scoped>\n",
              "    .dataframe tbody tr th:only-of-type {\n",
              "        vertical-align: middle;\n",
              "    }\n",
              "\n",
              "    .dataframe tbody tr th {\n",
              "        vertical-align: top;\n",
              "    }\n",
              "\n",
              "    .dataframe thead th {\n",
              "        text-align: right;\n",
              "    }\n",
              "</style>\n",
              "<table border=\"1\" class=\"dataframe\">\n",
              "  <thead>\n",
              "    <tr style=\"text-align: right;\">\n",
              "      <th></th>\n",
              "      <th>pred</th>\n",
              "      <th>Dt_Customer_seniority</th>\n",
              "      <th>Age</th>\n",
              "      <th>Income</th>\n",
              "      <th>Kidhome</th>\n",
              "      <th>Total_expenditures</th>\n",
              "      <th>Teenhome</th>\n",
              "    </tr>\n",
              "  </thead>\n",
              "  <tbody>\n",
              "    <tr>\n",
              "      <th>0</th>\n",
              "      <td>0</td>\n",
              "      <td>2</td>\n",
              "      <td>57</td>\n",
              "      <td>58138.0</td>\n",
              "      <td>0</td>\n",
              "      <td>1617</td>\n",
              "      <td>0</td>\n",
              "    </tr>\n",
              "    <tr>\n",
              "      <th>1</th>\n",
              "      <td>0</td>\n",
              "      <td>0</td>\n",
              "      <td>60</td>\n",
              "      <td>46344.0</td>\n",
              "      <td>1</td>\n",
              "      <td>27</td>\n",
              "      <td>1</td>\n",
              "    </tr>\n",
              "    <tr>\n",
              "      <th>2</th>\n",
              "      <td>2</td>\n",
              "      <td>1</td>\n",
              "      <td>49</td>\n",
              "      <td>71613.0</td>\n",
              "      <td>0</td>\n",
              "      <td>776</td>\n",
              "      <td>0</td>\n",
              "    </tr>\n",
              "    <tr>\n",
              "      <th>3</th>\n",
              "      <td>3</td>\n",
              "      <td>0</td>\n",
              "      <td>30</td>\n",
              "      <td>26646.0</td>\n",
              "      <td>1</td>\n",
              "      <td>53</td>\n",
              "      <td>0</td>\n",
              "    </tr>\n",
              "    <tr>\n",
              "      <th>4</th>\n",
              "      <td>0</td>\n",
              "      <td>0</td>\n",
              "      <td>33</td>\n",
              "      <td>58293.0</td>\n",
              "      <td>1</td>\n",
              "      <td>422</td>\n",
              "      <td>0</td>\n",
              "    </tr>\n",
              "    <tr>\n",
              "      <th>...</th>\n",
              "      <td>...</td>\n",
              "      <td>...</td>\n",
              "      <td>...</td>\n",
              "      <td>...</td>\n",
              "      <td>...</td>\n",
              "      <td>...</td>\n",
              "      <td>...</td>\n",
              "    </tr>\n",
              "    <tr>\n",
              "      <th>2235</th>\n",
              "      <td>0</td>\n",
              "      <td>1</td>\n",
              "      <td>47</td>\n",
              "      <td>61223.0</td>\n",
              "      <td>0</td>\n",
              "      <td>1341</td>\n",
              "      <td>1</td>\n",
              "    </tr>\n",
              "    <tr>\n",
              "      <th>2236</th>\n",
              "      <td>0</td>\n",
              "      <td>0</td>\n",
              "      <td>68</td>\n",
              "      <td>64014.0</td>\n",
              "      <td>2</td>\n",
              "      <td>444</td>\n",
              "      <td>1</td>\n",
              "    </tr>\n",
              "    <tr>\n",
              "      <th>2237</th>\n",
              "      <td>0</td>\n",
              "      <td>0</td>\n",
              "      <td>33</td>\n",
              "      <td>56981.0</td>\n",
              "      <td>0</td>\n",
              "      <td>1241</td>\n",
              "      <td>0</td>\n",
              "    </tr>\n",
              "    <tr>\n",
              "      <th>2238</th>\n",
              "      <td>2</td>\n",
              "      <td>0</td>\n",
              "      <td>58</td>\n",
              "      <td>69245.0</td>\n",
              "      <td>0</td>\n",
              "      <td>843</td>\n",
              "      <td>1</td>\n",
              "    </tr>\n",
              "    <tr>\n",
              "      <th>2239</th>\n",
              "      <td>0</td>\n",
              "      <td>2</td>\n",
              "      <td>60</td>\n",
              "      <td>52869.0</td>\n",
              "      <td>1</td>\n",
              "      <td>172</td>\n",
              "      <td>1</td>\n",
              "    </tr>\n",
              "  </tbody>\n",
              "</table>\n",
              "<p>2213 rows × 7 columns</p>\n",
              "</div>\n",
              "      <button class=\"colab-df-convert\" onclick=\"convertToInteractive('df-d2206f6c-c044-4e33-bef4-1201e7f1a25d')\"\n",
              "              title=\"Convert this dataframe to an interactive table.\"\n",
              "              style=\"display:none;\">\n",
              "        \n",
              "  <svg xmlns=\"http://www.w3.org/2000/svg\" height=\"24px\"viewBox=\"0 0 24 24\"\n",
              "       width=\"24px\">\n",
              "    <path d=\"M0 0h24v24H0V0z\" fill=\"none\"/>\n",
              "    <path d=\"M18.56 5.44l.94 2.06.94-2.06 2.06-.94-2.06-.94-.94-2.06-.94 2.06-2.06.94zm-11 1L8.5 8.5l.94-2.06 2.06-.94-2.06-.94L8.5 2.5l-.94 2.06-2.06.94zm10 10l.94 2.06.94-2.06 2.06-.94-2.06-.94-.94-2.06-.94 2.06-2.06.94z\"/><path d=\"M17.41 7.96l-1.37-1.37c-.4-.4-.92-.59-1.43-.59-.52 0-1.04.2-1.43.59L10.3 9.45l-7.72 7.72c-.78.78-.78 2.05 0 2.83L4 21.41c.39.39.9.59 1.41.59.51 0 1.02-.2 1.41-.59l7.78-7.78 2.81-2.81c.8-.78.8-2.07 0-2.86zM5.41 20L4 18.59l7.72-7.72 1.47 1.35L5.41 20z\"/>\n",
              "  </svg>\n",
              "      </button>\n",
              "      \n",
              "  <style>\n",
              "    .colab-df-container {\n",
              "      display:flex;\n",
              "      flex-wrap:wrap;\n",
              "      gap: 12px;\n",
              "    }\n",
              "\n",
              "    .colab-df-convert {\n",
              "      background-color: #E8F0FE;\n",
              "      border: none;\n",
              "      border-radius: 50%;\n",
              "      cursor: pointer;\n",
              "      display: none;\n",
              "      fill: #1967D2;\n",
              "      height: 32px;\n",
              "      padding: 0 0 0 0;\n",
              "      width: 32px;\n",
              "    }\n",
              "\n",
              "    .colab-df-convert:hover {\n",
              "      background-color: #E2EBFA;\n",
              "      box-shadow: 0px 1px 2px rgba(60, 64, 67, 0.3), 0px 1px 3px 1px rgba(60, 64, 67, 0.15);\n",
              "      fill: #174EA6;\n",
              "    }\n",
              "\n",
              "    [theme=dark] .colab-df-convert {\n",
              "      background-color: #3B4455;\n",
              "      fill: #D2E3FC;\n",
              "    }\n",
              "\n",
              "    [theme=dark] .colab-df-convert:hover {\n",
              "      background-color: #434B5C;\n",
              "      box-shadow: 0px 1px 3px 1px rgba(0, 0, 0, 0.15);\n",
              "      filter: drop-shadow(0px 1px 2px rgba(0, 0, 0, 0.3));\n",
              "      fill: #FFFFFF;\n",
              "    }\n",
              "  </style>\n",
              "\n",
              "      <script>\n",
              "        const buttonEl =\n",
              "          document.querySelector('#df-d2206f6c-c044-4e33-bef4-1201e7f1a25d button.colab-df-convert');\n",
              "        buttonEl.style.display =\n",
              "          google.colab.kernel.accessAllowed ? 'block' : 'none';\n",
              "\n",
              "        async function convertToInteractive(key) {\n",
              "          const element = document.querySelector('#df-d2206f6c-c044-4e33-bef4-1201e7f1a25d');\n",
              "          const dataTable =\n",
              "            await google.colab.kernel.invokeFunction('convertToInteractive',\n",
              "                                                     [key], {});\n",
              "          if (!dataTable) return;\n",
              "\n",
              "          const docLinkHtml = 'Like what you see? Visit the ' +\n",
              "            '<a target=\"_blank\" href=https://colab.research.google.com/notebooks/data_table.ipynb>data table notebook</a>'\n",
              "            + ' to learn more about interactive tables.';\n",
              "          element.innerHTML = '';\n",
              "          dataTable['output_type'] = 'display_data';\n",
              "          await google.colab.output.renderOutput(dataTable, element);\n",
              "          const docLink = document.createElement('div');\n",
              "          docLink.innerHTML = docLinkHtml;\n",
              "          element.appendChild(docLink);\n",
              "        }\n",
              "      </script>\n",
              "    </div>\n",
              "  </div>\n",
              "  "
            ]
          },
          "metadata": {},
          "execution_count": 322
        }
      ]
    },
    {
      "cell_type": "code",
      "source": [
        "# Grupos de clientes\n",
        "df.groupby(['pred']).mean(numeric_only=True)[[\"Dt_Customer_seniority\",\"Age\",\"Income\",\"Kidhome\",\"Total_expenditures\",\"Teenhome\"]]"
      ],
      "metadata": {
        "colab": {
          "base_uri": "https://localhost:8080/",
          "height": 206
        },
        "id": "hatzqA741Rts",
        "outputId": "eb34f66e-59be-42d6-adb5-1cf1b525867a"
      },
      "execution_count": null,
      "outputs": [
        {
          "output_type": "execute_result",
          "data": {
            "text/plain": [
              "      Dt_Customer_seniority        Age         Income   Kidhome  \\\n",
              "pred                                                              \n",
              "0                  1.010178  47.896947   52317.615776  0.407125   \n",
              "1                  1.000000  37.000000  666666.000000  1.000000   \n",
              "2                  0.933140  46.485465   76922.316860  0.087209   \n",
              "3                  0.967480  40.788618   28304.456640  0.808943   \n",
              "\n",
              "      Total_expenditures  Teenhome  \n",
              "pred                                \n",
              "0             498.391858  0.823155  \n",
              "1              62.000000  0.000000  \n",
              "2            1281.261628  0.351744  \n",
              "3              94.895664  0.311653  "
            ],
            "text/html": [
              "\n",
              "  <div id=\"df-e79392a3-1247-4332-bcfe-9a85afe742f4\">\n",
              "    <div class=\"colab-df-container\">\n",
              "      <div>\n",
              "<style scoped>\n",
              "    .dataframe tbody tr th:only-of-type {\n",
              "        vertical-align: middle;\n",
              "    }\n",
              "\n",
              "    .dataframe tbody tr th {\n",
              "        vertical-align: top;\n",
              "    }\n",
              "\n",
              "    .dataframe thead th {\n",
              "        text-align: right;\n",
              "    }\n",
              "</style>\n",
              "<table border=\"1\" class=\"dataframe\">\n",
              "  <thead>\n",
              "    <tr style=\"text-align: right;\">\n",
              "      <th></th>\n",
              "      <th>Dt_Customer_seniority</th>\n",
              "      <th>Age</th>\n",
              "      <th>Income</th>\n",
              "      <th>Kidhome</th>\n",
              "      <th>Total_expenditures</th>\n",
              "      <th>Teenhome</th>\n",
              "    </tr>\n",
              "    <tr>\n",
              "      <th>pred</th>\n",
              "      <th></th>\n",
              "      <th></th>\n",
              "      <th></th>\n",
              "      <th></th>\n",
              "      <th></th>\n",
              "      <th></th>\n",
              "    </tr>\n",
              "  </thead>\n",
              "  <tbody>\n",
              "    <tr>\n",
              "      <th>0</th>\n",
              "      <td>1.010178</td>\n",
              "      <td>47.896947</td>\n",
              "      <td>52317.615776</td>\n",
              "      <td>0.407125</td>\n",
              "      <td>498.391858</td>\n",
              "      <td>0.823155</td>\n",
              "    </tr>\n",
              "    <tr>\n",
              "      <th>1</th>\n",
              "      <td>1.000000</td>\n",
              "      <td>37.000000</td>\n",
              "      <td>666666.000000</td>\n",
              "      <td>1.000000</td>\n",
              "      <td>62.000000</td>\n",
              "      <td>0.000000</td>\n",
              "    </tr>\n",
              "    <tr>\n",
              "      <th>2</th>\n",
              "      <td>0.933140</td>\n",
              "      <td>46.485465</td>\n",
              "      <td>76922.316860</td>\n",
              "      <td>0.087209</td>\n",
              "      <td>1281.261628</td>\n",
              "      <td>0.351744</td>\n",
              "    </tr>\n",
              "    <tr>\n",
              "      <th>3</th>\n",
              "      <td>0.967480</td>\n",
              "      <td>40.788618</td>\n",
              "      <td>28304.456640</td>\n",
              "      <td>0.808943</td>\n",
              "      <td>94.895664</td>\n",
              "      <td>0.311653</td>\n",
              "    </tr>\n",
              "  </tbody>\n",
              "</table>\n",
              "</div>\n",
              "      <button class=\"colab-df-convert\" onclick=\"convertToInteractive('df-e79392a3-1247-4332-bcfe-9a85afe742f4')\"\n",
              "              title=\"Convert this dataframe to an interactive table.\"\n",
              "              style=\"display:none;\">\n",
              "        \n",
              "  <svg xmlns=\"http://www.w3.org/2000/svg\" height=\"24px\"viewBox=\"0 0 24 24\"\n",
              "       width=\"24px\">\n",
              "    <path d=\"M0 0h24v24H0V0z\" fill=\"none\"/>\n",
              "    <path d=\"M18.56 5.44l.94 2.06.94-2.06 2.06-.94-2.06-.94-.94-2.06-.94 2.06-2.06.94zm-11 1L8.5 8.5l.94-2.06 2.06-.94-2.06-.94L8.5 2.5l-.94 2.06-2.06.94zm10 10l.94 2.06.94-2.06 2.06-.94-2.06-.94-.94-2.06-.94 2.06-2.06.94z\"/><path d=\"M17.41 7.96l-1.37-1.37c-.4-.4-.92-.59-1.43-.59-.52 0-1.04.2-1.43.59L10.3 9.45l-7.72 7.72c-.78.78-.78 2.05 0 2.83L4 21.41c.39.39.9.59 1.41.59.51 0 1.02-.2 1.41-.59l7.78-7.78 2.81-2.81c.8-.78.8-2.07 0-2.86zM5.41 20L4 18.59l7.72-7.72 1.47 1.35L5.41 20z\"/>\n",
              "  </svg>\n",
              "      </button>\n",
              "      \n",
              "  <style>\n",
              "    .colab-df-container {\n",
              "      display:flex;\n",
              "      flex-wrap:wrap;\n",
              "      gap: 12px;\n",
              "    }\n",
              "\n",
              "    .colab-df-convert {\n",
              "      background-color: #E8F0FE;\n",
              "      border: none;\n",
              "      border-radius: 50%;\n",
              "      cursor: pointer;\n",
              "      display: none;\n",
              "      fill: #1967D2;\n",
              "      height: 32px;\n",
              "      padding: 0 0 0 0;\n",
              "      width: 32px;\n",
              "    }\n",
              "\n",
              "    .colab-df-convert:hover {\n",
              "      background-color: #E2EBFA;\n",
              "      box-shadow: 0px 1px 2px rgba(60, 64, 67, 0.3), 0px 1px 3px 1px rgba(60, 64, 67, 0.15);\n",
              "      fill: #174EA6;\n",
              "    }\n",
              "\n",
              "    [theme=dark] .colab-df-convert {\n",
              "      background-color: #3B4455;\n",
              "      fill: #D2E3FC;\n",
              "    }\n",
              "\n",
              "    [theme=dark] .colab-df-convert:hover {\n",
              "      background-color: #434B5C;\n",
              "      box-shadow: 0px 1px 3px 1px rgba(0, 0, 0, 0.15);\n",
              "      filter: drop-shadow(0px 1px 2px rgba(0, 0, 0, 0.3));\n",
              "      fill: #FFFFFF;\n",
              "    }\n",
              "  </style>\n",
              "\n",
              "      <script>\n",
              "        const buttonEl =\n",
              "          document.querySelector('#df-e79392a3-1247-4332-bcfe-9a85afe742f4 button.colab-df-convert');\n",
              "        buttonEl.style.display =\n",
              "          google.colab.kernel.accessAllowed ? 'block' : 'none';\n",
              "\n",
              "        async function convertToInteractive(key) {\n",
              "          const element = document.querySelector('#df-e79392a3-1247-4332-bcfe-9a85afe742f4');\n",
              "          const dataTable =\n",
              "            await google.colab.kernel.invokeFunction('convertToInteractive',\n",
              "                                                     [key], {});\n",
              "          if (!dataTable) return;\n",
              "\n",
              "          const docLinkHtml = 'Like what you see? Visit the ' +\n",
              "            '<a target=\"_blank\" href=https://colab.research.google.com/notebooks/data_table.ipynb>data table notebook</a>'\n",
              "            + ' to learn more about interactive tables.';\n",
              "          element.innerHTML = '';\n",
              "          dataTable['output_type'] = 'display_data';\n",
              "          await google.colab.output.renderOutput(dataTable, element);\n",
              "          const docLink = document.createElement('div');\n",
              "          docLink.innerHTML = docLinkHtml;\n",
              "          element.appendChild(docLink);\n",
              "        }\n",
              "      </script>\n",
              "    </div>\n",
              "  </div>\n",
              "  "
            ]
          },
          "metadata": {},
          "execution_count": 323
        }
      ]
    },
    {
      "cell_type": "markdown",
      "metadata": {
        "id": "0Tjc6SLzqjV9"
      },
      "source": [
        "<h4> <b> Grupos de clientes </b> </h4>\n",
        "\n",
        "- **Grupo 0:** Este grupo tiene una duración media de la relación con la empresa (Dt_Customer_seniority) de alrededor de 10 meses, una edad promedio de 57 años, un ingreso promedio de 52,317 dólares y un promedio de 0.41 niños en casa. El gasto total promedio de los consumidores en este grupo es de 498.39 dólares, y **la mayoría de ellos tienen adolescentes en casa**.\n",
        "\n",
        "- **Grupo 1:** Este grupo tiene una duración de relación con la empresa de 10 meses, una edad promedio de 46 años y un ingreso promedio extremadamente alto de 666,666 dólares. **Este grupo tiene un niño en casa y no tiene adolescentes en casa.** Además, el gasto total promedio en este grupo es de solo 62 dólares.\n",
        "\n",
        "- **Grupo 2:** Este grupo tiene una duración de relación con la empresa de alrededor de 10 meses, una edad promedio de 55 años y un ingreso promedio de 76,922 dólares. El grupo tiene un promedio de 0.08 niños en casa y un promedio de 0.35 adolescentes en casa. **El gasto total promedio en este grupo es alto**, con un promedio de 1,281.26 dólares.\n",
        "\n",
        "- **Grupo 3:** Este grupo tiene una duración de relación con la empresa de alrededor de 10 meses, una edad promedio de 50 años y un ingreso promedio de 28,304 dólares. El grupo tiene en promedio 0.81 niños en casa y 0.31 adolescentes en casa. El gasto total promedio en este grupo es de 94.90 dólares."
      ]
    },
    {
      "cell_type": "markdown",
      "source": [
        "## 🔥 **Conclusión final**"
      ],
      "metadata": {
        "id": "ddxJpGMFYEXe"
      }
    },
    {
      "cell_type": "markdown",
      "source": [
        "Se ha encontrado una relación significativa entre el consumo y las características de los clientes.\n",
        "- Se han identificado patrones y segmentos de clientes con comportamientos similares, lo que ha permitido optimizar las estrategias de marketing.\n",
        "- El objetivo de optimizar los recursos para las campañas de marketing y ser más eficientes en la promoción de los productos se ha cumplido con éxito.\n",
        "- Se ha logrado discriminar los diferentes segmentos y grupos de clientes, permitiendo enfocar las campañas de marketing en los segmentos más propensos a comprar los productos.\n",
        "- El análisis de las características del cliente es una herramienta valiosa para comprender mejor a los clientes y adaptar productos y estrategias de marketing.\n",
        "\n",
        "En resumen, se ha demostrado que el análisis de las características del cliente es clave para mejorar la eficiencia en la promoción de productos y llegar a los clientes adecuados con una propuesta de valor diferencial. 🎯💰"
      ],
      "metadata": {
        "id": "gk-W_zh5XNKT"
      }
    },
    {
      "cell_type": "markdown",
      "source": [
        "<h4> <b> Relaciones con las variables </b> </h4>\n",
        "\n",
        "Las variables Income, NumWebPurchases, NumCatalogPurchases y NumStorePurchases están relacionadas con Total_expenditures, ya que todas ellas pueden influir en el gasto anual de un cliente.\n",
        "\n",
        "- **Income:** Los ingresos anuales del cliente pueden influir en su capacidad para gastar. Por lo general, los clientes con ingresos más altos tienen más capacidad para gastar que aquellos con ingresos más bajos. Por lo tanto, es posible que los clientes con ingresos más altos tengan un mayor gasto anual.\n",
        "\n",
        "- **NumWebPurchases:** El número de compras realizadas a través de la página web de la empresa puede estar relacionado con el gasto anual de un cliente. Los clientes que realizan más compras en línea pueden tener un gasto anual más alto que aquellos que realizan menos compras en línea.\n",
        "\n",
        "- **NumCatalogPurchases:** El número de compras realizadas a través de un catálogo también puede estar relacionado con el gasto anual de un cliente. Los clientes que realizan más compras a través de un catálogo pueden tener un gasto anual más alto que aquellos que realizan menos compras a través de un catálogo.\n",
        "\n",
        "- **NumStorePurchases:** El número de compras realizadas directamente en las tiendas también puede estar relacionado con el gasto anual de un cliente. Los clientes que realizan más compras en las tiendas pueden tener un gasto anual más alto que aquellos que realizan menos compras en las tiendas.\n",
        "\n",
        "En general, cuanto mayor sea el número de compras realizadas y cuanto mayores sean los ingresos de un cliente, es más probable que tenga un gasto anual más alto. Sin embargo, la relación exacta entre estas variables y el gasto anual puede variar según el comportamiento del cliente y las preferencias de compra."
      ],
      "metadata": {
        "id": "xNAAKiyIqvKH"
      }
    },
    {
      "cell_type": "markdown",
      "source": [
        "<h4> <b> Relaciones con los grupos </b> </h4>\n",
        "\n",
        "La segmentación de los consumidores en diferentes grupos es una herramienta valiosa para una campaña de marketing efectiva. Al comprender mejor a cada grupo, se puede personalizar la campaña para atender sus necesidades y comportamientos específicos.\n",
        "\n",
        "**Grupo 0:**\n",
        "- Campañas publicitarias enfocadas en productos y servicios que podrían ser útiles para los hogares con adolescentes.\n",
        "- Ofertas especiales para las compras de adolescentes en línea y en tiendas físicas.\n",
        "- Descuentos especiales y promociones para las compras repetidas de productos y servicios relacionados con adolescentes.\n",
        "\n",
        "**Grupo 1:**\n",
        "\n",
        "- Campañas publicitarias enfocadas en productos y servicios de lujo y exclusivos.\n",
        "- Ofertas personalizadas y promociones especiales en productos de alta gama.\n",
        "- Oportunidades de acceso a eventos exclusivos.\n",
        "\n",
        "**Grupo 2:**\n",
        "\n",
        "- Campañas publicitarias enfocadas en productos y servicios para adultos mayores y sus hijos adolescentes.\n",
        "-Ofertas de descuentos para la compra de productos y servicios en línea y en tiendas físicas.\n",
        "- Oportunidades para conocer nuevas personas y socializar con otros adultos mayores.\n",
        "\n",
        "**Grupo 3:**\n",
        "\n",
        "- Campañas publicitarias enfocadas en productos y servicios que son asequibles y duraderos.\n",
        "- Ofertas de descuentos para la compra de productos y servicios en línea y en tiendas físicas.\n",
        "- Promociones especiales para la lealtad del cliente y la compra repetida."
      ],
      "metadata": {
        "id": "Z3tKGH-7pKdZ"
      }
    },
    {
      "cell_type": "markdown",
      "source": [
        "## 🙋‍♂️ **Autores** \n"
      ],
      "metadata": {
        "id": "r6RqhnwRsXig"
      }
    },
    {
      "cell_type": "markdown",
      "source": [
        "El presente trabajo fue realizado por \n",
        " - [**Francisco Sesto**](https://www.linkedin.com/in/francisco-sesto/)   \n",
        " - [**Teo Fornari**](https://www.linkedin.com/in/teo-fornari-a92267206/ ) "
      ],
      "metadata": {
        "id": "FaEnIvgytA2W"
      }
    }
  ],
  "metadata": {
    "colab": {
      "collapsed_sections": [
        "OuGaWgpzUPdm",
        "BKS7UXT9m1QY",
        "VNd222rWI8UU"
      ],
      "provenance": [],
      "toc_visible": true
    },
    "kernelspec": {
      "display_name": "Python 3",
      "name": "python3"
    },
    "language_info": {
      "name": "python"
    }
  },
  "nbformat": 4,
  "nbformat_minor": 0
}